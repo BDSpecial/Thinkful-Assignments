{
 "cells": [
  {
   "cell_type": "code",
   "execution_count": 1,
   "metadata": {
    "collapsed": true
   },
   "outputs": [],
   "source": [
    "import pandas as pd\n",
    "import numpy as np\n",
    "import matplotlib.pyplot as plt\n",
    "%matplotlib inline\n",
    "\n",
    "import math\n",
    "from matplotlib.mlab import PCA as mlabPCA\n",
    "\n",
    "from sklearn import ensemble\n",
    "from sklearn.model_selection import cross_val_score\n",
    "from sklearn.preprocessing import StandardScaler\n",
    "from sklearn.decomposition import PCA\n",
    "\n",
    "import warnings\n",
    "warnings.filterwarnings(\"ignore\")"
   ]
  },
  {
   "cell_type": "markdown",
   "metadata": {},
   "source": [
    "This drill uses data from the Lending Club to predict the state of a loan given some information about it."
   ]
  },
  {
   "cell_type": "code",
   "execution_count": 2,
   "metadata": {},
   "outputs": [],
   "source": [
    "# The path for my data.\n",
    "y2015 = pd.read_csv(\n",
    "    'LoanStats3d.csv',\n",
    "    skipinitialspace=True,\n",
    "    header=1\n",
    ")"
   ]
  },
  {
   "cell_type": "code",
   "execution_count": 3,
   "metadata": {
    "collapsed": true
   },
   "outputs": [],
   "source": [
    "# Convert Interest Rate to numeric.\n",
    "y2015['int_rate'] = pd.to_numeric(y2015['int_rate'].str.strip('%'), errors='coerce')\n",
    "\n",
    "# Drop other columns with many unique variables\n",
    "y2015.drop(['url', 'emp_title', 'zip_code', 'earliest_cr_line', 'revol_util',\n",
    "            'sub_grade', 'addr_state', 'desc'], 1, inplace=True)"
   ]
  },
  {
   "cell_type": "code",
   "execution_count": 4,
   "metadata": {
    "collapsed": true
   },
   "outputs": [],
   "source": [
    "# Remove two summary rows at the end that don't actually contain data.\n",
    "y2015 = y2015[:-2]"
   ]
  },
  {
   "cell_type": "markdown",
   "metadata": {},
   "source": [
    "This is the lesson's example of the cross validation score for the accuracy of the tree. Here we're about 98% accurate.\n",
    "However, there are a few potential problems. In the lesson they didn't do much in the way of feature selection or model refinement. As such there are a lot of features in there that we don't really need. Some of them are actually quite impressively useless. There's also some variance in the scores. The fact that one gave us only 93% accuracy while others gave higher than 98 is concerning. This variance could be corrected by increasing the number of estimators. That will make it take even longer to run, however, and it is already quite slow."
   ]
  },
  {
   "cell_type": "code",
   "execution_count": 9,
   "metadata": {},
   "outputs": [
    {
     "data": {
      "text/plain": [
       "array([ 0.9853252 ,  0.98594225,  0.98627437,  0.98684429,  0.98572752,\n",
       "        0.9836377 ,  0.98610748,  0.9843494 ,  0.9842544 ,  0.98342318])"
      ]
     },
     "execution_count": 9,
     "metadata": {},
     "output_type": "execute_result"
    }
   ],
   "source": [
    "rfc = ensemble.RandomForestClassifier()\n",
    "X = y2015.drop('loan_status', 1)\n",
    "Y = y2015['loan_status']\n",
    "X = pd.get_dummies(X)\n",
    "X = X.dropna(axis=1)\n",
    "\n",
    "cross_val_score(rfc, X, Y, cv=10)"
   ]
  },
  {
   "cell_type": "markdown",
   "metadata": {},
   "source": [
    "# DRILL: Third Attempt\n",
    "So here's your task. Get rid of as much data as possible without dropping below an average of 90% accuracy in a 10-fold cross validation.\n",
    "You'll want to do a few things in this process. First, dive into the data that we have and see which features are most important. This can be the raw features or the generated dummies. You may want to use PCA or correlation matrices.\n",
    "Can you do it without using anything related to payment amount or outstanding principal? How do you know?"
   ]
  },
  {
   "cell_type": "markdown",
   "metadata": {},
   "source": [
    "I begin by dropping all the columns with null values"
   ]
  },
  {
   "cell_type": "code",
   "execution_count": 5,
   "metadata": {
    "collapsed": true
   },
   "outputs": [],
   "source": [
    "y2015=y2015.dropna(axis=1,how='any')"
   ]
  },
  {
   "cell_type": "markdown",
   "metadata": {},
   "source": [
    "I am approaching this drill by transforming my data with a PCA. I started by dropping the loan_status column and then changing the remaining features into the get_dummies dataframe. I  normalized the data. Then I start to recreate the PCA lesson by changing my data into a covariance matrix. "
   ]
  },
  {
   "cell_type": "code",
   "execution_count": 6,
   "metadata": {
    "scrolled": true
   },
   "outputs": [
    {
     "name": "stdout",
     "output_type": "stream",
     "text": [
      "Covariance Matrix:\n",
      " [[  1.00000237e+00   1.00000237e+00   9.99996862e-01 ...,   0.00000000e+00\n",
      "    4.63903124e-04  -4.63903124e-04]\n",
      " [  1.00000237e+00   1.00000237e+00   9.99996862e-01 ...,   0.00000000e+00\n",
      "    4.63903124e-04  -4.63903124e-04]\n",
      " [  9.99996862e-01   9.99996862e-01   1.00000237e+00 ...,   0.00000000e+00\n",
      "    5.02365659e-04  -5.02365659e-04]\n",
      " ..., \n",
      " [  0.00000000e+00   0.00000000e+00   0.00000000e+00 ...,   0.00000000e+00\n",
      "    0.00000000e+00   0.00000000e+00]\n",
      " [  4.63903124e-04   4.63903124e-04   5.02365659e-04 ...,   0.00000000e+00\n",
      "    1.00000237e+00  -1.00000237e+00]\n",
      " [ -4.63903124e-04  -4.63903124e-04  -5.02365659e-04 ...,   0.00000000e+00\n",
      "   -1.00000237e+00   1.00000237e+00]]\n"
     ]
    }
   ],
   "source": [
    "X = y2015.drop('loan_status', 1)\n",
    "Y = y2015['loan_status']\n",
    "X = pd.get_dummies(X)\n",
    "# Normalize the data so that all variables have a mean of 0 and standard deviation\n",
    "# of 1.\n",
    "X = StandardScaler().fit_transform(X)\n",
    "\n",
    "# The NumPy covariance function assumes that variables are represented by rows,\n",
    "# not columns, so we transpose X.\n",
    "Xt = X.T\n",
    "Cx = np.cov(Xt)\n",
    "print('Covariance Matrix:\\n', Cx)"
   ]
  },
  {
   "cell_type": "markdown",
   "metadata": {},
   "source": [
    "I am now calculating the eigenvalues and eigenvectors. I then print out the total variance in the dataset explained by each component."
   ]
  },
  {
   "cell_type": "code",
   "execution_count": 7,
   "metadata": {
    "scrolled": true
   },
   "outputs": [
    {
     "name": "stdout",
     "output_type": "stream",
     "text": [
      "The percentage of total variance in the dataset explained by each component calculated by hand.\n",
      " [  9.19335446e-02 +0.00000000e+00j   5.28102054e-02 +0.00000000e+00j\n",
      "   3.88057452e-02 +0.00000000e+00j   3.17492823e-02 +0.00000000e+00j\n",
      "   3.08569313e-02 +0.00000000e+00j   2.75093150e-02 +0.00000000e+00j\n",
      "   2.22510990e-02 +0.00000000e+00j   2.11214262e-02 +0.00000000e+00j\n",
      "   1.96625984e-02 +0.00000000e+00j   1.79196570e-02 +0.00000000e+00j\n",
      "   1.70009728e-02 +0.00000000e+00j   1.60684092e-02 +0.00000000e+00j\n",
      "   1.50882798e-02 +0.00000000e+00j   1.46596976e-02 +0.00000000e+00j\n",
      "   1.41459669e-02 +0.00000000e+00j   1.37780013e-02 +0.00000000e+00j\n",
      "   1.30693950e-02 +0.00000000e+00j   1.23621896e-02 +0.00000000e+00j\n",
      "   1.16908141e-02 +0.00000000e+00j   1.14870702e-02 +0.00000000e+00j\n",
      "   1.11402688e-02 +0.00000000e+00j   2.63699502e-03 +0.00000000e+00j\n",
      "   2.89134305e-03 +0.00000000e+00j   3.18198555e-03 +0.00000000e+00j\n",
      "   2.24057280e-03 +0.00000000e+00j   3.72478616e-03 +0.00000000e+00j\n",
      "   4.20128060e-03 +0.00000000e+00j   2.00928418e-03 +0.00000000e+00j\n",
      "   1.81519479e-03 +0.00000000e+00j   1.76059922e-03 +0.00000000e+00j\n",
      "   1.78781218e-03 +0.00000000e+00j   1.67548945e-03 +0.00000000e+00j\n",
      "   3.88868746e-03 +0.00000000e+00j   4.97400734e-03 +0.00000000e+00j\n",
      "   5.10077243e-03 +0.00000000e+00j   1.07646905e-02 +0.00000000e+00j\n",
      "   1.08433302e-03 +0.00000000e+00j   5.53206946e-03 +0.00000000e+00j\n",
      "   9.74943001e-04 +0.00000000e+00j   8.76190561e-04 +0.00000000e+00j\n",
      "   7.46490141e-04 +0.00000000e+00j   1.05242676e-02 +0.00000000e+00j\n",
      "   5.92906054e-03 +0.00000000e+00j   5.97351086e-03 +0.00000000e+00j\n",
      "   5.80844455e-04 +0.00000000e+00j   5.48292281e-04 +0.00000000e+00j\n",
      "   1.01464948e-02 +0.00000000e+00j   3.15471404e-04 +0.00000000e+00j\n",
      "   2.36167515e-04 +0.00000000e+00j   2.30421913e-04 +0.00000000e+00j\n",
      "   6.81199682e-03 +0.00000000e+00j   6.98582437e-03 +0.00000000e+00j\n",
      "   7.19279314e-03 +0.00000000e+00j   1.25942266e-04 +0.00000000e+00j\n",
      "   1.19624495e-04 +0.00000000e+00j   1.06245421e-04 +0.00000000e+00j\n",
      "   1.00323753e-04 +0.00000000e+00j   7.43906803e-03 +0.00000000e+00j\n",
      "   7.72813544e-03 +0.00000000e+00j   9.69335487e-03 +0.00000000e+00j\n",
      "   9.63491545e-03 +0.00000000e+00j   7.87940769e-03 +0.00000000e+00j\n",
      "   9.53661675e-03 +0.00000000e+00j   9.49484567e-03 +0.00000000e+00j\n",
      "   8.02958611e-03 +0.00000000e+00j   9.37194069e-03 +0.00000000e+00j\n",
      "   8.14515894e-03 +0.00000000e+00j   9.31679025e-03 +0.00000000e+00j\n",
      "   9.30042563e-03 +0.00000000e+00j   8.19116205e-03 +0.00000000e+00j\n",
      "   9.21467849e-03 +0.00000000e+00j   8.25185690e-03 +0.00000000e+00j\n",
      "   9.24093664e-03 +0.00000000e+00j   9.18066887e-03 +0.00000000e+00j\n",
      "   9.15699521e-03 +0.00000000e+00j   8.37772352e-03 +0.00000000e+00j\n",
      "   8.38807081e-03 +0.00000000e+00j   9.10765787e-03 +0.00000000e+00j\n",
      "   9.11603567e-03 +0.00000000e+00j   9.05792479e-03 +0.00000000e+00j\n",
      "   9.02868859e-03 +0.00000000e+00j   8.91626071e-03 +0.00000000e+00j\n",
      "   8.60841391e-03 +0.00000000e+00j   9.00836047e-03 +0.00000000e+00j\n",
      "   8.86336177e-03 +0.00000000e+00j   8.83329028e-03 +0.00000000e+00j\n",
      "   8.58058919e-03 +0.00000000e+00j   8.68579788e-03 +0.00000000e+00j\n",
      "   8.80501565e-03 +0.00000000e+00j   8.98401437e-03 +0.00000000e+00j\n",
      "   8.55006842e-03 +0.00000000e+00j   8.96267255e-03 +0.00000000e+00j\n",
      "   8.81007281e-03 +0.00000000e+00j   8.70230762e-03 +0.00000000e+00j\n",
      "   8.50190550e-03 +0.00000000e+00j   8.52136680e-03 +0.00000000e+00j\n",
      "   8.47772169e-03 +0.00000000e+00j   8.46111618e-03 +0.00000000e+00j\n",
      "   8.46294462e-03 +0.00000000e+00j   8.46696244e-03 +0.00000000e+00j\n",
      "   9.31557542e-06 +0.00000000e+00j   1.04890967e-07 +0.00000000e+00j\n",
      "   1.11791200e-08 +0.00000000e+00j   2.42899303e-09 +0.00000000e+00j\n",
      "   1.07307898e-16 +0.00000000e+00j   8.98142608e-17 +0.00000000e+00j\n",
      "   5.00795005e-17 +0.00000000e+00j  -3.29438394e-17 +0.00000000e+00j\n",
      "   1.68445884e-17 +0.00000000e+00j  -2.65334867e-17 +0.00000000e+00j\n",
      "  -6.18354774e-18 +0.00000000e+00j   6.02303181e-18 +0.00000000e+00j\n",
      "   3.50259339e-18 +0.00000000e+00j  -1.79808480e-18 +0.00000000e+00j\n",
      "   2.67381969e-18 +0.00000000e+00j   1.28924227e-18 +5.98844364e-19j\n",
      "   1.28924227e-18 -5.98844364e-19j   1.06569474e-33 +0.00000000e+00j\n",
      "   0.00000000e+00 +0.00000000e+00j   0.00000000e+00 +0.00000000e+00j]\n"
     ]
    }
   ],
   "source": [
    "# Calculating eigenvalues and eigenvectors.\n",
    "eig_val_cov, eig_vec_cov = np.linalg.eig(Cx)\n",
    "\n",
    "print(\n",
    "    'The percentage of total variance in the dataset explained by each',\n",
    "    'component calculated by hand.\\n',\n",
    "    eig_val_cov / sum(eig_val_cov)\n",
    ")"
   ]
  },
  {
   "cell_type": "markdown",
   "metadata": {},
   "source": [
    "This is a basic plot of the eigenvalues"
   ]
  },
  {
   "cell_type": "code",
   "execution_count": 8,
   "metadata": {
    "scrolled": true
   },
   "outputs": [
    {
     "data": {
      "image/png": "[encoded data removed]",
      "text/plain": [
       "<matplotlib.figure.Figure at 0x12920a160>"
      ]
     },
     "metadata": {},
     "output_type": "display_data"
    }
   ],
   "source": [
    "plt.plot(eig_val_cov)\n",
    "plt.show()"
   ]
  },
  {
   "cell_type": "markdown",
   "metadata": {},
   "source": [
    "The length of the eigenvector encodes the proportion of total variance explained by a component. The total variance is equal to the number of variables in the PCA. Thus, an Eigenvalue of 1 means that the component explains the same amount of variance as one variable. An eigenvalue greater than 1 is desirable, since a component with an eigenvalue of 1 adds no value beyond the information contained in any individual variable, and an eigenvalue of less than 1 is actually less efficient at conveying information than a variable by itself. Here I print out all the Eigenvalues that are greater than 1. "
   ]
  },
  {
   "cell_type": "code",
   "execution_count": 9,
   "metadata": {
    "scrolled": true
   },
   "outputs": [
    {
     "name": "stdout",
     "output_type": "stream",
     "text": [
      "(10.8481840263+0j)\n",
      "(6.23161903474+0j)\n",
      "(4.57908881191+0j)\n",
      "(3.74642420991+0j)\n",
      "(3.64112654392+0j)\n",
      "(3.24610687539+0j)\n",
      "(2.62563591759+0j)\n",
      "(2.49233420566+0j)\n",
      "(2.32019212581+0j)\n",
      "(2.11452454778+0j)\n",
      "(2.00611954919+0j)\n",
      "(1.89607678663+0j)\n",
      "(1.78042124046+0j)\n",
      "(1.72984842673+0j)\n",
      "(1.66922805543+0j)\n",
      "(1.62580801118+0j)\n",
      "(1.54219227269+0j)\n",
      "(1.45874183367+0j)\n",
      "(1.37951934157+0j)\n",
      "(1.3554774995+0j)\n",
      "(1.31455484047+0j)\n",
      "(1.27023649369+0j)\n",
      "(1.24186652867+0j)\n",
      "(1.19728923054+0j)\n",
      "(1.14381859037+0j)\n",
      "(1.13692272346+0j)\n",
      "(1.12532344898+0j)\n",
      "(1.12039444938+0j)\n",
      "(1.10589162716+0j)\n",
      "(1.0993838598+0j)\n",
      "(1.097452831+0j)\n",
      "(1.08733464384+0j)\n",
      "(1.09043311307+0j)\n",
      "(1.08332149878+0j)\n",
      "(1.08052800136+0j)\n",
      "(1.07470618134+0j)\n",
      "(1.07569476306+0j)\n",
      "(1.06883766335+0j)\n",
      "(1.06538778312+0j)\n",
      "(1.05212126177+0j)\n",
      "(1.01579525319+0j)\n",
      "(1.06298906036+0j)\n",
      "(1.04587917262+0j)\n",
      "(1.04233072856+0j)\n",
      "(1.01251192835+0j)\n",
      "(1.02492658407+0j)\n",
      "(1.0389943142+0j)\n",
      "(1.06011621276+0j)\n",
      "(1.00891046901+0j)\n",
      "(1.05759787213+0j)\n",
      "(1.03959106063+0j)\n",
      "(1.02687473784+0j)\n",
      "(1.00322723164+0j)\n",
      "(1.0055236707+0j)\n",
      "(1.00037353488+0j)\n"
     ]
    }
   ],
   "source": [
    "for each in eig_val_cov:\n",
    "    if each > 1:\n",
    "        print(each)"
   ]
  },
  {
   "cell_type": "markdown",
   "metadata": {},
   "source": [
    "At the end of the PCA lesson it says, \"We then take $P$, choose the eigenvectors corresponding to the most variance explained ($P_{var}$), and use it to transform the original data $X$ (via $P_{var}X$) into $Y$, a new simplified dataset with as many columns as eigenvectors in ($P_{var}$).\" "
   ]
  },
  {
   "cell_type": "code",
   "execution_count": 16,
   "metadata": {
    "scrolled": false
   },
   "outputs": [],
   "source": [
    "# Create P, which we will use to transform Cx into Cy to get Y, the\n",
    "# dimensionally-reduced representation of X.\n",
    "P = eig_vec_cov[:, 0:40]\n",
    "\n",
    "# Transform X into the new features.\n",
    "X_new_features = P.T.dot(Xt)\n",
    "# Transpose these new features into the correct matrix\n",
    "new_features = X_new_features.T"
   ]
  },
  {
   "cell_type": "markdown",
   "metadata": {},
   "source": [
    "Now I take this new simplified dataset and use in the random forest classifier with my outcome of interest, loan status. After running this model several times, I learned that 40 eigenvectors were required to reach an accuracy of 90%. "
   ]
  },
  {
   "cell_type": "code",
   "execution_count": 17,
   "metadata": {},
   "outputs": [
    {
     "data": {
      "text/plain": [
       "array([ 0.900672  ,  0.90658245,  0.90612904,  0.91315808,  0.91343893,\n",
       "        0.91006673,  0.9037023 ,  0.89521932,  0.87462892,  0.8145439 ])"
      ]
     },
     "execution_count": 17,
     "metadata": {},
     "output_type": "execute_result"
    }
   ],
   "source": [
    "rfc = ensemble.RandomForestClassifier()\n",
    "cross_val_score(rfc, new_features, Y, cv=10)"
   ]
  }
 ],
 "metadata": {
  "kernelspec": {
   "display_name": "Python 3",
   "language": "python",
   "name": "python3"
  },
  "language_info": {
   "codemirror_mode": {
    "name": "ipython",
    "version": 3
   },
   "file_extension": ".py",
   "mimetype": "text/x-python",
   "name": "python",
   "nbconvert_exporter": "python",
   "pygments_lexer": "ipython3",
   "version": "3.6.2"
  }
 },
 "nbformat": 4,
 "nbformat_minor": 2
}
