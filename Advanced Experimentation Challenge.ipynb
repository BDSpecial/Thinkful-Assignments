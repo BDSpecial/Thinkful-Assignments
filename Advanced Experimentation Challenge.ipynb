{
 "cells": [
  {
   "cell_type": "markdown",
   "metadata": {},
   "source": [
    "In this dataset, the same participants answered questions in 2012 and again 2014.\n",
    "\n",
    "1. Did people become less trusting from 2012 to 2014? Compute results for each country in the sample.\n",
    "2. Did people become happier from 2012 to 2014? Compute results for each country in the sample.\n",
    "3. Who reported watching more TV in 2012, men or women?\n",
    "4. Who was more likely to believe people were fair in 2012, people living with a partner or people living alone?\n",
    "5. Pick three or four of the countries in the sample and compare how often people met socially in 2014. Are there differences, and if so, which countries stand out?\n",
    "6. Pick three or four of the countries in the sample and compare how often people took part in social activities, relative to others their age, in 2014. Are there differences, and if so, which countries stand out?"
   ]
  },
  {
   "cell_type": "code",
   "execution_count": 1,
   "metadata": {},
   "outputs": [],
   "source": [
    "import pandas as pd\n",
    "import numpy as np\n",
    "import matplotlib.pyplot as plt\n",
    "import scipy as sp\n",
    "import seaborn as sns\n",
    "import scipy.stats as stats\n",
    "%matplotlib inline"
   ]
  },
  {
   "cell_type": "code",
   "execution_count": 2,
   "metadata": {},
   "outputs": [],
   "source": [
    "data = pd.read_csv('https://raw.githubusercontent.com/Thinkful-Ed/data-201-resources/master/ESS_practice_data/ESSdata_Thinkful.csv')"
   ]
  },
  {
   "cell_type": "code",
   "execution_count": 3,
   "metadata": {},
   "outputs": [
    {
     "data": {
      "text/plain": [
       "(8594, 13)"
      ]
     },
     "execution_count": 3,
     "metadata": {},
     "output_type": "execute_result"
    }
   ],
   "source": [
    "data.shape"
   ]
  },
  {
   "cell_type": "code",
   "execution_count": 4,
   "metadata": {},
   "outputs": [
    {
     "data": {
      "text/html": [
       "<div>\n",
       "<style scoped>\n",
       "    .dataframe tbody tr th:only-of-type {\n",
       "        vertical-align: middle;\n",
       "    }\n",
       "\n",
       "    .dataframe tbody tr th {\n",
       "        vertical-align: top;\n",
       "    }\n",
       "\n",
       "    .dataframe thead th {\n",
       "        text-align: right;\n",
       "    }\n",
       "</style>\n",
       "<table border=\"1\" class=\"dataframe\">\n",
       "  <thead>\n",
       "    <tr style=\"text-align: right;\">\n",
       "      <th></th>\n",
       "      <th>idno</th>\n",
       "      <th>year</th>\n",
       "      <th>tvtot</th>\n",
       "      <th>ppltrst</th>\n",
       "      <th>pplfair</th>\n",
       "      <th>pplhlp</th>\n",
       "      <th>happy</th>\n",
       "      <th>sclmeet</th>\n",
       "      <th>sclact</th>\n",
       "      <th>gndr</th>\n",
       "      <th>agea</th>\n",
       "      <th>partner</th>\n",
       "    </tr>\n",
       "  </thead>\n",
       "  <tbody>\n",
       "    <tr>\n",
       "      <th>count</th>\n",
       "      <td>8.594000e+03</td>\n",
       "      <td>8594.000000</td>\n",
       "      <td>8586.000000</td>\n",
       "      <td>8580.000000</td>\n",
       "      <td>8555.000000</td>\n",
       "      <td>8569.000000</td>\n",
       "      <td>8563.000000</td>\n",
       "      <td>8579.000000</td>\n",
       "      <td>8500.000000</td>\n",
       "      <td>8584.000000</td>\n",
       "      <td>8355.000000</td>\n",
       "      <td>8577.000000</td>\n",
       "    </tr>\n",
       "    <tr>\n",
       "      <th>mean</th>\n",
       "      <td>3.954938e+04</td>\n",
       "      <td>6.500000</td>\n",
       "      <td>3.861985</td>\n",
       "      <td>5.559907</td>\n",
       "      <td>6.005143</td>\n",
       "      <td>5.319874</td>\n",
       "      <td>7.694616</td>\n",
       "      <td>5.192563</td>\n",
       "      <td>2.748941</td>\n",
       "      <td>1.497204</td>\n",
       "      <td>47.470736</td>\n",
       "      <td>1.384867</td>\n",
       "    </tr>\n",
       "    <tr>\n",
       "      <th>std</th>\n",
       "      <td>6.267259e+05</td>\n",
       "      <td>0.500029</td>\n",
       "      <td>2.019689</td>\n",
       "      <td>2.233700</td>\n",
       "      <td>2.129866</td>\n",
       "      <td>2.173449</td>\n",
       "      <td>1.735904</td>\n",
       "      <td>1.457643</td>\n",
       "      <td>0.905477</td>\n",
       "      <td>0.500021</td>\n",
       "      <td>18.397369</td>\n",
       "      <td>0.486592</td>\n",
       "    </tr>\n",
       "    <tr>\n",
       "      <th>min</th>\n",
       "      <td>1.000000e+00</td>\n",
       "      <td>6.000000</td>\n",
       "      <td>0.000000</td>\n",
       "      <td>0.000000</td>\n",
       "      <td>0.000000</td>\n",
       "      <td>0.000000</td>\n",
       "      <td>0.000000</td>\n",
       "      <td>1.000000</td>\n",
       "      <td>1.000000</td>\n",
       "      <td>1.000000</td>\n",
       "      <td>15.000000</td>\n",
       "      <td>1.000000</td>\n",
       "    </tr>\n",
       "    <tr>\n",
       "      <th>25%</th>\n",
       "      <td>1.052000e+03</td>\n",
       "      <td>6.000000</td>\n",
       "      <td>2.000000</td>\n",
       "      <td>4.000000</td>\n",
       "      <td>5.000000</td>\n",
       "      <td>4.000000</td>\n",
       "      <td>7.000000</td>\n",
       "      <td>4.000000</td>\n",
       "      <td>2.000000</td>\n",
       "      <td>1.000000</td>\n",
       "      <td>33.000000</td>\n",
       "      <td>1.000000</td>\n",
       "    </tr>\n",
       "    <tr>\n",
       "      <th>50%</th>\n",
       "      <td>1.714000e+03</td>\n",
       "      <td>6.500000</td>\n",
       "      <td>4.000000</td>\n",
       "      <td>6.000000</td>\n",
       "      <td>6.000000</td>\n",
       "      <td>5.000000</td>\n",
       "      <td>8.000000</td>\n",
       "      <td>6.000000</td>\n",
       "      <td>3.000000</td>\n",
       "      <td>1.000000</td>\n",
       "      <td>47.000000</td>\n",
       "      <td>1.000000</td>\n",
       "    </tr>\n",
       "    <tr>\n",
       "      <th>75%</th>\n",
       "      <td>2.745000e+03</td>\n",
       "      <td>7.000000</td>\n",
       "      <td>5.000000</td>\n",
       "      <td>7.000000</td>\n",
       "      <td>8.000000</td>\n",
       "      <td>7.000000</td>\n",
       "      <td>9.000000</td>\n",
       "      <td>6.000000</td>\n",
       "      <td>3.000000</td>\n",
       "      <td>2.000000</td>\n",
       "      <td>62.000000</td>\n",
       "      <td>2.000000</td>\n",
       "    </tr>\n",
       "    <tr>\n",
       "      <th>max</th>\n",
       "      <td>1.100143e+07</td>\n",
       "      <td>7.000000</td>\n",
       "      <td>7.000000</td>\n",
       "      <td>10.000000</td>\n",
       "      <td>10.000000</td>\n",
       "      <td>10.000000</td>\n",
       "      <td>10.000000</td>\n",
       "      <td>7.000000</td>\n",
       "      <td>5.000000</td>\n",
       "      <td>2.000000</td>\n",
       "      <td>114.000000</td>\n",
       "      <td>2.000000</td>\n",
       "    </tr>\n",
       "  </tbody>\n",
       "</table>\n",
       "</div>"
      ],
      "text/plain": [
       "               idno         year        tvtot      ppltrst      pplfair  \\\n",
       "count  8.594000e+03  8594.000000  8586.000000  8580.000000  8555.000000   \n",
       "mean   3.954938e+04     6.500000     3.861985     5.559907     6.005143   \n",
       "std    6.267259e+05     0.500029     2.019689     2.233700     2.129866   \n",
       "min    1.000000e+00     6.000000     0.000000     0.000000     0.000000   \n",
       "25%    1.052000e+03     6.000000     2.000000     4.000000     5.000000   \n",
       "50%    1.714000e+03     6.500000     4.000000     6.000000     6.000000   \n",
       "75%    2.745000e+03     7.000000     5.000000     7.000000     8.000000   \n",
       "max    1.100143e+07     7.000000     7.000000    10.000000    10.000000   \n",
       "\n",
       "            pplhlp        happy      sclmeet       sclact         gndr  \\\n",
       "count  8569.000000  8563.000000  8579.000000  8500.000000  8584.000000   \n",
       "mean      5.319874     7.694616     5.192563     2.748941     1.497204   \n",
       "std       2.173449     1.735904     1.457643     0.905477     0.500021   \n",
       "min       0.000000     0.000000     1.000000     1.000000     1.000000   \n",
       "25%       4.000000     7.000000     4.000000     2.000000     1.000000   \n",
       "50%       5.000000     8.000000     6.000000     3.000000     1.000000   \n",
       "75%       7.000000     9.000000     6.000000     3.000000     2.000000   \n",
       "max      10.000000    10.000000     7.000000     5.000000     2.000000   \n",
       "\n",
       "              agea      partner  \n",
       "count  8355.000000  8577.000000  \n",
       "mean     47.470736     1.384867  \n",
       "std      18.397369     0.486592  \n",
       "min      15.000000     1.000000  \n",
       "25%      33.000000     1.000000  \n",
       "50%      47.000000     1.000000  \n",
       "75%      62.000000     2.000000  \n",
       "max     114.000000     2.000000  "
      ]
     },
     "execution_count": 4,
     "metadata": {},
     "output_type": "execute_result"
    }
   ],
   "source": [
    "data.describe()"
   ]
  },
  {
   "cell_type": "code",
   "execution_count": 5,
   "metadata": {},
   "outputs": [
    {
     "name": "stdout",
     "output_type": "stream",
     "text": [
      "cntry        0\n",
      "idno         0\n",
      "year         0\n",
      "tvtot        8\n",
      "ppltrst     14\n",
      "pplfair     39\n",
      "pplhlp      25\n",
      "happy       31\n",
      "sclmeet     15\n",
      "sclact      94\n",
      "gndr        10\n",
      "agea       239\n",
      "partner     17\n",
      "dtype: int64\n"
     ]
    }
   ],
   "source": [
    "#Before I go any further I want to check in there are any null values in my dataset\n",
    "print(data.isnull().sum())"
   ]
  },
  {
   "cell_type": "code",
   "execution_count": 6,
   "metadata": {},
   "outputs": [
    {
     "data": {
      "text/plain": [
       "array(['CH', 'CZ', 'DE', 'ES', 'NO', 'SE'], dtype=object)"
      ]
     },
     "execution_count": 6,
     "metadata": {},
     "output_type": "execute_result"
    }
   ],
   "source": [
    "np.unique(data['cntry'])"
   ]
  },
  {
   "cell_type": "code",
   "execution_count": 7,
   "metadata": {},
   "outputs": [
    {
     "name": "stdout",
     "output_type": "stream",
     "text": [
      "subject CH\n",
      "18%\n",
      "subject CZ\n",
      "15%\n",
      "subject DE\n",
      "0%\n",
      "subject ES\n",
      "28%\n",
      "subject NO\n",
      "17%\n",
      "subject SE\n",
      "21%\n"
     ]
    }
   ],
   "source": [
    "for each in np.unique(data['cntry']):\n",
    "    print(\"subject {}\".format(each))\n",
    "    print(\"{}%\".format(round((len(data[data['cntry']==each])/len(data))*100)))"
   ]
  },
  {
   "cell_type": "code",
   "execution_count": 8,
   "metadata": {},
   "outputs": [],
   "source": [
    "data = data[data.cntry != 'DE']"
   ]
  },
  {
   "cell_type": "code",
   "execution_count": 9,
   "metadata": {},
   "outputs": [
    {
     "data": {
      "text/plain": [
       "array(['CH', 'CZ', 'ES', 'NO', 'SE'], dtype=object)"
      ]
     },
     "execution_count": 9,
     "metadata": {},
     "output_type": "execute_result"
    }
   ],
   "source": [
    "np.unique(data['cntry'])"
   ]
  },
  {
   "cell_type": "code",
   "execution_count": 10,
   "metadata": {},
   "outputs": [],
   "source": [
    "data_2012 = data[data['year'] == 6]\n",
    "data_2014 = data[data['year'] == 7]"
   ]
  },
  {
   "cell_type": "code",
   "execution_count": 11,
   "metadata": {},
   "outputs": [
    {
     "name": "stdout",
     "output_type": "stream",
     "text": [
      "(4283, 13)\n",
      "(4283, 13)\n"
     ]
    }
   ],
   "source": [
    "print(data_2012.shape)\n",
    "print(data_2014.shape)"
   ]
  },
  {
   "cell_type": "code",
   "execution_count": 12,
   "metadata": {},
   "outputs": [],
   "source": [
    "data_2014 = data_2014.dropna()\n",
    "data_2012 = data_2012.dropna()"
   ]
  },
  {
   "cell_type": "markdown",
   "metadata": {},
   "source": [
    "### Question 1: Did people become less trusting from 2012 to 2014? Compute results for each country in the sample."
   ]
  },
  {
   "cell_type": "code",
   "execution_count": 13,
   "metadata": {},
   "outputs": [
    {
     "data": {
      "text/plain": [
       "Text(0.07,0.5,'Trust Level')"
      ]
     },
     "execution_count": 13,
     "metadata": {},
     "output_type": "execute_result"
    },
    {
     "data": {
      "image/png": "[encoded data removed]",
      "text/plain": [
       "<matplotlib.figure.Figure at 0x117ffd5f8>"
      ]
     },
     "metadata": {},
     "output_type": "display_data"
    }
   ],
   "source": [
    "# set up figure & axes\n",
    "fig, axes = plt.subplots(nrows=1, ncols=2, sharex=True, sharey=True, figsize=(15,5))\n",
    "\n",
    "# drop sharex, sharey, layout & add ax=axes\n",
    "data.hist(by='year', column='ppltrst', ax=axes, xrot=1, orientation='horizontal')\n",
    "\n",
    "# set title and axis labels\n",
    "plt.suptitle('2012 vs 2014 Trust Level', x=0.5, y=1.05, ha='center', fontsize='xx-large')\n",
    "fig.text(0.5, 0.04, 'Number of People', ha='center')\n",
    "fig.text(0.07, 0.5, 'Trust Level', va='center', rotation='vertical')"
   ]
  },
  {
   "cell_type": "code",
   "execution_count": 15,
   "metadata": {},
   "outputs": [
    {
     "name": "stdout",
     "output_type": "stream",
     "text": [
      "KstestResult(statistic=0.9262395181257488, pvalue=0.0)\n",
      "KstestResult(statistic=0.928751591340841, pvalue=0.0)\n"
     ]
    }
   ],
   "source": [
    "from scipy.stats import kstest\n",
    "# This performs a test of the distribution G(x) of an observed random variable against a given distribution F(x). \n",
    "# Under the null hypothesis the two distributions are identical\n",
    "print(kstest(data_2012['ppltrst'], 'norm'))\n",
    "print(kstest(data_2014['ppltrst'], 'norm'))"
   ]
  },
  {
   "cell_type": "markdown",
   "metadata": {},
   "source": [
    "Because of the low p_value with the KS tests, this means that I reject the null hypothesis that the distribution of these values is identical to a normal distribution. Because of these finding, I will use a non-parametric test to answer this question. "
   ]
  },
  {
   "cell_type": "code",
   "execution_count": 16,
   "metadata": {},
   "outputs": [
    {
     "data": {
      "text/plain": [
       "MannwhitneyuResult(statistic=8202476.5, pvalue=0.3532815950282649)"
      ]
     },
     "execution_count": 16,
     "metadata": {},
     "output_type": "execute_result"
    }
   ],
   "source": [
    "stats.mannwhitneyu(data_2012['ppltrst'],data_2014['ppltrst'])"
   ]
  },
  {
   "cell_type": "code",
   "execution_count": 17,
   "metadata": {},
   "outputs": [
    {
     "name": "stdout",
     "output_type": "stream",
     "text": [
      "CH\n",
      "MannwhitneyuResult(statistic=267361.0, pvalue=0.28548480842716395)\n",
      "CZ\n",
      "MannwhitneyuResult(statistic=182068.0, pvalue=0.49770792998106145)\n",
      "ES\n",
      "MannwhitneyuResult(statistic=617480.0, pvalue=0.006194821052719307)\n",
      "NO\n",
      "MannwhitneyuResult(statistic=248611.0, pvalue=0.3246607781543741)\n",
      "SE\n",
      "MannwhitneyuResult(statistic=350787.5, pvalue=0.017080947275388083)\n"
     ]
    }
   ],
   "source": [
    "for each in np.unique(data['cntry']):\n",
    "    print(each)\n",
    "    print(stats.mannwhitneyu(data_2012[data_2012['cntry']==each]['ppltrst'],\n",
    "                          data_2014[data_2014['cntry']==each]['ppltrst']))"
   ]
  },
  {
   "cell_type": "code",
   "execution_count": 18,
   "metadata": {},
   "outputs": [
    {
     "data": {
      "text/plain": [
       "Text(0.07,0.5,'Trust Level')"
      ]
     },
     "execution_count": 18,
     "metadata": {},
     "output_type": "execute_result"
    },
    {
     "data": {
      "image/png": "[encoded data removed]",
      "text/plain": [
       "<matplotlib.figure.Figure at 0x1180e3048>"
      ]
     },
     "metadata": {},
     "output_type": "display_data"
    }
   ],
   "source": [
    "# set up figure & axes\n",
    "fig, axes = plt.subplots(nrows=1, ncols=2, sharex=True, sharey=True, figsize=(15,5))\n",
    "\n",
    "# drop sharex, sharey, layout & add ax=axes\n",
    "data[data['cntry']=='ES'].hist(by='year', column='ppltrst', ax=axes, xrot=1, orientation='horizontal')\n",
    "\n",
    "# set title and axis labels\n",
    "plt.suptitle(\"Spain's 2012 vs 2014 Trust Level\", x=0.5, y=1.05, ha='center', fontsize='xx-large')\n",
    "fig.text(0.5, 0.04, 'Number of People', ha='center')\n",
    "fig.text(0.07, 0.5, 'Trust Level', va='center', rotation='vertical')"
   ]
  },
  {
   "cell_type": "code",
   "execution_count": 19,
   "metadata": {},
   "outputs": [
    {
     "data": {
      "text/plain": [
       "Text(0.07,0.5,'Trust Level')"
      ]
     },
     "execution_count": 19,
     "metadata": {},
     "output_type": "execute_result"
    },
    {
     "data": {
      "image/png": "[encoded data removed]",
      "text/plain": [
       "<matplotlib.figure.Figure at 0x1184537b8>"
      ]
     },
     "metadata": {},
     "output_type": "display_data"
    }
   ],
   "source": [
    "# set up figure & axes\n",
    "fig, axes = plt.subplots(nrows=1, ncols=2, sharex=True, sharey=True, figsize=(15,5))\n",
    "\n",
    "# drop sharex, sharey, layout & add ax=axes\n",
    "data[data['cntry']=='SE'].hist(by='year', column='ppltrst', ax=axes, xrot=1, orientation='horizontal')\n",
    "\n",
    "# set title and axis labels\n",
    "plt.suptitle(\"Sweden's 2012 vs 2014 Trust Level\", x=0.5, y=1.05, ha='center', fontsize='xx-large')\n",
    "fig.text(0.5, 0.04, 'Number of People', ha='center')\n",
    "fig.text(0.07, 0.5, 'Trust Level', va='center', rotation='vertical')"
   ]
  },
  {
   "cell_type": "markdown",
   "metadata": {},
   "source": [
    "For this question I first compared the overall trust level between 2012 and 2014. I then used the KS test and determined that both of these data samples were not normally distributed. The t-test from the Mann Whitney U test return a p_value of 0.35 which is not small enough to suggest a significant change between these time periods. Next I compared each country's trust level between 2012 and 2014 and only two countries, Spain and Sweden, had a meaningful p_value of less than 0.05. I then graphed Spain and Sweden's trust levels for each of those years. So to answer the question, no I don't see that overall people became less trusting between 2012 and 2014. However, there does appear to be some meaningful change in trust level for a few countries."
   ]
  },
  {
   "cell_type": "markdown",
   "metadata": {},
   "source": [
    "### Question 2: Did people become happier from 2012 to 2014? Compute results for each country in the sample."
   ]
  },
  {
   "cell_type": "code",
   "execution_count": 20,
   "metadata": {},
   "outputs": [
    {
     "data": {
      "text/plain": [
       "Text(0.07,0.5,'Happiness')"
      ]
     },
     "execution_count": 20,
     "metadata": {},
     "output_type": "execute_result"
    },
    {
     "data": {
      "image/png": "[encoded data removed]",
      "text/plain": [
       "<matplotlib.figure.Figure at 0x1176347f0>"
      ]
     },
     "metadata": {},
     "output_type": "display_data"
    }
   ],
   "source": [
    "# set up figure & axes\n",
    "fig, axes = plt.subplots(nrows=1, ncols=2, sharex=True, sharey=True, figsize=(15,5))\n",
    "\n",
    "# drop sharex, sharey, layout & add ax=axes\n",
    "data.hist(by='year', column='happy', ax=axes, xrot=1, orientation='horizontal')\n",
    "\n",
    "# set title and axis labels\n",
    "plt.suptitle('2012 vs 2014 Happiness', x=0.5, y=1.05, ha='center', fontsize='xx-large')\n",
    "fig.text(0.5, 0.04, 'Number of People', ha='center')\n",
    "fig.text(0.07, 0.5, 'Happiness', va='center', rotation='vertical')"
   ]
  },
  {
   "cell_type": "code",
   "execution_count": 21,
   "metadata": {},
   "outputs": [
    {
     "name": "stdout",
     "output_type": "stream",
     "text": [
      "KstestResult(statistic=0.9846037737278573, pvalue=0.0)\n",
      "KstestResult(statistic=0.9885565519929883, pvalue=0.0)\n"
     ]
    }
   ],
   "source": [
    "# This performs a test of the distribution G(x) of an observed random variable against a given distribution F(x). \n",
    "# Under the null hypothesis the two distributions are identical\n",
    "print(kstest(data_2012['happy'], 'norm'))\n",
    "print(kstest(data_2014['happy'], 'norm'))"
   ]
  },
  {
   "cell_type": "markdown",
   "metadata": {},
   "source": [
    "Like the previous quesion, the low p_value with the KS tests  means that I reject the null hypothesis that the distribution of these values is identical to a normal distribution. Because of these finding, I will use a non-parametric test to answer this question."
   ]
  },
  {
   "cell_type": "code",
   "execution_count": 22,
   "metadata": {},
   "outputs": [
    {
     "data": {
      "text/plain": [
       "MannwhitneyuResult(statistic=8037553.0, pvalue=0.024000896136280533)"
      ]
     },
     "execution_count": 22,
     "metadata": {},
     "output_type": "execute_result"
    }
   ],
   "source": [
    "stats.mannwhitneyu(data_2012['happy'],data_2014['happy'])"
   ]
  },
  {
   "cell_type": "code",
   "execution_count": 23,
   "metadata": {},
   "outputs": [
    {
     "data": {
      "text/plain": [
       "KruskalResult(statistic=3.909942293862934, pvalue=0.0480012454923282)"
      ]
     },
     "execution_count": 23,
     "metadata": {},
     "output_type": "execute_result"
    }
   ],
   "source": [
    "stats.kruskal(data_2012['happy'],data_2014['happy'])"
   ]
  },
  {
   "cell_type": "code",
   "execution_count": 24,
   "metadata": {},
   "outputs": [
    {
     "name": "stdout",
     "output_type": "stream",
     "text": [
      "CH\n",
      "MannwhitneyuResult(statistic=265131.5, pvalue=0.19495027197081582)\n",
      "CZ\n",
      "MannwhitneyuResult(statistic=176796.0, pvalue=0.18724347670459124)\n",
      "ES\n",
      "MannwhitneyuResult(statistic=629830.0, pvalue=0.04263522765394516)\n",
      "NO\n",
      "MannwhitneyuResult(statistic=220453.5, pvalue=1.2346345897635287e-05)\n",
      "SE\n",
      "MannwhitneyuResult(statistic=369192.0, pvalue=0.37586498218551584)\n"
     ]
    }
   ],
   "source": [
    "for each in np.unique(data['cntry']):\n",
    "    print(each)\n",
    "    print(stats.mannwhitneyu(data_2012[data_2012['cntry']==each]['happy'],\n",
    "                          data_2014[data_2014['cntry']==each]['happy']))"
   ]
  },
  {
   "cell_type": "code",
   "execution_count": 25,
   "metadata": {},
   "outputs": [
    {
     "data": {
      "text/plain": [
       "Text(0.07,0.5,'Happiness')"
      ]
     },
     "execution_count": 25,
     "metadata": {},
     "output_type": "execute_result"
    },
    {
     "data": {
      "image/png": "[encoded data removed]",
      "text/plain": [
       "<matplotlib.figure.Figure at 0x1174b58d0>"
      ]
     },
     "metadata": {},
     "output_type": "display_data"
    }
   ],
   "source": [
    "# set up figure & axes\n",
    "fig, axes = plt.subplots(nrows=1, ncols=2, sharex=True, sharey=True, figsize=(15,5))\n",
    "\n",
    "# drop sharex, sharey, layout & add ax=axes\n",
    "data[data['cntry']=='ES'].hist(by='year', column='happy', ax=axes, xrot=1, orientation='horizontal')\n",
    "\n",
    "# set title and axis labels\n",
    "plt.suptitle(\"Spain's 2012 vs 2014 Happiness\", x=0.5, y=1.05, ha='center', fontsize='xx-large')\n",
    "fig.text(0.5, 0.04, 'Number of People', ha='center')\n",
    "fig.text(0.07, 0.5, 'Happiness', va='center', rotation='vertical')"
   ]
  },
  {
   "cell_type": "code",
   "execution_count": 26,
   "metadata": {},
   "outputs": [
    {
     "data": {
      "text/plain": [
       "Text(0.07,0.5,'Happiness')"
      ]
     },
     "execution_count": 26,
     "metadata": {},
     "output_type": "execute_result"
    },
    {
     "data": {
      "image/png": "[encoded data removed]",
      "text/plain": [
       "<matplotlib.figure.Figure at 0x117868278>"
      ]
     },
     "metadata": {},
     "output_type": "display_data"
    }
   ],
   "source": [
    "# set up figure & axes\n",
    "fig, axes = plt.subplots(nrows=1, ncols=2, sharex=True, sharey=True, figsize=(15,5))\n",
    "\n",
    "# drop sharex, sharey, layout & add ax=axes\n",
    "data[data['cntry']=='NO'].hist(by='year', column='happy', ax=axes, xrot=1, orientation='horizontal')\n",
    "\n",
    "# set title and axis labels\n",
    "plt.suptitle(\"Norway's 2012 vs 2014 Happiness\", x=0.5, y=1.05, ha='center', fontsize='xx-large')\n",
    "fig.text(0.5, 0.04, 'Number of People', ha='center')\n",
    "fig.text(0.07, 0.5, 'Happiness', va='center', rotation='vertical')"
   ]
  },
  {
   "cell_type": "markdown",
   "metadata": {},
   "source": [
    "For this question, I used Non-Parametric tests. I used both a Mann-Whitney U and a Kruskal-Wallis Test and they both had a low p_value that showed a significant difference between 2012 and 2014 reported happiness level. From the appear of the first graph, it looks like the level of happiness decreased from 2012 to 2014. When I use the same test for each country, it appeared that  Spain and Norway showed a meaningful change in reported happiness level. "
   ]
  },
  {
   "cell_type": "markdown",
   "metadata": {},
   "source": [
    "### Question 3: Who reported watching more TV in 2012, men or women?"
   ]
  },
  {
   "cell_type": "code",
   "execution_count": 27,
   "metadata": {},
   "outputs": [
    {
     "data": {
      "text/plain": [
       "Text(0.07,0.5,'TV Hours')"
      ]
     },
     "execution_count": 27,
     "metadata": {},
     "output_type": "execute_result"
    },
    {
     "data": {
      "image/png": "[encoded data removed]",
      "text/plain": [
       "<matplotlib.figure.Figure at 0x117be2048>"
      ]
     },
     "metadata": {},
     "output_type": "display_data"
    }
   ],
   "source": [
    "# set up figure & axes\n",
    "fig, axes = plt.subplots(nrows=1, ncols=2, sharex=True, sharey=True, figsize=(15,5))\n",
    "\n",
    "# drop sharex, sharey, layout & add ax=axes\n",
    "data_2012.hist(by='gndr', column='tvtot', ax=axes, xrot=1, orientation='horizontal')\n",
    "\n",
    "# set title and axis labels\n",
    "plt.suptitle('2012 TV Hours', x=0.5, y=1.05, ha='center', fontsize='xx-large')\n",
    "fig.text(0.5, 0.04, 'Male Vs Female', ha='center')\n",
    "fig.text(0.07, 0.5, 'TV Hours', va='center', rotation='vertical')"
   ]
  },
  {
   "cell_type": "code",
   "execution_count": 28,
   "metadata": {},
   "outputs": [],
   "source": [
    "male_2012 = data_2012[data_2012['gndr'] == 1.0]\n",
    "female_2012 = data_2012[data_2012['gndr'] == 2.0]"
   ]
  },
  {
   "cell_type": "code",
   "execution_count": 29,
   "metadata": {},
   "outputs": [
    {
     "name": "stdout",
     "output_type": "stream",
     "text": [
      "KstestResult(statistic=0.8566443993018208, pvalue=0.0)\n",
      "KstestResult(statistic=0.8533692710368954, pvalue=0.0)\n"
     ]
    }
   ],
   "source": [
    "# This performs a test of the distribution G(x) of an observed random variable against a given distribution F(x). \n",
    "# Under the null hypothesis the two distributions are identical\n",
    "print(kstest(male_2012['tvtot'], 'norm'))\n",
    "print(kstest(female_2012['tvtot'], 'norm'))"
   ]
  },
  {
   "cell_type": "markdown",
   "metadata": {},
   "source": [
    "Again, the low p_value with the KS tests  means that I reject the null hypothesis that the distribution of these values is identical to a normal distribution. Because of these finding, I will use a non-parametric test to answer this question."
   ]
  },
  {
   "cell_type": "code",
   "execution_count": 31,
   "metadata": {},
   "outputs": [
    {
     "data": {
      "text/plain": [
       "MannwhitneyuResult(statistic=2029380.5, pvalue=0.21722855760502108)"
      ]
     },
     "execution_count": 31,
     "metadata": {},
     "output_type": "execute_result"
    }
   ],
   "source": [
    "stats.mannwhitneyu(male_2012['tvtot'],female_2012['tvtot'])"
   ]
  },
  {
   "cell_type": "markdown",
   "metadata": {},
   "source": [
    "Because the p_value is greater than 0.05, that suggests to me that there was no significant difference between men and women's reported time watching TV in 2012. "
   ]
  },
  {
   "cell_type": "markdown",
   "metadata": {},
   "source": [
    "### Question 4: Who was more likely to believe people were fair in 2012, people living with a partner or people living alone?"
   ]
  },
  {
   "cell_type": "code",
   "execution_count": 32,
   "metadata": {},
   "outputs": [
    {
     "data": {
      "text/plain": [
       "Text(0.07,0.5,'People Fair')"
      ]
     },
     "execution_count": 32,
     "metadata": {},
     "output_type": "execute_result"
    },
    {
     "data": {
      "image/png": "[encoded data removed]",
      "text/plain": [
       "<matplotlib.figure.Figure at 0x1181a4710>"
      ]
     },
     "metadata": {},
     "output_type": "display_data"
    }
   ],
   "source": [
    "# set up figure & axes\n",
    "fig, axes = plt.subplots(nrows=1, ncols=2, sharex=True, sharey=True, figsize=(15,5))\n",
    "\n",
    "# drop sharex, sharey, layout & add ax=axes\n",
    "data_2012.hist(by='partner', column='pplfair', ax=axes, xrot=1, orientation='horizontal')\n",
    "\n",
    "# set title and axis labels\n",
    "plt.suptitle('People Try to be Fair', x=0.5, y=1.05, ha='center', fontsize='xx-large')\n",
    "fig.text(0.5, 0.04, 'Lives with Partner vs Single', ha='center')\n",
    "fig.text(0.07, 0.5, 'People Fair', va='center', rotation='vertical')"
   ]
  },
  {
   "cell_type": "code",
   "execution_count": 33,
   "metadata": {},
   "outputs": [],
   "source": [
    "partner_2012 = data_2012[data_2012['partner'] == 1.0]\n",
    "single_2012 = data_2012[data_2012['partner'] == 2.0]"
   ]
  },
  {
   "cell_type": "code",
   "execution_count": 34,
   "metadata": {},
   "outputs": [
    {
     "name": "stdout",
     "output_type": "stream",
     "text": [
      "(2534, 13)\n",
      "(1524, 13)\n"
     ]
    }
   ],
   "source": [
    "print(partner_2012.shape)\n",
    "print(single_2012.shape)"
   ]
  },
  {
   "cell_type": "code",
   "execution_count": 35,
   "metadata": {},
   "outputs": [
    {
     "name": "stdout",
     "output_type": "stream",
     "text": [
      "KstestResult(statistic=0.9448899627637387, pvalue=0.0)\n",
      "KstestResult(statistic=0.9378797893116633, pvalue=0.0)\n"
     ]
    }
   ],
   "source": [
    "# This performs a test of the distribution G(x) of an observed random variable against a given distribution F(x). \n",
    "# Under the null hypothesis the two distributions are identical\n",
    "print(kstest(partner_2012['pplfair'], 'norm'))\n",
    "print(kstest(single_2012['pplfair'], 'norm'))"
   ]
  },
  {
   "cell_type": "markdown",
   "metadata": {},
   "source": [
    "Because of the low p_value with the KS tests I'm rejecting the null hypothesis that the distribution of these values is identical to a normal distribution. Because of these finding, I will use a non-parametric test to answer this question."
   ]
  },
  {
   "cell_type": "code",
   "execution_count": 36,
   "metadata": {},
   "outputs": [
    {
     "data": {
      "text/plain": [
       "MannwhitneyuResult(statistic=1811684.5, pvalue=0.0004137437848867606)"
      ]
     },
     "execution_count": 36,
     "metadata": {},
     "output_type": "execute_result"
    }
   ],
   "source": [
    "stats.mannwhitneyu(partner_2012['pplfair'],single_2012['pplfair'])"
   ]
  },
  {
   "cell_type": "markdown",
   "metadata": {},
   "source": [
    "For this questions, it does appear that in 2012 there was a statistically significant difference between the people living with a partner and people living alone and their belief in people being fair. The p_value is noticeably low at 0.001. So to answer the question, people who live with a partner were more likely to believe that people are fair in 2012. "
   ]
  },
  {
   "cell_type": "markdown",
   "metadata": {},
   "source": [
    "### Question 5: Pick three or four of the countries in the sample and compare how often people met socially in 2014. Are there differences, and if so, which countries stand out?"
   ]
  },
  {
   "cell_type": "code",
   "execution_count": 37,
   "metadata": {},
   "outputs": [
    {
     "data": {
      "text/plain": [
       "Text(0.07,0.5,'Socialize')"
      ]
     },
     "execution_count": 37,
     "metadata": {},
     "output_type": "execute_result"
    },
    {
     "data": {
      "image/png": "[encoded data removed]",
      "text/plain": [
       "<matplotlib.figure.Figure at 0x118602358>"
      ]
     },
     "metadata": {},
     "output_type": "display_data"
    }
   ],
   "source": [
    "# set up figure & axes\n",
    "fig, axes = plt.subplots(nrows=1, ncols=5, sharex=True, sharey=True, figsize=(15,5))\n",
    "\n",
    "# drop sharex, sharey, layout & add ax=axes\n",
    "data_2014.hist(by='cntry', column='sclmeet', ax=axes, xrot=1, orientation='horizontal')\n",
    "\n",
    "# set title and axis labels\n",
    "plt.suptitle('How often socially meet', x=0.5, y=1.05, ha='center', fontsize='xx-large')\n",
    "fig.text(0.5, 0.04, 'Number of People', ha='center')\n",
    "fig.text(0.07, 0.5, 'Socialize', va='center', rotation='vertical')"
   ]
  },
  {
   "cell_type": "code",
   "execution_count": 38,
   "metadata": {},
   "outputs": [
    {
     "name": "stdout",
     "output_type": "stream",
     "text": [
      "KstestResult(statistic=0.9745580780114439, pvalue=0.0)\n",
      "KstestResult(statistic=0.9508472277877944, pvalue=0.0)\n",
      "KstestResult(statistic=0.96314052060914, pvalue=0.0)\n",
      "KstestResult(statistic=0.9744408792877759, pvalue=0.0)\n",
      "KstestResult(statistic=0.9772498680518208, pvalue=0.0)\n"
     ]
    }
   ],
   "source": [
    "# This performs a test of the distribution G(x) of an observed random variable against a given distribution F(x). \n",
    "# Under the null hypothesis the two distributions are identical\n",
    "for each in np.unique(data['cntry']):\n",
    "    print(kstest(data_2014[data_2014['cntry']==each]['sclmeet'], 'norm'))"
   ]
  },
  {
   "cell_type": "markdown",
   "metadata": {},
   "source": [
    "Because of the low p_value with the KS tests I'm rejecting the null hypothesis that any of these distributions is identical to a normal distribution. Because of this finding, I will use a non-parametric test to answer this question."
   ]
  },
  {
   "cell_type": "code",
   "execution_count": 39,
   "metadata": {},
   "outputs": [],
   "source": [
    "stat, p, med, tbl = stats.median_test(data_2014[data_2014['cntry']=='CH']['sclmeet'], \n",
    "                                      data_2014[data_2014['cntry']=='CZ']['sclmeet'], \n",
    "                                      data_2014[data_2014['cntry']=='ES']['sclmeet'],\n",
    "                                      data_2014[data_2014['cntry']=='NO']['sclmeet'],\n",
    "                                      data_2014[data_2014['cntry']=='SE']['sclmeet'],\n",
    "                                      nan_policy='omit')"
   ]
  },
  {
   "cell_type": "code",
   "execution_count": 40,
   "metadata": {},
   "outputs": [
    {
     "data": {
      "text/plain": [
       "6.575335590078349e-19"
      ]
     },
     "execution_count": 40,
     "metadata": {},
     "output_type": "execute_result"
    }
   ],
   "source": [
    "p"
   ]
  },
  {
   "cell_type": "code",
   "execution_count": 41,
   "metadata": {},
   "outputs": [],
   "source": [
    "social_list = np.asarray(data_2014[data_2014['cntry']=='CH']['sclmeet'].tolist() + \n",
    "                         data_2014[data_2014['cntry']=='CZ']['sclmeet'].tolist() + \n",
    "                         data_2014[data_2014['cntry']=='ES']['sclmeet'].tolist() +\n",
    "                         data_2014[data_2014['cntry']=='NO']['sclmeet'].tolist() +\n",
    "                         data_2014[data_2014['cntry']=='SE']['sclmeet'].tolist())"
   ]
  },
  {
   "cell_type": "code",
   "execution_count": 42,
   "metadata": {},
   "outputs": [],
   "source": [
    "countries = []\n",
    "for each in np.unique(data['cntry']):\n",
    "    countries.append([each]*len(data_2014[data_2014['cntry']==each]['sclmeet']))\n",
    "\n",
    "countries = [y for x in countries for y in x]"
   ]
  },
  {
   "cell_type": "code",
   "execution_count": 43,
   "metadata": {},
   "outputs": [
    {
     "data": {
      "text/html": [
       "<table class=\"simpletable\">\n",
       "<caption>Multiple Comparison of Means - Tukey HSD,FWER=0.05</caption>\n",
       "<tr>\n",
       "  <th>group1</th> <th>group2</th> <th>meandiff</th>  <th>lower</th>   <th>upper</th>  <th>reject</th>\n",
       "</tr>\n",
       "<tr>\n",
       "    <td>CH</td>     <td>CZ</td>    <td>-0.6799</td> <td>-0.8873</td> <td>-0.4725</td>  <td>True</td> \n",
       "</tr>\n",
       "<tr>\n",
       "    <td>CH</td>     <td>ES</td>    <td>0.0887</td>  <td>-0.0901</td> <td>0.2675</td>   <td>False</td>\n",
       "</tr>\n",
       "<tr>\n",
       "    <td>CH</td>     <td>NO</td>    <td>0.1354</td>  <td>-0.0633</td> <td>0.3341</td>   <td>False</td>\n",
       "</tr>\n",
       "<tr>\n",
       "    <td>CH</td>     <td>SE</td>    <td>0.2599</td>  <td>0.0704</td>  <td>0.4493</td>   <td>True</td> \n",
       "</tr>\n",
       "<tr>\n",
       "    <td>CZ</td>     <td>ES</td>    <td>0.7686</td>   <td>0.578</td>  <td>0.9593</td>   <td>True</td> \n",
       "</tr>\n",
       "<tr>\n",
       "    <td>CZ</td>     <td>NO</td>    <td>0.8153</td>  <td>0.6059</td>  <td>1.0248</td>   <td>True</td> \n",
       "</tr>\n",
       "<tr>\n",
       "    <td>CZ</td>     <td>SE</td>    <td>0.9398</td>  <td>0.7392</td>  <td>1.1404</td>   <td>True</td> \n",
       "</tr>\n",
       "<tr>\n",
       "    <td>ES</td>     <td>NO</td>    <td>0.0467</td>  <td>-0.1344</td> <td>0.2279</td>   <td>False</td>\n",
       "</tr>\n",
       "<tr>\n",
       "    <td>ES</td>     <td>SE</td>    <td>0.1712</td>  <td>0.0002</td>  <td>0.3421</td>   <td>True</td> \n",
       "</tr>\n",
       "<tr>\n",
       "    <td>NO</td>     <td>SE</td>    <td>0.1244</td>  <td>-0.0672</td> <td>0.3161</td>   <td>False</td>\n",
       "</tr>\n",
       "</table>"
      ],
      "text/plain": [
       "<class 'statsmodels.iolib.table.SimpleTable'>"
      ]
     },
     "execution_count": 43,
     "metadata": {},
     "output_type": "execute_result"
    }
   ],
   "source": [
    "from statsmodels.stats.multicomp import pairwise_tukeyhsd\n",
    "tukey = pairwise_tukeyhsd(endog=social_list,  # Data\n",
    "                          groups=countries,   # Groups\n",
    "                          alpha=0.05)         # Significance level\n",
    "\n",
    "tukey.summary() "
   ]
  },
  {
   "cell_type": "markdown",
   "metadata": {},
   "source": [
    "To answer this question I first graphed the 2014 reported levels of socialization by each of the countries. Visually, there does appear to be a noticeable difference between the Czech Republic and the other countries. I used a non-parametric test on the data because the KS test showed that the data was not normally distributed. The p_value was very low at 6.575335590078349e-19 which suggests that there is a significant difference in the reported level of socializing between countries. I then used the MultiComparison Pairwaise TukeyHSD to see the difference between countries. The countries that stands out is are the Czech Republic and Sweden. With the Czech Republic the null hypothesis could be reject when comparing it to every other country in the list while Sweden's could be rejected three out of hour times. "
   ]
  },
  {
   "cell_type": "markdown",
   "metadata": {},
   "source": [
    "### Question 6: Pick three or four of the countries in the sample and compare how often people took part in social activities, relative to others their age, in 2014. Are there differences, and if so, which countries stand out?"
   ]
  },
  {
   "cell_type": "code",
   "execution_count": 44,
   "metadata": {},
   "outputs": [
    {
     "data": {
      "text/plain": [
       "Text(0.07,0.5,'Socialize')"
      ]
     },
     "execution_count": 44,
     "metadata": {},
     "output_type": "execute_result"
    },
    {
     "data": {
      "image/png": "[encoded data removed]",
      "text/plain": [
       "<matplotlib.figure.Figure at 0x118bdb748>"
      ]
     },
     "metadata": {},
     "output_type": "display_data"
    }
   ],
   "source": [
    "# set up figure & axes\n",
    "fig, axes = plt.subplots(nrows=1, ncols=5, sharex=True, sharey=True, figsize=(15,5))\n",
    "\n",
    "# drop sharex, sharey, layout & add ax=axes\n",
    "data_2014.hist(by='cntry', column='sclact', ax=axes, xrot=1, orientation='horizontal')\n",
    "\n",
    "# set title and axis labels\n",
    "plt.suptitle('Socialize compared to Peers', x=0.5, y=1.05, ha='center', fontsize='xx-large')\n",
    "fig.text(0.5, 0.04, 'Number of People', ha='center')\n",
    "fig.text(0.07, 0.5, 'Socialize', va='center', rotation='vertical')"
   ]
  },
  {
   "cell_type": "code",
   "execution_count": 45,
   "metadata": {},
   "outputs": [
    {
     "name": "stdout",
     "output_type": "stream",
     "text": [
      "KstestResult(statistic=0.8991879568808921, pvalue=0.0)\n",
      "KstestResult(statistic=0.8798901320782234, pvalue=0.0)\n",
      "KstestResult(statistic=0.8458565699918561, pvalue=0.0)\n",
      "KstestResult(statistic=0.9323060478271017, pvalue=0.0)\n",
      "KstestResult(statistic=0.9207331437150272, pvalue=0.0)\n"
     ]
    }
   ],
   "source": [
    "# This performs a test of the distribution G(x) of an observed random variable against a given distribution F(x). \n",
    "# Under the null hypothesis the two distributions are identical\n",
    "for each in np.unique(data['cntry']):\n",
    "    print(kstest(data_2014[data_2014['cntry']==each]['sclact'], 'norm'))"
   ]
  },
  {
   "cell_type": "markdown",
   "metadata": {},
   "source": [
    "Because of the low p_value with the KS tests I'm rejecting the null hypothesis that any of these distributions is identical to a normal distribution. Because of this finding, I will use a non-parametric test to answer this question."
   ]
  },
  {
   "cell_type": "code",
   "execution_count": 47,
   "metadata": {},
   "outputs": [],
   "source": [
    "stat, p, med, tbl = stats.median_test(data_2014[data_2014['cntry']=='CH']['sclact'], \n",
    "                                      data_2014[data_2014['cntry']=='CZ']['sclact'], \n",
    "                                      data_2014[data_2014['cntry']=='ES']['sclact'],\n",
    "                                      data_2014[data_2014['cntry']=='NO']['sclact'],\n",
    "                                      data_2014[data_2014['cntry']=='SE']['sclact'])"
   ]
  },
  {
   "cell_type": "code",
   "execution_count": 48,
   "metadata": {},
   "outputs": [
    {
     "data": {
      "text/plain": [
       "0.0003601241248338286"
      ]
     },
     "execution_count": 48,
     "metadata": {},
     "output_type": "execute_result"
    }
   ],
   "source": [
    "p"
   ]
  },
  {
   "cell_type": "code",
   "execution_count": 49,
   "metadata": {},
   "outputs": [],
   "source": [
    "social_peer = np.asarray(data_2014[data_2014['cntry']=='CH']['sclact'].tolist() + \n",
    "                         data_2014[data_2014['cntry']=='CZ']['sclact'].tolist() + \n",
    "                         data_2014[data_2014['cntry']=='ES']['sclact'].tolist() +\n",
    "                         data_2014[data_2014['cntry']=='NO']['sclact'].tolist() +\n",
    "                         data_2014[data_2014['cntry']=='SE']['sclact'].tolist())"
   ]
  },
  {
   "cell_type": "code",
   "execution_count": 50,
   "metadata": {},
   "outputs": [],
   "source": [
    "countries = []\n",
    "for each in np.unique(data['cntry']):\n",
    "    countries.append([each]*len(data_2014[data_2014['cntry']==each]['sclact']))\n",
    "\n",
    "countries = [y for x in countries for y in x]"
   ]
  },
  {
   "cell_type": "code",
   "execution_count": 51,
   "metadata": {},
   "outputs": [
    {
     "data": {
      "text/html": [
       "<table class=\"simpletable\">\n",
       "<caption>Multiple Comparison of Means - Tukey HSD,FWER=0.05</caption>\n",
       "<tr>\n",
       "  <th>group1</th> <th>group2</th> <th>meandiff</th>  <th>lower</th>   <th>upper</th>  <th>reject</th>\n",
       "</tr>\n",
       "<tr>\n",
       "    <td>CH</td>     <td>CZ</td>    <td>-0.0553</td> <td>-0.1876</td> <td>0.0771</td>   <td>False</td>\n",
       "</tr>\n",
       "<tr>\n",
       "    <td>CH</td>     <td>ES</td>    <td>-0.1533</td> <td>-0.2674</td> <td>-0.0391</td>  <td>True</td> \n",
       "</tr>\n",
       "<tr>\n",
       "    <td>CH</td>     <td>NO</td>    <td>0.0763</td>  <td>-0.0505</td> <td>0.2031</td>   <td>False</td>\n",
       "</tr>\n",
       "<tr>\n",
       "    <td>CH</td>     <td>SE</td>    <td>0.0942</td>  <td>-0.0266</td> <td>0.2151</td>   <td>False</td>\n",
       "</tr>\n",
       "<tr>\n",
       "    <td>CZ</td>     <td>ES</td>    <td>-0.098</td>  <td>-0.2196</td> <td>0.0237</td>   <td>False</td>\n",
       "</tr>\n",
       "<tr>\n",
       "    <td>CZ</td>     <td>NO</td>    <td>0.1316</td>  <td>-0.002</td>  <td>0.2652</td>   <td>False</td>\n",
       "</tr>\n",
       "<tr>\n",
       "    <td>CZ</td>     <td>SE</td>    <td>0.1495</td>  <td>0.0215</td>  <td>0.2775</td>   <td>True</td> \n",
       "</tr>\n",
       "<tr>\n",
       "    <td>ES</td>     <td>NO</td>    <td>0.2296</td>   <td>0.114</td>  <td>0.3452</td>   <td>True</td> \n",
       "</tr>\n",
       "<tr>\n",
       "    <td>ES</td>     <td>SE</td>    <td>0.2475</td>  <td>0.1384</td>  <td>0.3566</td>   <td>True</td> \n",
       "</tr>\n",
       "<tr>\n",
       "    <td>NO</td>     <td>SE</td>    <td>0.0179</td>  <td>-0.1043</td> <td>0.1402</td>   <td>False</td>\n",
       "</tr>\n",
       "</table>"
      ],
      "text/plain": [
       "<class 'statsmodels.iolib.table.SimpleTable'>"
      ]
     },
     "execution_count": 51,
     "metadata": {},
     "output_type": "execute_result"
    }
   ],
   "source": [
    "from statsmodels.stats.multicomp import pairwise_tukeyhsd\n",
    "tukey = pairwise_tukeyhsd(endog=social_peer,  # Data\n",
    "                          groups=countries,   # Groups\n",
    "                          alpha=0.05)         # Significance level\n",
    "\n",
    "tukey.summary()"
   ]
  },
  {
   "cell_type": "markdown",
   "metadata": {},
   "source": [
    "To answer this question I began by graphing the 2014 responses for people take part in social activities compared to peers the same age. From the histogram it does appear that Spain and Sweden have more and higher numbers than the Czech Republic and Switzerland. The data does appear to be normally distributed so I used a parametric method to see if there is any difference is compared socializing between countries and yes, the p_value of 4.5950869900689776e-10 suggests that there is a meaningful difference. I then used the MultiComparison Pairwaise TukeyHSD to see the difference between countries. The country that stands out is Spain and its higher reports of socializing about the same as peers. I concluded this because the null hypothesis could be reject three out of four times when comparing it to every other countries in the list."
   ]
  }
 ],
 "metadata": {
  "kernelspec": {
   "display_name": "Python 3",
   "language": "python",
   "name": "python3"
  },
  "language_info": {
   "codemirror_mode": {
    "name": "ipython",
    "version": 3
   },
   "file_extension": ".py",
   "mimetype": "text/x-python",
   "name": "python",
   "nbconvert_exporter": "python",
   "pygments_lexer": "ipython3",
   "version": "3.6.4"
  }
 },
 "nbformat": 4,
 "nbformat_minor": 2
}
