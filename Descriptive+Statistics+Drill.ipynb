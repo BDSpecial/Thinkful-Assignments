{
 "cells": [
  {
   "cell_type": "code",
   "execution_count": 1,
   "metadata": {
    "collapsed": true
   },
   "outputs": [],
   "source": [
    "import numpy as np\n",
    "import pandas as pd\n",
    "from scipy import stats, integrate\n",
    "import matplotlib.pyplot as plt\n",
    "%matplotlib inline"
   ]
  },
  {
   "cell_type": "code",
   "execution_count": 70,
   "metadata": {},
   "outputs": [
    {
     "data": {
      "text/plain": [
       "<function matplotlib.pyplot.show>"
      ]
     },
     "execution_count": 70,
     "metadata": {},
     "output_type": "execute_result"
    },
    {
     "data": {
      "image/png": "[encoded data removed]",
      "text/plain": [
       "<matplotlib.figure.Figure at 0x10a488048>"
      ]
     },
     "metadata": {},
     "output_type": "display_data"
    }
   ],
   "source": [
    "negative_bi = np.random.negative_binomial(1, 0.5, 100)\n",
    "\n",
    "#Plot a histogram for negative_bi\n",
    "plt.hist(negative_bi)\n",
    "\n",
    "# Add a vertical line at the mean.\n",
    "plt.axvline(negative_bi.mean(), color='b', linestyle='solid', linewidth=2)\n",
    "\n",
    "# Add a vertical line at one standard deviation above the mean.\n",
    "plt.axvline(negative_bi.mean() + negative_bi.std(), color='b', linestyle='dashed', linewidth=2)\n",
    "\n",
    "# Add a vertical line at one standard deviation below the mean.\n",
    "plt.axvline(negative_bi.mean() - negative_bi.std(), color='b', linestyle='dashed', linewidth=2) \n",
    "\n",
    "\n",
    "plt.show"
   ]
  },
  {
   "cell_type": "markdown",
   "metadata": {},
   "source": [
    "For this histogram of the negative binomial, the mean statistic does show that 1 is the value but the standard deviations don't provide much useful information. "
   ]
  },
  {
   "cell_type": "code",
   "execution_count": 78,
   "metadata": {},
   "outputs": [
    {
     "data": {
      "text/plain": [
       "<function matplotlib.pyplot.show>"
      ]
     },
     "execution_count": 78,
     "metadata": {},
     "output_type": "execute_result"
    },
    {
     "data": {
      "image/png": "[encoded data removed]",
      "text/plain": [
       "<matplotlib.figure.Figure at 0x10a1ac710>"
      ]
     },
     "metadata": {},
     "output_type": "display_data"
    }
   ],
   "source": [
    "gamma = np.random.gamma(10, 1, 100)\n",
    "\n",
    "#Plot a histogram for exponential\n",
    "plt.hist(gamma)\n",
    "\n",
    "# Add a vertical line at the mean.\n",
    "plt.axvline(gamma.mean(), color='b', linestyle='solid', linewidth=2)\n",
    "\n",
    "# Add a vertical line at one standard deviation above the mean.\n",
    "plt.axvline(gamma.mean() + gamma.std(), color='b', linestyle='dashed', linewidth=2)\n",
    "\n",
    "# Add a vertical line at one standard deviation below the mean.\n",
    "plt.axvline(gamma.mean() - gamma.std(), color='b', linestyle='dashed', linewidth=2) \n",
    "\n",
    "\n",
    "plt.show"
   ]
  },
  {
   "cell_type": "markdown",
   "metadata": {},
   "source": [
    "For this histogram of the gamma distribution, the mean and standard deviations do show where the majority of data lays. However this information isn't able to tell us much more about the extending data that goes towards the right side of the graph.  "
   ]
  },
  {
   "cell_type": "code",
   "execution_count": 80,
   "metadata": {
    "scrolled": true
   },
   "outputs": [
    {
     "data": {
      "text/plain": [
       "<function matplotlib.pyplot.show>"
      ]
     },
     "execution_count": 80,
     "metadata": {},
     "output_type": "execute_result"
    },
    {
     "data": {
      "image/png": "[encoded data removed]",
      "text/plain": [
       "<matplotlib.figure.Figure at 0x10a105588>"
      ]
     },
     "metadata": {},
     "output_type": "display_data"
    }
   ],
   "source": [
    "poisson = np.random.poisson(10, 100)\n",
    "\n",
    "#Plot a histogram for exponential\n",
    "plt.hist(poisson)\n",
    "\n",
    "# Add a vertical line at the mean.\n",
    "plt.axvline(poisson.mean(), color='b', linestyle='solid', linewidth=2)\n",
    "\n",
    "# Add a vertical line at one standard deviation above the mean.\n",
    "plt.axvline(poisson.mean() + poisson.std(), color='b', linestyle='dashed', linewidth=2)\n",
    "\n",
    "# Add a vertical line at one standard deviation below the mean.\n",
    "plt.axvline(poisson.mean() - poisson.std(), color='b', linestyle='dashed', linewidth=2) \n",
    "\n",
    "\n",
    "plt.show"
   ]
  },
  {
   "cell_type": "markdown",
   "metadata": {},
   "source": [
    "For this histogram of the poisson distribution, it fits in well with the mean and standard deviations. Since there are only one of two outcomes for a poisson probability, it makes sense that the mean of group outcomes will cluster around the unit of grouping that I'm counting by. "
   ]
  },
  {
   "cell_type": "code",
   "execution_count": 46,
   "metadata": {},
   "outputs": [
    {
     "data": {
      "text/plain": [
       "<function matplotlib.pyplot.show>"
      ]
     },
     "execution_count": 46,
     "metadata": {},
     "output_type": "execute_result"
    },
    {
     "data": {
      "image/png": "[encoded data removed]",
      "text/plain": [
       "<matplotlib.figure.Figure at 0x10e041048>"
      ]
     },
     "metadata": {},
     "output_type": "display_data"
    }
   ],
   "source": [
    "beta = np.random.beta(50, 2, 100)\n",
    "\n",
    "#Plot a histogram for exponential\n",
    "plt.hist(beta)\n",
    "\n",
    "# Add a vertical line at the mean.\n",
    "plt.axvline(beta.mean(), color='b', linestyle='solid', linewidth=2)\n",
    "\n",
    "# Add a vertical line at one standard deviation above the mean.\n",
    "plt.axvline(beta.mean() + beta.std(), color='b', linestyle='dashed', linewidth=2)\n",
    "\n",
    "# Add a vertical line at one standard deviation below the mean.\n",
    "plt.axvline(beta.mean() - beta.std(), color='b', linestyle='dashed', linewidth=2) \n",
    "\n",
    "\n",
    "plt.show"
   ]
  },
  {
   "cell_type": "markdown",
   "metadata": {},
   "source": [
    "For this histogram of the beta distribution, its layout will be the inverse of a gamma distribuation. The mean and standard deviations do show where the majority of data lays. However this information isn't able to tell us much more about the extending data that goes towards the left side of the graph.  "
   ]
  },
  {
   "cell_type": "code",
   "execution_count": 81,
   "metadata": {
    "scrolled": true
   },
   "outputs": [
    {
     "data": {
      "text/plain": [
       "<function matplotlib.pyplot.show>"
      ]
     },
     "execution_count": 81,
     "metadata": {},
     "output_type": "execute_result"
    },
    {
     "data": {
      "image/png": "[encoded data removed]",
      "text/plain": [
       "<matplotlib.figure.Figure at 0x109f5b550>"
      ]
     },
     "metadata": {},
     "output_type": "display_data"
    }
   ],
   "source": [
    "lognormal = np.random.lognormal(1, 1, 100)\n",
    "\n",
    "#Plot a histogram for exponential\n",
    "plt.hist(lognormal, bins = 20)\n",
    "\n",
    "# Add a vertical line at the mean.\n",
    "plt.axvline(lognormal.mean(), color='b', linestyle='solid', linewidth=2)\n",
    "\n",
    "# Add a vertical line at one standard deviation above the mean.\n",
    "plt.axvline(lognormal.mean() + lognormal.std(), color='b', linestyle='dashed', linewidth=2)\n",
    "\n",
    "# Add a vertical line at one standard deviation below the mean.\n",
    "plt.axvline(lognormal.mean() - lognormal.std(), color='b', linestyle='dashed', linewidth=2) \n",
    "\n",
    "\n",
    "plt.show"
   ]
  },
  {
   "cell_type": "markdown",
   "metadata": {},
   "source": [
    "For this histogram of the log normal distribution, the mean and standard deviations don't provide much useful information. Similar to the gamma distribution the descriptive statistic do show where the majority of data lays but it does not conform to a normal bell curve distribution or tell us about the data to the right side of the graph. "
   ]
  },
  {
   "cell_type": "code",
   "execution_count": 72,
   "metadata": {},
   "outputs": [
    {
     "data": {
      "text/plain": [
       "<function matplotlib.pyplot.show>"
      ]
     },
     "execution_count": 72,
     "metadata": {},
     "output_type": "execute_result"
    },
    {
     "data": {
      "image/png": "[encoded data removed]",
      "text/plain": [
       "<matplotlib.figure.Figure at 0x10fea9278>"
      ]
     },
     "metadata": {},
     "output_type": "display_data"
    }
   ],
   "source": [
    "bernoulli = np.random.binomial(1, 0.5, 100)\n",
    "\n",
    "#Plot a histogram for exponential\n",
    "plt.hist(bernoulli)\n",
    "\n",
    "# Add a vertical line at the mean.\n",
    "plt.axvline(bernoulli.mean(), color='b', linestyle='solid', linewidth=2)\n",
    "\n",
    "# Add a vertical line at one standard deviation above the mean.\n",
    "plt.axvline(bernoulli.mean() + bernoulli.std(), color='b', linestyle='dashed', linewidth=2)\n",
    "\n",
    "# Add a vertical line at one standard deviation below the mean.\n",
    "plt.axvline(bernoulli.mean() - bernoulli.std(), color='b', linestyle='dashed', linewidth=2) \n",
    "\n",
    "\n",
    "plt.show"
   ]
  },
  {
   "cell_type": "markdown",
   "metadata": {},
   "source": [
    "For this histogram of the bernoulli distribution, the mean and standard deviations tell us what are the two values that are being choosen and the mean is directly between these two values. However, these descriptive statistic are not accurate results for their mathimatical formulas and don't convey any new information that the histogram itself does. "
   ]
  },
  {
   "cell_type": "code",
   "execution_count": 74,
   "metadata": {},
   "outputs": [
    {
     "data": {
      "text/plain": [
       "<function matplotlib.pyplot.show>"
      ]
     },
     "execution_count": 74,
     "metadata": {},
     "output_type": "execute_result"
    },
    {
     "data": {
      "image/png": "[encoded data removed]",
      "text/plain": [
       "<matplotlib.figure.Figure at 0x10b1d2978>"
      ]
     },
     "metadata": {},
     "output_type": "display_data"
    }
   ],
   "source": [
    "norm1 = np.random.normal(5, 0.5, 100)\n",
    "norm2 = np.random.normal(10, 1, 100)\n",
    "\n",
    "norm3 = norm1 + norm2\n",
    "\n",
    "#Plot a histogram for exponential\n",
    "plt.hist(norm3)\n",
    "\n",
    "# Add a vertical line at the mean.\n",
    "plt.axvline(norm3.mean(), color='b', linestyle='solid', linewidth=2)\n",
    "\n",
    "# Add a vertical line at one standard deviation above the mean.\n",
    "plt.axvline(norm3.mean() + norm3.std(), color='b', linestyle='dashed', linewidth=2)\n",
    "\n",
    "# Add a vertical line at one standard deviation below the mean.\n",
    "plt.axvline(norm3.mean() - norm3.std(), color='b', linestyle='dashed', linewidth=2) \n",
    "\n",
    "\n",
    "plt.show"
   ]
  },
  {
   "cell_type": "markdown",
   "metadata": {},
   "source": [
    "For this histogram of the normal distribution, the mean and standard deviations are very well able to compliment the information convayed by the histogram. Adding the two normally distributed data only adds the means and standard deviations together, so the values all increase. "
   ]
  }
 ],
 "metadata": {
  "kernelspec": {
   "display_name": "Python 3",
   "language": "python",
   "name": "python3"
  },
  "language_info": {
   "codemirror_mode": {
    "name": "ipython",
    "version": 3
   },
   "file_extension": ".py",
   "mimetype": "text/x-python",
   "name": "python",
   "nbconvert_exporter": "python",
   "pygments_lexer": "ipython3",
   "version": "3.6.2"
  }
 },
 "nbformat": 4,
 "nbformat_minor": 2
}
