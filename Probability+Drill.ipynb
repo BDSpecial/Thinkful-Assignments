{
 "cells": [
  {
   "cell_type": "markdown",
   "metadata": {},
   "source": [
    "1. Calculate the probability of flipping a balanced coin four times and getting each pattern: HTTH, HHHH and TTHH.\n",
    "\n",
    "- The P(Heads) = 1/2\n",
    "- The P(Tails) = 1/2\n",
    "\n",
    "The probability of two or more independent events can be calculated by multiplying the probabilities of each individual event. Each of the patterns are made up of equally likely and independent events, so the probability is equally likely for each of them.\n",
    "\n",
    "- HTTH = (1/2) * (1/2) * (1/2) * (1/2) = 0.0625 or 6.25%\n",
    "- HHHH = (1/2) * (1/2) * (1/2) * (1/2) = 0.0625 or 6.25%\n",
    "- TTHH = (1/2) * (1/2) * (1/2) * (1/2) = 0.0625 or 6.25%\n",
    "\n",
    "2. If a list of people has 24 women and 21 men, then the probability of choosing a man from the list is 21/45. What is the probability of not choosing a man?\n",
    "\n",
    "The probability of not choosing a man is the same as asking what is the probabiliy of choosing a woman, which is 24/45 and equals 0.53 or 53.3%. \n",
    "\n",
    "3. The probability that Bernice will travel by plane sometime in the next year is 10%. The probability of a plane crash at any time is .005%. What is the probability that Bernice will be in a plane crash sometime in the next year?\n",
    "\n",
    "The probabily of Bernice traveling on a plane is independent of the place crashing and likewise a plane crashing does not cause Bernice to be traveling on it. So I will again calculate this by multiplying the probabilities of each individual event.\n",
    "\n",
    "P(bernice_crash) = 0.1 * 0.00005 = 0.000005 or 0.0005%\n",
    "\n",
    "4. A data scientist wants to study the behavior of users on the company website. Each time a user clicks on a link on the website, there is a 5% chance that the user will be asked to complete a short survey about their behavior on the website. The data scientist uses the survey data to conclude that, on average, users spend 15 minutes surfing the company website before moving on to other things. What is wrong with this conclusion?\n",
    "\n",
    "You cannot conclude that the users who complete the survery are indeed a random sample of users from the company website. Since there is only a 5% chance that a user will be asked to complete a short survey, there is likely an even lower percentage of users who complete the survery. So the data scientist should be more careful about applying the results to the population of the company website. "
   ]
  }
 ],
 "metadata": {
  "kernelspec": {
   "display_name": "Python 3",
   "language": "python",
   "name": "python3"
  },
  "language_info": {
   "codemirror_mode": {
    "name": "ipython",
    "version": 3
   },
   "file_extension": ".py",
   "mimetype": "text/x-python",
   "name": "python",
   "nbconvert_exporter": "python",
   "pygments_lexer": "ipython3",
   "version": "3.6.2"
  }
 },
 "nbformat": 4,
 "nbformat_minor": 2
}
