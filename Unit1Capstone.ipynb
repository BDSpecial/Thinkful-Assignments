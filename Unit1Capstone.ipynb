{
 "cells": [
  {
   "cell_type": "code",
   "execution_count": 1,
   "metadata": {
    "collapsed": true
   },
   "outputs": [],
   "source": [
    "import pandas as pd\n",
    "import numpy as np\n",
    "import matplotlib.pyplot as plt\n",
    "import scipy as sp\n",
    "import seaborn as sns\n",
    "import re\n",
    "import csv\n",
    "from scipy import stats, integrate\n",
    "from scipy.stats import spearmanr\n",
    "%matplotlib inline"
   ]
  },
  {
   "cell_type": "code",
   "execution_count": 2,
   "metadata": {
    "collapsed": true
   },
   "outputs": [],
   "source": [
    "animal = pd.read_csv('Animal.csv.gz', encoding = \"ISO-8859-1\")"
   ]
  },
  {
   "cell_type": "code",
   "execution_count": 29,
   "metadata": {},
   "outputs": [
    {
     "name": "stdout",
     "output_type": "stream",
     "text": [
      "Adopted size: 10769\n",
      "Transferred size: 9422\n",
      "Returned to owner size: 4786\n",
      "Euthanized size: 1555\n",
      "Deceased size: 197\n"
     ]
    }
   ],
   "source": [
    "print('Adopted size:', len(animal[animal['OutcomeType'] == 'Adoption']))\n",
    "print('Transferred size:', len(animal[animal['OutcomeType'] == 'Transfer']))\n",
    "print('Returned to owner size:', len(animal[animal['OutcomeType'] == 'Return_to_owner']))\n",
    "print('Euthanized size:', len(animal[animal['OutcomeType'] == 'Euthanasia']))\n",
    "print('Deceased size:', len(animal[animal['OutcomeType'] == 'Died']))"
   ]
  },
  {
   "cell_type": "code",
   "execution_count": 27,
   "metadata": {},
   "outputs": [
    {
     "data": {
      "text/plain": [
       "<matplotlib.axes._subplots.AxesSubplot at 0x10a0afe48>"
      ]
     },
     "execution_count": 27,
     "metadata": {},
     "output_type": "execute_result"
    },
    {
     "data": {
      "image/png": "[encoded data removed]",
      "text/plain": [
       "<matplotlib.figure.Figure at 0x10a4092b0>"
      ]
     },
     "metadata": {},
     "output_type": "display_data"
    }
   ],
   "source": [
    "df=animal.groupby(['OutcomeType','AnimalType']).size()\n",
    "df=df.unstack()\n",
    "df.plot(kind='bar', figsize=(10,8), title='Outcomes by Animal Types')"
   ]
  },
  {
   "cell_type": "markdown",
   "metadata": {},
   "source": [
    "- Analysis that highlights your experimental hypothesis.\n",
    "\n",
    "In my scenario, the Austin Animal Center has had an decrease in animal adoptions and a subsequent increase in euthanasia. The center has approached me as a data scientist for help in addressing this problem. The main problem is the decrease in animal adoptions. When adoptions rates go down, this often forces the animal center to use euthanasia because of the limited space and supplies. While investigating this problem, the Animal Center reveals that traffic to their adoptions webpage along with completion of the adoption form have been steadily decreasing. An intermediate goal of increasing adoptions is to increase the number of visits to the Austin Animal Center adoption webpage. To address this problem, I propose an experiment. The marketing department will create a new social media advertisement and I will conduct an A/B test comparing the old and new ads affects on visits to the Center's adoption webpage and adoption form completion. \n",
    "\n",
    "I will gather the frequency of adoption page visit and form completions in the three months before the experiment. I will then complete a three month experiment computing the rate of visits to the Center's adoption webpage from click throughs of the old or new advertisements. The ads will be placed randomly on 30,000 Twitter and Facebook followers pages. I will compare the rate of visits and completed adoption forms between the old and new advertisements.\n",
    "\n",
    "If the level of visits and form completions are two standard deviations higher for the new ad than the rate for the old ad, conclude that the new advertisement is effective and change all the ads to the new one. Over the next three months, if the rate of visits to the adoption page remain higher than the mean of the old advertisement but less than the two standard deviations threshold, continue observing for two more month. If the rate of visits continues to be less than the two standard deviations threshold than the new advertisement will be removed. "
   ]
  },
  {
   "cell_type": "markdown",
   "metadata": {},
   "source": [
    "- A rollout plan showing how you would implement and rollout the experiment\n",
    "\n",
    "First, I would have accessible copies of both old and new ads. This allows all individuals involved to see the differences between the two groups' advertisements. Next, I need to make sure that these advertisements both lead correctly to the adoption webpage. Once I have correctly set up the ads to lead to adoption page, I need to check that the data system's infrastructure is properly recording the separate ad pathways and continues monitoring both ads when viewers complete the adoption form.\n",
    "\n",
    "Now that I have tested that the advertisements and data recording systems are working properly, I need to test that both the send out of the ads and the random sampling of the population will be carried out effectively. If I send out the advertisement to followers manually, then I need to have a plan in place on when and where the ads will be sent out to random followers so that confusion is minimized. But if a separate infrastructure is responsible for the rollout, I need to check that this system sends out both completed advertisements correctly and randomly. Additionally, I want to make sure that both rollout techniques keep the test and control groups in their samples respectively.\n",
    "\n",
    "Since the essential test requirements of functioning advertisements and a well prepared infrastructure are in place, it is now time to take a broader look at the scenario to plan the rollout time period and to avoid contextual variables. For this study, it will be rolled out gradually with the first two weeks at 10% to make sure that there are no negative consequences from the study on the Animal Center's website while also checking that the study's implementation is not broken or degraded. If the study is discovered to be having a negative affect on the Animal Center then the study will be removed. After those first two weeks, the remainder of the study will be at 50%. This will place a sample of 30,000+ in the study. Before I implement this study I want to check if there are any variables that might affect the study's results. For example, is there fundraiser for the Animal Center in the near future or a national 'animal adoption' week during the study's time period? If so, I want to plan the study's time periods to avoid these altering variables.\n",
    "\n",
    "Lastly, I want to have everyone in the marketing and management departments review the RFC, give feedback, and give their approval to initiate the experiment. This will hopefully catch any last minute mistakes and join everyone on the plan going forward. Now that each of these steps are complete and everyone has given their confirmation, we will impliment the study on March 1st, 2018. "
   ]
  },
  {
   "cell_type": "markdown",
   "metadata": {},
   "source": [
    "- An evaluation plan showing what constitutes success in this experiment\n",
    "\n",
    "My success metric will begin by calculating the means, variance, and standard deviations for the old and new advertisement's effect on traffic to the adoption webpage and filling out of the adoption form. I will make a graph showing the distribution of these two groups. With this information I will now try to accurately compare these two groups by using the t-test and p-value to learn if the groups' differences are meaningful or the result of chance. \n",
    "\n",
    "The t-test will more cohesively tell me if there is a genuine difference between the groups that isn't the result of sample size or noisy data. But is the t-value meaningfully large enough to show that the group differences are real and not random? To determine the confidence that I should place in my t-value I will calculate a p-value. The p-value is telling me what is the probability that I'd get a t-value this large if my hypothesis was actually wrong and there is no difference between the ads. Another way to put it, what is the probability of getting my t-value if the null hypothesis was actually true? What is the null hypothesis? The null hypothesis is that there will be no difference between the old and new ads for adoption webpage visits or form completions. For this study I would like the probability that the null hypothesis is true to be less than 0.05. This threshold is called a significance level.\n",
    "\n",
    "Lets say that in my scenario, the completed study shows a t-value of 50 and a p-value of 0.04. Does this prove that my experiment is a success? Not necessarily. This is only showing me that the new ad likely had some effect and I can reasonably reject the null hypothesis. But other effects could have also lead to changes from the old advertisement's impact. I want to now move into secondary metrics and cost benefit analysis. \n",
    "\n",
    "To see the broader impact of the study on adoptions I would like to compare the rate of adoptions for the three month during and after the study to the rate before the study began. This is an important secondary metric because the primary goal for the Austin Animal Center is to increase the rate of adoptions so that hopefully the rate of euthanasia can decrease. On top of this I would want to calculate the total earnings gained from the change to the new advertisement and increases in adoptions. This means taking the profit from the new ad minus the cost of creating and implementing the ad. This is an important factor for managers to take into account to decide whether or not a change is worth while. \n"
   ]
  }
 ],
 "metadata": {
  "kernelspec": {
   "display_name": "Python 3",
   "language": "python",
   "name": "python3"
  },
  "language_info": {
   "codemirror_mode": {
    "name": "ipython",
    "version": 3
   },
   "file_extension": ".py",
   "mimetype": "text/x-python",
   "name": "python",
   "nbconvert_exporter": "python",
   "pygments_lexer": "ipython3",
   "version": "3.6.2"
  }
 },
 "nbformat": 4,
 "nbformat_minor": 2
}
