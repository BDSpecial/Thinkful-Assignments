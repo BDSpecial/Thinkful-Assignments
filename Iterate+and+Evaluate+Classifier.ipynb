{
 "cells": [
  {
   "cell_type": "code",
   "execution_count": 1,
   "metadata": {
    "collapsed": true
   },
   "outputs": [],
   "source": [
    "%matplotlib inline\n",
    "import numpy as np\n",
    "import pandas as pd\n",
    "import scipy\n",
    "import sklearn\n",
    "import matplotlib.pyplot as plt\n",
    "import seaborn as sns\n",
    "import zipfile"
   ]
  },
  {
   "cell_type": "markdown",
   "metadata": {},
   "source": [
    "It's time to revisit your classifier from the previous assignment. Using the evaluation techniques we've covered here, look at your classifier's performance in more detail. Then go back and iterate by engineering new features, removing poor features, or tuning parameters. Repeat this process until you have five different versions of your classifier. Once you've iterated, answer these questions to compare the performance of each:\n",
    "\n",
    "- Do any of your classifiers seem to overfit?\n",
    "- Which seem to perform the best? Why?\n",
    "- What features seemed to be most impactful to performance?"
   ]
  },
  {
   "cell_type": "code",
   "execution_count": 2,
   "metadata": {
    "collapsed": true
   },
   "outputs": [],
   "source": [
    "amazon = pd.read_csv('amazon_cells_labelled.txt', sep=\"\\t\", header=None)\n",
    "amazon.columns = [\"message\", \"rating\"]\n",
    "yelp = pd.read_csv('yelp_labelled.txt', sep=\"\\t\", header=None)\n",
    "yelp.columns = [\"message\", \"rating\"]\n",
    "imdb = pd.read_csv('imdb_labelled.txt', sep=\"\\t\", header=None)\n",
    "imdb.columns = [\"message\", \"rating\"]\n",
    "datalist = [amazon, yelp, imdb]\n",
    "data = pd.concat(datalist)"
   ]
  },
  {
   "cell_type": "markdown",
   "metadata": {},
   "source": [
    "## #1 Negative Classifier"
   ]
  },
  {
   "cell_type": "code",
   "execution_count": 3,
   "metadata": {
    "collapsed": true
   },
   "outputs": [],
   "source": [
    "negative = ['not', 'waste', 'no', \"n't\", 'little', 'poor', 'mis', 'bad', 'worse']"
   ]
  },
  {
   "cell_type": "code",
   "execution_count": 4,
   "metadata": {
    "collapsed": true
   },
   "outputs": [],
   "source": [
    "for word in negative:\n",
    "    # Note that we add spaces around the key so that we're getting the word,\n",
    "    # not just pattern matching.\n",
    "    data[str(word)] = data.message.str.contains(\n",
    "        str(word).lower(),\n",
    "        case=False\n",
    "    )"
   ]
  },
  {
   "cell_type": "code",
   "execution_count": 5,
   "metadata": {},
   "outputs": [
    {
     "data": {
      "text/plain": [
       "<matplotlib.axes._subplots.AxesSubplot at 0x109f04ac8>"
      ]
     },
     "execution_count": 5,
     "metadata": {},
     "output_type": "execute_result"
    },
    {
     "data": {
      "image/png": "[encoded data removed]",
      "text/plain": [
       "<matplotlib.figure.Figure at 0x109f04320>"
      ]
     },
     "metadata": {},
     "output_type": "display_data"
    }
   ],
   "source": [
    "sns.heatmap(data.corr())"
   ]
  },
  {
   "cell_type": "code",
   "execution_count": 6,
   "metadata": {
    "collapsed": true
   },
   "outputs": [],
   "source": [
    "variables = data[negative]\n",
    "target = data['rating']"
   ]
  },
  {
   "cell_type": "code",
   "execution_count": 7,
   "metadata": {},
   "outputs": [
    {
     "name": "stdout",
     "output_type": "stream",
     "text": [
      "Number of mislabeled points out of a total 2748 points : 918 or 33.4061135371179%\n"
     ]
    }
   ],
   "source": [
    "# Our data is binary / boolean, so we're importing the Bernoulli classifier.\n",
    "from sklearn.naive_bayes import BernoulliNB\n",
    "# Instantiate our model and store it in a new variable.\n",
    "bnb = BernoulliNB()\n",
    "# Classify, storing the result in a new variable and Fit our model to the data.\n",
    "y_pred = bnb.fit(variables, target).predict(variables)\n",
    "\n",
    "# Display our results.\n",
    "print(\"Number of mislabeled points out of a total {} points : {} or {}%\".format(\n",
    "    variables.shape[0],\n",
    "    (target != y_pred).sum(),\n",
    "    (target != y_pred).sum()/variables.shape[0]*100\n",
    "))"
   ]
  },
  {
   "cell_type": "code",
   "execution_count": 8,
   "metadata": {},
   "outputs": [
    {
     "name": "stdout",
     "output_type": "stream",
     "text": [
      "col_0     0     1\n",
      "rating           \n",
      "0       631   731\n",
      "1       187  1199\n"
     ]
    }
   ],
   "source": [
    "df_confusion = pd.crosstab(target, y_pred)\n",
    "print(df_confusion)"
   ]
  },
  {
   "cell_type": "markdown",
   "metadata": {},
   "source": [
    "In each of my models, I am trying to correctly identify the 'positive' statements. Therefore, a true positive is when the model correctly identified the positive statement and a true negative result is when the model rules out the statement as a negative one. A false positive result happens when the model mistakenly identify something as a positive statement when it is actually negative. A false negative in this scenario happens when we identify something as a negative statement that is really a positive one.\n",
    "\n",
    "With this negative classifier, it produced 1199 true positive and 631 true negative results. The largest area of mistake appears to but the number of false positive results, 731. This is sometimes also called a \"Type I Error\" or a \"false alarm\". This model produced relatively few, 187, false negative results, also called a \"Type II Error\" or a \"miss\".\n",
    "\n",
    "- Sensitivity is the percentage of positives correctly identified, in our case 1199/1386 or 86%.  This shows how good we are at catching positives, or how sensitive our model is at identifying the 'positive' statements.\n",
    "\n",
    "- Specificity is just the opposite, the percentage of negatives correctly identified, 631/1362 or 46%. This is how good this model is at identifying the 'negative' statements.  "
   ]
  },
  {
   "cell_type": "markdown",
   "metadata": {},
   "source": [
    "## #2 Positive Classifier"
   ]
  },
  {
   "cell_type": "code",
   "execution_count": 9,
   "metadata": {
    "collapsed": true
   },
   "outputs": [],
   "source": [
    "data = pd.concat(datalist)\n",
    "positive = ['good','great','excellent','value','quality','quite','wonderful','recommend','well']\n",
    "for word in positive:\n",
    "    # Note that we add spaces around the key so that we're getting the word,\n",
    "    # not just pattern matching.\n",
    "    data[str(word)] = data.message.str.contains(\n",
    "        str(word).lower(),\n",
    "        case=False\n",
    "    )"
   ]
  },
  {
   "cell_type": "code",
   "execution_count": 10,
   "metadata": {},
   "outputs": [
    {
     "data": {
      "text/plain": [
       "<matplotlib.axes._subplots.AxesSubplot at 0x10a95a208>"
      ]
     },
     "execution_count": 10,
     "metadata": {},
     "output_type": "execute_result"
    },
    {
     "data": {
      "image/png": "[encoded data removed]",
      "text/plain": [
       "<matplotlib.figure.Figure at 0x10a952978>"
      ]
     },
     "metadata": {},
     "output_type": "display_data"
    }
   ],
   "source": [
    "sns.heatmap(data.corr())"
   ]
  },
  {
   "cell_type": "code",
   "execution_count": 11,
   "metadata": {
    "collapsed": true
   },
   "outputs": [],
   "source": [
    "variables = data[positive]\n",
    "target = data['rating']"
   ]
  },
  {
   "cell_type": "code",
   "execution_count": 12,
   "metadata": {},
   "outputs": [
    {
     "name": "stdout",
     "output_type": "stream",
     "text": [
      "Number of mislabeled points out of a total 2748 points : 1012 or 36.82678311499272%\n"
     ]
    }
   ],
   "source": [
    "# Our data is binary / boolean, so we're importing the Bernoulli classifier.\n",
    "from sklearn.naive_bayes import BernoulliNB\n",
    "# Instantiate our model and store it in a new variable.\n",
    "bnb = BernoulliNB()\n",
    "# Classify, storing the result in a new variable and Fit our model to the data.\n",
    "y_pred = bnb.fit(variables, target).predict(variables)\n",
    "\n",
    "# Display our results.\n",
    "print(\"Number of mislabeled points out of a total {} points : {} or {}%\".format(\n",
    "    variables.shape[0],\n",
    "    (target != y_pred).sum(),\n",
    "    (target != y_pred).sum()/variables.shape[0]*100\n",
    "))"
   ]
  },
  {
   "cell_type": "code",
   "execution_count": 13,
   "metadata": {},
   "outputs": [
    {
     "name": "stdout",
     "output_type": "stream",
     "text": [
      "col_0      0    1\n",
      "rating           \n",
      "0       1233  129\n",
      "1        883  503\n"
     ]
    }
   ],
   "source": [
    "df_confusion = pd.crosstab(target, y_pred)\n",
    "print(df_confusion)"
   ]
  },
  {
   "cell_type": "markdown",
   "metadata": {},
   "source": [
    "With this positive classifier, it produced 503 true positive and 1233 true negative results. The fewest mistakes appear to but the number of false positive results, 129. However, this model produced many, 883, false negative results, or \"misses\".\n",
    "\n",
    "- Sensitivity is the percentage of positives correctly identified, in our case 503/1386 or 36%. This shows how good we are at catching positives, or identifying the 'positive' statements.\n",
    "\n",
    "- Specificity is just the opposite, the percentage of negatives correctly identified, 1233/1362 or 90%. This is how good this model is at identifying the 'negative' statements. "
   ]
  },
  {
   "cell_type": "markdown",
   "metadata": {},
   "source": [
    "## #3 Frequent Positive Word Classifier"
   ]
  },
  {
   "cell_type": "code",
   "execution_count": 14,
   "metadata": {
    "collapsed": true
   },
   "outputs": [],
   "source": [
    "data = pd.concat(datalist)\n",
    "good = data.loc[data.rating==1, 'message']"
   ]
  },
  {
   "cell_type": "code",
   "execution_count": 15,
   "metadata": {
    "collapsed": true
   },
   "outputs": [],
   "source": [
    "def modes(data):\n",
    "    counting = {}\n",
    "    for item in data.str.split('\\s+'):\n",
    "        for word in item:\n",
    "            if word in counting:\n",
    "                counting[word] += 1\n",
    "            else:\n",
    "                counting[word] = 1\n",
    "\n",
    "    \n",
    "    most = max(counting.values())\n",
    "\n",
    "    least = min(counting.values())\n",
    "    \n",
    "    result = []\n",
    "    \n",
    "    for key,value in counting.items():\n",
    "        if value >=50:\n",
    "            result.append(key)\n",
    "            \n",
    "    return result"
   ]
  },
  {
   "cell_type": "code",
   "execution_count": 16,
   "metadata": {
    "collapsed": true,
    "scrolled": false
   },
   "outputs": [],
   "source": [
    "common_good_words = modes(good)\n",
    "for word in common_good_words:\n",
    "    data[str(word)] = data.message.str.contains(\n",
    "        str(word),\n",
    "        case=False\n",
    "    )"
   ]
  },
  {
   "cell_type": "code",
   "execution_count": 17,
   "metadata": {},
   "outputs": [
    {
     "data": {
      "text/plain": [
       "<matplotlib.axes._subplots.AxesSubplot at 0x10ad6c940>"
      ]
     },
     "execution_count": 17,
     "metadata": {},
     "output_type": "execute_result"
    },
    {
     "data": {
      "image/png": "[encoded data removed]",
      "text/plain": [
       "<matplotlib.figure.Figure at 0x1040ebda0>"
      ]
     },
     "metadata": {},
     "output_type": "display_data"
    }
   ],
   "source": [
    "sns.heatmap(data.corr())"
   ]
  },
  {
   "cell_type": "code",
   "execution_count": 18,
   "metadata": {
    "collapsed": true
   },
   "outputs": [],
   "source": [
    "variables = data[common_good_words]\n",
    "target = data['rating']"
   ]
  },
  {
   "cell_type": "code",
   "execution_count": 19,
   "metadata": {},
   "outputs": [
    {
     "name": "stdout",
     "output_type": "stream",
     "text": [
      "Number of mislabeled points out of a total 2748 points : 1018 or 37.04512372634643%\n"
     ]
    }
   ],
   "source": [
    "# Our data is binary / boolean, so we're importing the Bernoulli classifier.\n",
    "from sklearn.naive_bayes import BernoulliNB\n",
    "# Instantiate our model and store it in a new variable.\n",
    "bnb = BernoulliNB()\n",
    "# Classify, storing the result in a new variable and Fit our model to the data.\n",
    "y_pred = bnb.fit(variables, target).predict(variables)\n",
    "\n",
    "# Display our results.\n",
    "print(\"Number of mislabeled points out of a total {} points : {} or {}%\".format(\n",
    "    variables.shape[0],\n",
    "    (target != y_pred).sum(),\n",
    "    (target != y_pred).sum()/variables.shape[0]*100\n",
    "))"
   ]
  },
  {
   "cell_type": "code",
   "execution_count": 20,
   "metadata": {},
   "outputs": [
    {
     "name": "stdout",
     "output_type": "stream",
     "text": [
      "col_0      0    1\n",
      "rating           \n",
      "0       1084  278\n",
      "1        740  646\n"
     ]
    }
   ],
   "source": [
    "df_confusion = pd.crosstab(target, y_pred)\n",
    "print(df_confusion)"
   ]
  },
  {
   "cell_type": "markdown",
   "metadata": {},
   "source": [
    "With this frequent positive word classifier, it tried to find the most common words in positive statement to see if it could better classify the dataset. It produced 646 true positive and 1084 true negative results. The fewest mistakes appear to but the number of false positive results, 278. However, this model again produced more false negative results or \"misses\", 740.\n",
    "\n",
    "- Sensitivity is the percentage of positives correctly identified, in our case 646/1386 or 46%. This shows how good we are at catching positives, or identifying the 'positive' statements.\n",
    "\n",
    "- Specificity is just the opposite, the percentage of negatives correctly identified, 1084/1362 or 79%. This is how good this model is at identifying the 'negative' statements. "
   ]
  },
  {
   "cell_type": "markdown",
   "metadata": {},
   "source": [
    "## #4 Frequent Negative Word Classifier"
   ]
  },
  {
   "cell_type": "code",
   "execution_count": 21,
   "metadata": {
    "collapsed": true
   },
   "outputs": [],
   "source": [
    "data = pd.concat(datalist)\n",
    "bad = data.loc[data.rating==0, 'message']"
   ]
  },
  {
   "cell_type": "code",
   "execution_count": 22,
   "metadata": {
    "collapsed": true
   },
   "outputs": [],
   "source": [
    "common_bad_words = modes(bad)\n",
    "for word in common_bad_words:\n",
    "    data[str(word)] = data.message.str.contains(\n",
    "        str(word),\n",
    "        case=False\n",
    "    )"
   ]
  },
  {
   "cell_type": "code",
   "execution_count": 23,
   "metadata": {},
   "outputs": [
    {
     "data": {
      "text/plain": [
       "<matplotlib.axes._subplots.AxesSubplot at 0x10ac40cc0>"
      ]
     },
     "execution_count": 23,
     "metadata": {},
     "output_type": "execute_result"
    },
    {
     "data": {
      "image/png": "[encoded data removed]",
      "text/plain": [
       "<matplotlib.figure.Figure at 0x10ba83240>"
      ]
     },
     "metadata": {},
     "output_type": "display_data"
    }
   ],
   "source": [
    "sns.heatmap(data.corr())"
   ]
  },
  {
   "cell_type": "code",
   "execution_count": 24,
   "metadata": {
    "collapsed": true
   },
   "outputs": [],
   "source": [
    "variables = data[common_bad_words]\n",
    "target = data['rating']"
   ]
  },
  {
   "cell_type": "code",
   "execution_count": 25,
   "metadata": {},
   "outputs": [
    {
     "name": "stdout",
     "output_type": "stream",
     "text": [
      "Number of mislabeled points out of a total 2748 points : 970 or 35.29839883551674%\n"
     ]
    }
   ],
   "source": [
    "# Our data is binary / boolean, so we're importing the Bernoulli classifier.\n",
    "from sklearn.naive_bayes import BernoulliNB\n",
    "# Instantiate our model and store it in a new variable.\n",
    "bnb = BernoulliNB()\n",
    "# Classify, storing the result in a new variable and Fit our model to the data.\n",
    "y_pred = bnb.fit(variables, target).predict(variables)\n",
    "\n",
    "# Display our results.\n",
    "print(\"Number of mislabeled points out of a total {} points : {} or {}%\".format(\n",
    "    variables.shape[0],\n",
    "    (target != y_pred).sum(),\n",
    "    (target != y_pred).sum()/variables.shape[0]*100\n",
    "))"
   ]
  },
  {
   "cell_type": "code",
   "execution_count": 26,
   "metadata": {},
   "outputs": [
    {
     "name": "stdout",
     "output_type": "stream",
     "text": [
      "col_0     0     1\n",
      "rating           \n",
      "0       721   641\n",
      "1       329  1057\n"
     ]
    }
   ],
   "source": [
    "df_confusion = pd.crosstab(target, y_pred)\n",
    "print(df_confusion)"
   ]
  },
  {
   "cell_type": "markdown",
   "metadata": {},
   "source": [
    "With this frequent negative word classifier, it tried to find the most common words in negative statement to see if it could also better classify the dataset. It produced 1057 true positive and 721 true negative results. The fewest mistakes in this model are the number of false negative results or \"misses\", 329. While the number of false positive results is higher, 641. \n",
    "\n",
    "- Sensitivity is the percentage of positives correctly identified, in our case 1057/1386 or 76%. This shows how good we are at catching positives, or identifying the 'positive' statements.\n",
    "\n",
    "- Specificity is just the opposite, the percentage of negatives correctly identified, 721/1362 or 52%. This is how good this model is at identifying the 'negative' statements. "
   ]
  },
  {
   "cell_type": "markdown",
   "metadata": {},
   "source": [
    "## #5 Unique Good Word Classifier"
   ]
  },
  {
   "cell_type": "code",
   "execution_count": 27,
   "metadata": {
    "collapsed": true
   },
   "outputs": [],
   "source": [
    "data = pd.concat(datalist)\n",
    "positive_words = []\n",
    "for i in set(common_good_words).difference(common_bad_words):\n",
    "    positive_words.append(i)\n",
    "for word in positive_words:\n",
    "    data[str(word)] = data.message.str.contains(\n",
    "        str(word),\n",
    "        case=False\n",
    "    )"
   ]
  },
  {
   "cell_type": "code",
   "execution_count": 28,
   "metadata": {},
   "outputs": [
    {
     "data": {
      "text/plain": [
       "<matplotlib.axes._subplots.AxesSubplot at 0x10bd21c50>"
      ]
     },
     "execution_count": 28,
     "metadata": {},
     "output_type": "execute_result"
    },
    {
     "data": {
      "image/png": "[encoded data removed]",
      "text/plain": [
       "<matplotlib.figure.Figure at 0x10bd21630>"
      ]
     },
     "metadata": {},
     "output_type": "display_data"
    }
   ],
   "source": [
    "sns.heatmap(data.corr())"
   ]
  },
  {
   "cell_type": "code",
   "execution_count": 29,
   "metadata": {
    "collapsed": true
   },
   "outputs": [],
   "source": [
    "variables = data[positive_words]\n",
    "target = data['rating']"
   ]
  },
  {
   "cell_type": "code",
   "execution_count": 30,
   "metadata": {},
   "outputs": [
    {
     "name": "stdout",
     "output_type": "stream",
     "text": [
      "Number of mislabeled points out of a total 2748 points : 1068 or 38.864628820960704%\n"
     ]
    }
   ],
   "source": [
    "# Our data is binary / boolean, so we're importing the Bernoulli classifier.\n",
    "from sklearn.naive_bayes import BernoulliNB\n",
    "# Instantiate our model and store it in a new variable.\n",
    "bnb = BernoulliNB()\n",
    "# Classify, storing the result in a new variable and Fit our model to the data.\n",
    "y_pred = bnb.fit(variables, target).predict(variables)\n",
    "\n",
    "# Display our results.\n",
    "print(\"Number of mislabeled points out of a total {} points : {} or {}%\".format(\n",
    "    variables.shape[0],\n",
    "    (target != y_pred).sum(),\n",
    "    (target != y_pred).sum()/variables.shape[0]*100\n",
    "))"
   ]
  },
  {
   "cell_type": "code",
   "execution_count": 31,
   "metadata": {},
   "outputs": [
    {
     "name": "stdout",
     "output_type": "stream",
     "text": [
      "col_0      0    1\n",
      "rating           \n",
      "0       1223  139\n",
      "1        929  457\n"
     ]
    }
   ],
   "source": [
    "df_confusion = pd.crosstab(target, y_pred)\n",
    "print(df_confusion)"
   ]
  },
  {
   "cell_type": "markdown",
   "metadata": {
    "collapsed": true
   },
   "source": [
    "With this unique good word classifier, it takes the most frequent words from both the postive and negative statements and made a list that is unique to only the positive statements. It produced 457 true positive and 1223 true negative results. The fewest mistakes appear to but the number of false positive results, 139. However, this model produced many more false negative results or \"misses\", 929.\n",
    "\n",
    "- Sensitivity is the percentage of positives correctly identified, in our case 457/1386 or 32%. This shows how good we are at catching positives, or identifying the 'positive' statements.\n",
    "\n",
    "- Specificity is just the opposite, the percentage of negatives correctly identified, 1223/1362 or 89%. This is how good this model is at identifying the 'negative' statements. "
   ]
  },
  {
   "cell_type": "markdown",
   "metadata": {
    "collapsed": true
   },
   "source": [
    "To answer this challenges questions:\n",
    "- Do any of your classifiers seem to overfit?\n",
    "No, I don't believe that any of the classifiers overfit because none of then accurately identify both the positive and negative statements but rather are biased to one or the other.\n",
    "- Which seem to perform the best? Why?\n",
    "I believe that the best performers are the frequent negative word and positive word classifiers. I believe this because their sensitivity and specificity are most even and balanced compared to the other classifiers.\n",
    "- What features seemed to be most impactful to performance?\n",
    "It is interesting that when each classifier tried to single out the positive or negative statements, it did exactly the opposite. For instance, when any positive statement classifiers is used it more accurately identifies the 'negative' statements rather than it's own supposedly more similar 'positive' data points. The same is true for the negative classifiers. "
   ]
  },
  {
   "cell_type": "markdown",
   "metadata": {
    "collapsed": true
   },
   "source": [
    "Hi Alex, I was trying over the weekend to make a classifier that went through the dataset and checked if the unique positive word list are true while also checking that the unique negative word list is false for each statement. This way, that even if a sentence was true for the 'positive' words, it would also check that there weren't any of the negative words in it. I kept running into errors but I thought that I'd let you know about the problem that I worked on this weekend so that we can discuss it tonight. Thanks!"
   ]
  },
  {
   "cell_type": "code",
   "execution_count": 32,
   "metadata": {
    "collapsed": true
   },
   "outputs": [],
   "source": [
    "data = pd.concat(datalist)\n",
    "positive_words = []\n",
    "for i in set(common_good_words).difference(common_bad_words):\n",
    "    positive_words.append(i)\n",
    "negative_words = []\n",
    "for i in set(common_bad_words).difference(common_good_words):\n",
    "    negative_words.append(i)"
   ]
  },
  {
   "cell_type": "code",
   "execution_count": 34,
   "metadata": {},
   "outputs": [],
   "source": [
    "positive = pd.Series(positive_words)\n",
    "negative = pd.Series(negative_words)"
   ]
  },
  {
   "cell_type": "code",
   "execution_count": 35,
   "metadata": {
    "collapsed": true
   },
   "outputs": [],
   "source": [
    "for sentence in data:\n",
    "    for word in positive:\n",
    "        if data.message.str.contains(word).any() == True:\n",
    "            for each in negative:\n",
    "                if data.message.str.contains(word).any() == False:\n",
    "                    print(data.message)"
   ]
  }
 ],
 "metadata": {
  "kernelspec": {
   "display_name": "Python 3",
   "language": "python",
   "name": "python3"
  },
  "language_info": {
   "codemirror_mode": {
    "name": "ipython",
    "version": 3
   },
   "file_extension": ".py",
   "mimetype": "text/x-python",
   "name": "python",
   "nbconvert_exporter": "python",
   "pygments_lexer": "ipython3",
   "version": "3.6.2"
  }
 },
 "nbformat": 4,
 "nbformat_minor": 2
}
