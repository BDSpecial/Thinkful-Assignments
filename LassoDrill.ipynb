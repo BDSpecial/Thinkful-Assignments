{
 "cells": [
  {
   "cell_type": "code",
   "execution_count": 1,
   "metadata": {
    "collapsed": true
   },
   "outputs": [],
   "source": [
    "import pandas as pd\n",
    "import numpy as np\n",
    "import matplotlib.pyplot as plt\n",
    "import math\n",
    "import seaborn as sns\n",
    "import sklearn\n",
    "from sklearn import linear_model\n",
    "from sklearn import preprocessing\n",
    "%matplotlib inline\n",
    "sns.set_style('white')\n",
    "\n",
    "#Import Linear Regression model from scikit-learn.\n",
    "from sklearn.linear_model import LinearRegression"
   ]
  },
  {
   "cell_type": "markdown",
   "metadata": {},
   "source": [
    "## Code and Dataset from the Lasso Lesson"
   ]
  },
  {
   "cell_type": "code",
   "execution_count": 2,
   "metadata": {
    "collapsed": true
   },
   "outputs": [],
   "source": [
    "# Load the data again. Keep air quality data, drop the index column\n",
    "# and any missing data columns.\n",
    "df = pd.read_csv(\n",
    "    'https://vincentarelbundock.github.io/Rdatasets/csv/ISLR/Default.csv'\n",
    ").iloc[:,1:].dropna()\n",
    "\n",
    "# Recode strings to numeric.\n",
    "df['default'] = np.where(df['default']=='Yes', 1, 0)\n",
    "df['student'] = np.where(df['student']=='Yes', 1, 0)\n",
    "names = df.columns\n",
    "df = pd.DataFrame(preprocessing.scale(df), columns=names)\n",
    "\n",
    "# Define the training and test sizes.\n",
    "trainsize = int(df.shape[0] / 2)\n",
    "df_test = df.iloc[trainsize:, :].copy()\n",
    "df_train = df.iloc[:trainsize, :].copy()\n",
    "\n",
    "Y_train = df_train['income'].values.reshape(-1, 1)\n",
    "X_train = df_train.loc[:, ~(df_train.columns).isin(['income'])]\n",
    "\n",
    "# Make some new features to capture potential quadratic and cubic\n",
    "# relationships between solar radiation and day or temperature.\n",
    "df_train['balance_student'] = df_train['balance'] * df_train['student']\n",
    "df_train['balance_default'] = df_train['balance'] * df_train['default']\n",
    "df_train['student_default'] = df_train['student'] * df_train['default']\n",
    "df_train['balance_sqrt'] = (df_train['balance'] + 100) ** .5\n",
    "df_train['balance2'] = (df_train['balance'] + 100) ** 2\n",
    "df_train['balance3'] = (df_train['balance'] + 100) ** 3\n",
    "\n",
    "X_train2 = df_train.loc[:, ~(df_train.columns).isin(['income'])]\n",
    "\n",
    "# Test the simpler model with smaller coefficients.\n",
    "Y_test = df_test['income'].values.reshape(-1, 1)\n",
    "X_test = df_test.loc[:, ~(df_test.columns).isin(['income'])]\n",
    "\n",
    "# Test the more complex model with larger coefficients.\n",
    "df_test['balance_student'] = df_test['balance'] * df_test['student']\n",
    "df_test['balance_default'] = df_test['balance'] * df_test['default']\n",
    "df_test['student_default'] = df_test['student'] * df_test['default']\n",
    "df_test['balance_sqrt'] = (df_test['balance'] + 100) ** .5\n",
    "df_test['balance2'] = (df_test['balance'] + 100) ** 2\n",
    "df_test['balance3'] = (df_test['balance'] + 100) ** 3\n",
    "X_test2 = df_test.loc[:, ~(df_test.columns).isin(['income'])]"
   ]
  },
  {
   "cell_type": "markdown",
   "metadata": {},
   "source": [
    "## Lasso Drill Instructions"
   ]
  },
  {
   "cell_type": "markdown",
   "metadata": {},
   "source": [
    "The $\\lambda$ for lasso can var between 0 (no penalty, acts like OLS) and infinity. If $\\lambda$ is too large, all parameters will be set to zero.\n",
    "Create a plot below of how $R^2$ varies across different values of $\\lambda$ for ridge and lasso regression. Use logic and code similar to the ridge regression demonstration above, and base your plot on the X_train2 feature set.\n",
    "Do lasso and ridge yield the same $R^2$ for a given lambda value?\n",
    "Submit your work and discuss the results with your mentor."
   ]
  },
  {
   "cell_type": "markdown",
   "metadata": {},
   "source": [
    "Here are 10 different $\\lambda$ values that I will be testing on my dataset to compare the resulting $R^2$ values"
   ]
  },
  {
   "cell_type": "code",
   "execution_count": 3,
   "metadata": {
    "collapsed": true
   },
   "outputs": [],
   "source": [
    "#Set the different values of alpha to be tested\n",
    "alpha_ridge = [1e-15, 1e-10, 1e-8, 1e-4, 1e-3,1e-2, 1, 5, 10, 20]"
   ]
  },
  {
   "cell_type": "code",
   "execution_count": 4,
   "metadata": {
    "collapsed": true
   },
   "outputs": [],
   "source": [
    "# Entering my data into a dataframe so that it can easily be plotted.\n",
    "pretty_data = pd.DataFrame(\n",
    "    alpha_ridge,\n",
    "    columns=['lambda']\n",
    "    )"
   ]
  },
  {
   "cell_type": "code",
   "execution_count": 5,
   "metadata": {
    "scrolled": false
   },
   "outputs": [
    {
     "name": "stderr",
     "output_type": "stream",
     "text": [
      "/Library/Frameworks/Python.framework/Versions/3.6/lib/python3.6/site-packages/sklearn/linear_model/coordinate_descent.py:491: ConvergenceWarning: Objective did not converge. You might want to increase the number of iterations. Fitting data with very small alpha may cause precision problems.\n",
      "  ConvergenceWarning)\n"
     ]
    },
    {
     "name": "stdout",
     "output_type": "stream",
     "text": [
      "\n",
      "Coefficents and Intercept for the Lasso model:\n",
      "[ -2.06111494e-03  -7.58818422e-01   6.04810006e-02  -3.53546655e-03\n",
      "   9.26788633e-03  -3.79292001e-03   1.76197742e-01  -2.05761745e-04\n",
      "  -9.11532536e-07   1.20391468e+00]\n",
      "\n",
      "Coefficents and Intercept for the Ridge model:\n",
      "[ -4.29254838e-03  -7.58973840e-01   1.08504087e+01  -1.66243718e-03\n",
      "   1.18253819e-02  -4.44876140e-03   1.12523597e+02  -1.72799814e-01\n",
      "   6.02763010e-04   0.00000000e+00]\n",
      "\n",
      "Coefficents and Intercept for the Lasso model:\n",
      "[ -2.06111099e-03  -7.58818421e-01   6.04808898e-02  -3.53546822e-03\n",
      "   9.26788283e-03  -3.79291929e-03   1.76186736e-01  -2.05758463e-04\n",
      "  -9.11532391e-07   1.20399178e+00]\n",
      "\n",
      "Coefficents and Intercept for the Ridge model:\n",
      "[ -4.29321709e-03  -7.58973830e-01   1.08447813e+01  -1.66238061e-03\n",
      "   1.18258724e-02  -4.44876527e-03   1.12463637e+02  -1.72706198e-01\n",
      "   6.02426447e-04   0.00000000e+00]\n",
      "\n",
      "Coefficents and Intercept for the Lasso model:\n",
      "[ -2.06071105e-03  -7.58818399e-01   6.04700130e-02  -3.53563972e-03\n",
      "   9.26752670e-03  -3.79284582e-03   1.75057815e-01  -2.05423971e-04\n",
      "  -9.11519611e-07   1.21192297e+00]\n",
      "\n",
      "Coefficents and Intercept for the Ridge model:\n",
      "[ -4.32516115e-03  -7.58973373e-01   1.05760310e+01  -1.65967410e-03\n",
      "   1.18493060e-02  -4.44895217e-03   1.09600114e+02  -1.68235330e-01\n",
      "   5.86352985e-04   0.00000000e+00]\n",
      "\n",
      "Coefficents and Intercept for the Lasso model:\n",
      "[ -6.48551724e-04  -7.58705512e-01   0.00000000e+00  -3.59923257e-03\n",
      "   8.43369750e-03  -3.59189262e-03   0.00000000e+00   1.40335341e-04\n",
      "  -9.13880340e-07  -4.92800967e-01]\n",
      "\n",
      "Coefficents and Intercept for the Ridge model:\n",
      "[ -5.54317800e-03  -7.58955916e-01   3.26883430e-01  -1.55658146e-03\n",
      "   1.27427635e-02  -4.45603876e-03   3.96030830e-01   2.26672034e-03\n",
      "  -2.66271265e-05   0.00000000e+00]\n",
      "\n",
      "Coefficents and Intercept for the Lasso model:\n",
      "[  0.00000000e+00  -7.57884134e-01   0.00000000e+00  -3.07935868e-03\n",
      "   7.72791993e-03  -2.84059147e-03   0.00000000e+00   1.14976254e-04\n",
      "  -7.48459744e-07  -4.04546279e-01]\n",
      "\n",
      "Coefficents and Intercept for the Ridge model:\n",
      "[ -5.54572402e-03  -7.58955632e-01   2.91040316e-01  -1.55722050e-03\n",
      "   1.27441868e-02  -4.45573440e-03   1.55050217e-02   2.85954779e-03\n",
      "  -2.87501462e-05   0.00000000e+00]\n",
      "\n",
      "Coefficents and Intercept for the Lasso model:\n",
      "[  0.00000000e+00  -7.49175475e-01   0.00000000e+00  -0.00000000e+00\n",
      "   4.64868670e-03  -0.00000000e+00   0.00000000e+00  -0.00000000e+00\n",
      "  -1.45217294e-09  -1.52452354e-03]\n",
      "\n",
      "Coefficents and Intercept for the Ridge model:\n",
      "[ -5.52924220e-03  -7.58953395e-01   2.86176949e-01  -1.56712348e-03\n",
      "   1.27276744e-02  -4.45246084e-03  -2.25709485e-02   2.90612001e-03\n",
      "  -2.88351266e-05   0.00000000e+00]\n",
      "\n",
      "Coefficents and Intercept for the Lasso model:\n",
      "[  0.00000000e+00  -0.00000000e+00   0.00000000e+00  -0.00000000e+00\n",
      "   0.00000000e+00  -0.00000000e+00   0.00000000e+00   0.00000000e+00\n",
      "  -5.42632541e-06   5.43049680e+00]\n",
      "\n",
      "Coefficents and Intercept for the Ridge model:\n",
      "[ -4.27783829e-03  -7.58734740e-01   1.91749283e-01  -2.30805623e-03\n",
      "   1.14873173e-02  -4.20909186e-03  -1.79503516e-02   1.95202107e-03\n",
      "  -1.93416476e-05   0.00000000e+00]\n",
      "\n",
      "Coefficents and Intercept for the Lasso model:\n",
      "[  0.00000000e+00  -0.00000000e+00   0.00000000e+00  -0.00000000e+00\n",
      "   0.00000000e+00  -0.00000000e+00   0.00000000e+00  -0.00000000e+00\n",
      "  -5.42192261e-06   5.42609387e+00]\n",
      "\n",
      "Coefficents and Intercept for the Ridge model:\n",
      "[ -2.75035288e-03  -7.58006613e-01   8.20932492e-02  -3.25822469e-03\n",
      "   1.00153856e-02  -3.90435469e-03  -7.69484382e-03   8.32936617e-04\n",
      "  -8.25484772e-06   0.00000000e+00]\n",
      "\n",
      "Coefficents and Intercept for the Lasso model:\n",
      "[  0.00000000e+00  -0.00000000e+00  -0.00000000e+00  -0.00000000e+00\n",
      "   0.00000000e+00  -0.00000000e+00  -0.00000000e+00  -0.00000000e+00\n",
      "  -5.41641912e-06   5.42059021e+00]\n",
      "\n",
      "Coefficents and Intercept for the Ridge model:\n",
      "[ -2.18345205e-03  -7.57156891e-01   4.77049991e-02  -3.66908529e-03\n",
      "   9.52109450e-03  -3.78154074e-03  -4.47224218e-03   4.83414402e-04\n",
      "  -4.79227769e-06   0.00000000e+00]\n",
      "\n",
      "Coefficents and Intercept for the Lasso model:\n",
      "[  0.00000000e+00  -0.00000000e+00  -0.00000000e+00  -0.00000000e+00\n",
      "   0.00000000e+00  -0.00000000e+00  -0.00000000e+00  -0.00000000e+00\n",
      "  -5.40541215e-06   5.40958289e+00]\n",
      "\n",
      "Coefficents and Intercept for the Ridge model:\n",
      "[ -1.66853457e-03  -7.55489952e-01   2.57956925e-02  -4.13441457e-03\n",
      "   9.14964379e-03  -3.65480378e-03  -2.41848173e-03   2.63330969e-04\n",
      "  -2.61217922e-06   0.00000000e+00]\n"
     ]
    }
   ],
   "source": [
    "# Lists for the R2 values of each model\n",
    "Lasso_list = []\n",
    "Ridge_list = []\n",
    "\n",
    "# Iterate through each lambda value\n",
    "for i in alpha_ridge: \n",
    "    # Lasso model fitted to the X_train2 dataset with each new lambda \n",
    "    lass = linear_model.Lasso(alpha=i)\n",
    "    Lassfit = lass.fit(X_train2, Y_train)\n",
    "    # Appending the R2 value from each iteration to an outside list\n",
    "    Lasso_list.append(Lassfit.score(X_train2, Y_train)) \n",
    "    # Printing out the coefficents of each iteration.\n",
    "    LassCoeff = np.append(Lassfit.coef_, Lassfit.intercept_)\n",
    "    print('\\nCoefficents and Intercept for the Lasso model:')\n",
    "    print(LassCoeff)\n",
    "    \n",
    "    # Ridge model fitted to the X_train2 dataset with each new lambda \n",
    "    ridge = linear_model.Ridge(alpha=i, fit_intercept=False)\n",
    "    Ridgefit = ridge.fit(X_train2, Y_train)\n",
    "    # Appending the R2 value from each iteration to an outside list\n",
    "    Ridge_list.append(Ridgefit.score(X_train2, Y_train))\n",
    "    # Printing out the coefficents of each iteration.\n",
    "    RidgeCoeff = np.append(Ridgefit.coef_, Ridgefit.intercept_)\n",
    "    print('\\nCoefficents and Intercept for the Ridge model:')\n",
    "    print(RidgeCoeff)"
   ]
  },
  {
   "cell_type": "code",
   "execution_count": 6,
   "metadata": {
    "collapsed": true
   },
   "outputs": [],
   "source": [
    "# Creating new columns in the dataframe with the R2 values for the Lasso and Ridge models\n",
    "pretty_data['Lasso R2'] = Lasso_list\n",
    "pretty_data['Ridge R2'] = Ridge_list"
   ]
  },
  {
   "cell_type": "code",
   "execution_count": 7,
   "metadata": {},
   "outputs": [
    {
     "data": {
      "text/html": [
       "<div>\n",
       "<style>\n",
       "    .dataframe thead tr:only-child th {\n",
       "        text-align: right;\n",
       "    }\n",
       "\n",
       "    .dataframe thead th {\n",
       "        text-align: left;\n",
       "    }\n",
       "\n",
       "    .dataframe tbody tr th {\n",
       "        vertical-align: top;\n",
       "    }\n",
       "</style>\n",
       "<table border=\"1\" class=\"dataframe\">\n",
       "  <thead>\n",
       "    <tr style=\"text-align: right;\">\n",
       "      <th></th>\n",
       "      <th>lambda</th>\n",
       "      <th>Lasso R2</th>\n",
       "      <th>Ridge R2</th>\n",
       "    </tr>\n",
       "  </thead>\n",
       "  <tbody>\n",
       "    <tr>\n",
       "      <th>0</th>\n",
       "      <td>1.000000e-15</td>\n",
       "      <td>0.573944</td>\n",
       "      <td>0.573973</td>\n",
       "    </tr>\n",
       "    <tr>\n",
       "      <th>1</th>\n",
       "      <td>1.000000e-10</td>\n",
       "      <td>0.573944</td>\n",
       "      <td>0.573973</td>\n",
       "    </tr>\n",
       "    <tr>\n",
       "      <th>2</th>\n",
       "      <td>1.000000e-08</td>\n",
       "      <td>0.573944</td>\n",
       "      <td>0.573973</td>\n",
       "    </tr>\n",
       "    <tr>\n",
       "      <th>3</th>\n",
       "      <td>1.000000e-04</td>\n",
       "      <td>0.573940</td>\n",
       "      <td>0.573972</td>\n",
       "    </tr>\n",
       "    <tr>\n",
       "      <th>4</th>\n",
       "      <td>1.000000e-03</td>\n",
       "      <td>0.573937</td>\n",
       "      <td>0.573972</td>\n",
       "    </tr>\n",
       "    <tr>\n",
       "      <th>5</th>\n",
       "      <td>1.000000e-02</td>\n",
       "      <td>0.573768</td>\n",
       "      <td>0.573972</td>\n",
       "    </tr>\n",
       "    <tr>\n",
       "      <th>6</th>\n",
       "      <td>1.000000e+00</td>\n",
       "      <td>0.026834</td>\n",
       "      <td>0.573969</td>\n",
       "    </tr>\n",
       "    <tr>\n",
       "      <th>7</th>\n",
       "      <td>5.000000e+00</td>\n",
       "      <td>0.026834</td>\n",
       "      <td>0.573955</td>\n",
       "    </tr>\n",
       "    <tr>\n",
       "      <th>8</th>\n",
       "      <td>1.000000e+01</td>\n",
       "      <td>0.026834</td>\n",
       "      <td>0.573946</td>\n",
       "    </tr>\n",
       "    <tr>\n",
       "      <th>9</th>\n",
       "      <td>2.000000e+01</td>\n",
       "      <td>0.026834</td>\n",
       "      <td>0.573934</td>\n",
       "    </tr>\n",
       "  </tbody>\n",
       "</table>\n",
       "</div>"
      ],
      "text/plain": [
       "         lambda  Lasso R2  Ridge R2\n",
       "0  1.000000e-15  0.573944  0.573973\n",
       "1  1.000000e-10  0.573944  0.573973\n",
       "2  1.000000e-08  0.573944  0.573973\n",
       "3  1.000000e-04  0.573940  0.573972\n",
       "4  1.000000e-03  0.573937  0.573972\n",
       "5  1.000000e-02  0.573768  0.573972\n",
       "6  1.000000e+00  0.026834  0.573969\n",
       "7  5.000000e+00  0.026834  0.573955\n",
       "8  1.000000e+01  0.026834  0.573946\n",
       "9  2.000000e+01  0.026834  0.573934"
      ]
     },
     "execution_count": 7,
     "metadata": {},
     "output_type": "execute_result"
    }
   ],
   "source": [
    "pretty_data"
   ]
  },
  {
   "cell_type": "code",
   "execution_count": 8,
   "metadata": {},
   "outputs": [
    {
     "data": {
      "image/png": "[encoded data removed]",
      "text/plain": [
       "<matplotlib.figure.Figure at 0x104c41ba8>"
      ]
     },
     "metadata": {},
     "output_type": "display_data"
    }
   ],
   "source": [
    "# Plot a line for each model's R2 values.\n",
    "for var in ['Lasso R2', 'Ridge R2']:\n",
    "    plt.plot(pretty_data['lambda'], pretty_data[var])\n",
    "plt.xlabel('lambda')\n",
    "plt.ylabel('R-squared values')\n",
    "plt.show()"
   ]
  }
 ],
 "metadata": {
  "kernelspec": {
   "display_name": "Python 3",
   "language": "python",
   "name": "python3"
  },
  "language_info": {
   "codemirror_mode": {
    "name": "ipython",
    "version": 3
   },
   "file_extension": ".py",
   "mimetype": "text/x-python",
   "name": "python",
   "nbconvert_exporter": "python",
   "pygments_lexer": "ipython3",
   "version": "3.6.2"
  }
 },
 "nbformat": 4,
 "nbformat_minor": 2
}
