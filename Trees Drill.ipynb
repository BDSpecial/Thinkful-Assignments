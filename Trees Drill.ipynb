{
 "cells": [
  {
   "cell_type": "markdown",
   "metadata": {},
   "source": [
    "Implement a binary tree, which is filled with 15 pieces of random data. Your job is to then write a program to traverse the tree using a breadth first traversal. If you want additional practice, try other forms of traversal."
   ]
  },
  {
   "cell_type": "code",
   "execution_count": 1,
   "metadata": {},
   "outputs": [],
   "source": [
    "from collections import deque"
   ]
  },
  {
   "cell_type": "code",
   "execution_count": 2,
   "metadata": {},
   "outputs": [],
   "source": [
    "class Node:\n",
    "    def __init__(self,info):\n",
    "        self.info = info\n",
    "        self.left = None\n",
    "        self.right = None\n",
    "        self.level = None\n",
    "\n",
    "    def __str__(self):\n",
    "        return str(self.info)"
   ]
  },
  {
   "cell_type": "code",
   "execution_count": 3,
   "metadata": {},
   "outputs": [],
   "source": [
    "def BFT(node):\n",
    "    \n",
    "    node.level = 1\n",
    "    queue = deque([node])\n",
    "    output = []\n",
    "    current_level = node.level\n",
    "\n",
    "    while len(queue)>0:\n",
    "\n",
    "        current_node = queue.popleft()\n",
    "\n",
    "        if(current_node.level > current_level):\n",
    "            #output.append(\"\\n\")\n",
    "            current_level += 1\n",
    "\n",
    "        output.append(str(current_node))\n",
    "\n",
    "        if current_node.left != None:\n",
    "            current_node.left.level = current_level + 1 \n",
    "            queue.append(current_node.left) \n",
    "\n",
    "        if current_node.right != None:\n",
    "            current_node.right.level = current_level + 1 \n",
    "            queue.append(current_node.right)\n",
    "\n",
    "                 \n",
    " \n",
    "    return ' '.join(output)"
   ]
  },
  {
   "cell_type": "code",
   "execution_count": 4,
   "metadata": {},
   "outputs": [],
   "source": [
    "# Establish the initial root node and children\n",
    "root = Node(100)\n",
    "root.left = Node(10)\n",
    "root.right = Node(90)"
   ]
  },
  {
   "cell_type": "code",
   "execution_count": 5,
   "metadata": {},
   "outputs": [],
   "source": [
    "# Add the appropriate children for left and right nodes of the 10 child\n",
    "root.left.left = Node(9)\n",
    "root.left.left.left = Node(7)\n",
    "root.left.left.right = Node(8)\n",
    "root.left.right = Node(6)\n",
    "root.left.right.left = Node(4)\n",
    "root.left.right.right = Node(5)"
   ]
  },
  {
   "cell_type": "code",
   "execution_count": 6,
   "metadata": {},
   "outputs": [],
   "source": [
    "# Add the appropriate children for left and right nodes of the 90 child\n",
    "root.right.left = Node(50)\n",
    "root.right.left.left = Node(30)\n",
    "root.right.left.right = Node(40)\n",
    "root.right.right = Node(80)\n",
    "root.right.right.left = Node(70)\n",
    "root.right.right.right = Node(60)"
   ]
  },
  {
   "cell_type": "code",
   "execution_count": 7,
   "metadata": {
    "scrolled": true
   },
   "outputs": [
    {
     "name": "stdout",
     "output_type": "stream",
     "text": [
      "100 10 90 9 6 50 80 7 8 4 5 30 40 70 60\n"
     ]
    }
   ],
   "source": [
    "print(BFT(root))"
   ]
  }
 ],
 "metadata": {
  "kernelspec": {
   "display_name": "Python 3",
   "language": "python",
   "name": "python3"
  },
  "language_info": {
   "codemirror_mode": {
    "name": "ipython",
    "version": 3
   },
   "file_extension": ".py",
   "mimetype": "text/x-python",
   "name": "python",
   "nbconvert_exporter": "python",
   "pygments_lexer": "ipython3",
   "version": "3.6.4"
  }
 },
 "nbformat": 4,
 "nbformat_minor": 2
}
