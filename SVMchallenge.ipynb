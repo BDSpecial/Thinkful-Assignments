{
 "cells": [
  {
   "cell_type": "code",
   "execution_count": 1,
   "metadata": {
    "collapsed": true
   },
   "outputs": [],
   "source": [
    "import numpy as np\n",
    "import pandas as pd\n",
    "import scipy\n",
    "import matplotlib.pyplot as plt\n",
    "import seaborn as sns\n",
    "%matplotlib inline\n",
    "\n",
    "from sklearn.svm import SVR\n",
    "from sklearn.svm import SVC\n",
    "from sklearn.model_selection import cross_val_score"
   ]
  },
  {
   "cell_type": "markdown",
   "metadata": {},
   "source": [
    "Now it's time for another guided example. This time we're going to look at recipes. Specifically we'll use the epicurious dataset, which has a collection of recipes, key terms and ingredients, and their ratings.\n",
    "\n",
    "What we want to see is if we can use the ingredient and keyword list to predict the rating. For someone writing a cookbook this could be really useful information that could help them choose which recipes to include because they're more likely to be enjoyed and therefore make the book more likely to be successful."
   ]
  },
  {
   "cell_type": "code",
   "execution_count": 2,
   "metadata": {
    "collapsed": true
   },
   "outputs": [],
   "source": [
    "raw_data = pd.read_csv('epi_r.csv.zip')"
   ]
  },
  {
   "cell_type": "code",
   "execution_count": 3,
   "metadata": {},
   "outputs": [
    {
     "data": {
      "text/plain": [
       "count    20052.000000\n",
       "mean         3.714467\n",
       "std          1.340829\n",
       "min          0.000000\n",
       "25%          3.750000\n",
       "50%          4.375000\n",
       "75%          4.375000\n",
       "max          5.000000\n",
       "Name: rating, dtype: float64"
      ]
     },
     "execution_count": 3,
     "metadata": {},
     "output_type": "execute_result"
    }
   ],
   "source": [
    "raw_data.rating.describe()"
   ]
  },
  {
   "cell_type": "markdown",
   "metadata": {},
   "source": [
    "We learn a few things from this analysis. From a ratings perspective, there are just over 20,000 recipes with an average rating of 3.71. What is interesting is that the 25th percentile is actually above the mean. This means there is likely some kind of outlier population. This makes sense when we think about reviews: some bad recipes may have very few very low reviews.\n",
    "\n",
    "Let's validate the idea a bit further with a histogram."
   ]
  },
  {
   "cell_type": "code",
   "execution_count": 4,
   "metadata": {},
   "outputs": [
    {
     "data": {
      "image/png": "[encoded data removed]",
      "text/plain": [
       "<matplotlib.figure.Figure at 0x10a81e9b0>"
      ]
     },
     "metadata": {},
     "output_type": "display_data"
    }
   ],
   "source": [
    "raw_data.rating.hist(bins=20)\n",
    "plt.title('Histogram of Recipe Ratings')\n",
    "plt.show()"
   ]
  },
  {
   "cell_type": "markdown",
   "metadata": {},
   "source": [
    "So a few things are shown in this histogram. Firstly there are sharp discontinutities. We don't have continuous data. No recipe has a 3.5 rating, for example. Also we see the anticipated increase at 0.\n",
    "\n",
    "Let's try a naive approach again, this time using SVM Regressor. But first, we'll have to do a bit of data cleaning."
   ]
  },
  {
   "cell_type": "code",
   "execution_count": 5,
   "metadata": {},
   "outputs": [
    {
     "data": {
      "text/plain": [
       "calories    4117\n",
       "protein     4162\n",
       "fat         4183\n",
       "sodium      4119\n",
       "dtype: int64"
      ]
     },
     "execution_count": 5,
     "metadata": {},
     "output_type": "execute_result"
    }
   ],
   "source": [
    "# Count nulls \n",
    "null_count = raw_data.isnull().sum()\n",
    "null_count[null_count>0]"
   ]
  },
  {
   "cell_type": "markdown",
   "metadata": {},
   "source": [
    "What we can see right away is that nutrition information is not available for all goods. Now this would be an interesting data point, but let's focus on ingredients and keywords right now. So we'll actually drop the whole columns for calories, protein, fat, and sodium. We'll come back to nutrition information later."
   ]
  },
  {
   "cell_type": "code",
   "execution_count": 7,
   "metadata": {},
   "outputs": [
    {
     "data": {
      "text/plain": [
       "SVR(C=1.0, cache_size=200, coef0=0.0, degree=3, epsilon=0.1, gamma='auto',\n",
       "  kernel='rbf', max_iter=-1, shrinking=True, tol=0.001, verbose=False)"
      ]
     },
     "execution_count": 7,
     "metadata": {},
     "output_type": "execute_result"
    }
   ],
   "source": [
    "svr = SVR()\n",
    "X = raw_data.drop(['rating', 'title', 'calories', 'protein', 'fat', 'sodium'], 1)\n",
    "Y = raw_data.rating\n",
    "svr.fit(X,Y)"
   ]
  },
  {
   "cell_type": "code",
   "execution_count": 8,
   "metadata": {},
   "outputs": [
    {
     "data": {
      "text/plain": [
       "<matplotlib.collections.PathCollection at 0x10a6be0b8>"
      ]
     },
     "execution_count": 8,
     "metadata": {},
     "output_type": "execute_result"
    },
    {
     "data": {
      "image/png": "[encoded data removed]",
      "text/plain": [
       "<matplotlib.figure.Figure at 0x107ae2ac8>"
      ]
     },
     "metadata": {},
     "output_type": "display_data"
    }
   ],
   "source": [
    "plt.scatter(Y, svr.predict(X))"
   ]
  },
  {
   "cell_type": "code",
   "execution_count": 10,
   "metadata": {},
   "outputs": [
    {
     "data": {
      "text/plain": [
       "0.038565706512988962"
      ]
     },
     "execution_count": 10,
     "metadata": {},
     "output_type": "execute_result"
    }
   ],
   "source": [
    "svr.score(X, Y)"
   ]
  },
  {
   "cell_type": "code",
   "execution_count": 11,
   "metadata": {},
   "outputs": [
    {
     "data": {
      "text/plain": [
       "array([ 0.01818511,  0.026411  ,  0.03037705,  0.01957949,  0.02451197])"
      ]
     },
     "execution_count": 11,
     "metadata": {},
     "output_type": "execute_result"
    }
   ],
   "source": [
    "cross_val_score(svr, X, Y, cv=5)"
   ]
  },
  {
   "cell_type": "markdown",
   "metadata": {},
   "source": [
    "Oh dear, so this did seem not to work very well. In fact it is remarkably poor. Now there are many things that we could do here. \n",
    "\n",
    "Firstly the overfit is a problem, even though it was poor in the first place. We could go back and clean up our feature set. There might be some gains to be made by getting rid of the noise.\n",
    "\n",
    "We could also see how removing the nulls but including dietary information performs. Though its a slight change to the question we could still possibly get some improvements there.\n",
    "\n",
    "Lastly, we could take our regression problem and turn it into a classifier. With this number of features and a discontinuous outcome, we might have better luck thinking of this as a classification problem. We could make it simpler still by instead of classifying on each possible value, group reviews to some decided high and low values.\n",
    "\n",
    "__And that is your challenge.__\n",
    "\n",
    "Transform this regression problem into a binary classifier and clean up the feature set. You can choose whether or not to include nutritional information, but try to cut your feature set down to the 30 most valuable features.\n",
    "\n",
    "Good luck!"
   ]
  },
  {
   "cell_type": "markdown",
   "metadata": {},
   "source": [
    "When you've finished that, also take a moment to think about bias. Is there anything in this dataset that makes you think it could be biased, perhaps extremely so?\n",
    "\n",
    "There is. Several things in fact, but most glaringly is that we don't actually have a random sample. It could be, and probably is, that the people more likely to choose some kinds of recipes are more likely to give high reviews.\n",
    "\n",
    "After all, people who eat chocolate _might_ just be happier people."
   ]
  },
  {
   "cell_type": "markdown",
   "metadata": {},
   "source": [
    "## SVM Classification Challenge"
   ]
  },
  {
   "cell_type": "markdown",
   "metadata": {},
   "source": [
    "My first step is to simplify and clean up my dataset. I begin by finding the features that are used infrequently. "
   ]
  },
  {
   "cell_type": "code",
   "execution_count": 7,
   "metadata": {
    "collapsed": true
   },
   "outputs": [],
   "source": [
    "# Reloading my X and Y variables from earlier. \n",
    "X = raw_data.drop(['rating', 'title', 'calories', 'protein', 'fat', 'sodium'], 1)\n",
    "Y = raw_data.rating"
   ]
  },
  {
   "cell_type": "code",
   "execution_count": 8,
   "metadata": {
    "scrolled": false
   },
   "outputs": [],
   "source": [
    "# Find the columns that are used less than 300 times in the dataset. Then append those column names to a list. \n",
    "uncommon_features = []\n",
    "for i in X.columns:\n",
    "    if X[i][X[i] == 1].count() < 300:\n",
    "        uncommon_features.append(i)"
   ]
  },
  {
   "cell_type": "code",
   "execution_count": 9,
   "metadata": {
    "collapsed": true
   },
   "outputs": [],
   "source": [
    "# Drop those uncommon features from the dataset. \n",
    "X = X.drop(uncommon_features, 1)"
   ]
  },
  {
   "cell_type": "code",
   "execution_count": 11,
   "metadata": {
    "collapsed": true
   },
   "outputs": [],
   "source": [
    "# Recode the 'rating' column to binary for values that are less than 4.\n",
    "Y = np.where(Y<=4, 0, 1)"
   ]
  },
  {
   "cell_type": "markdown",
   "metadata": {},
   "source": [
    "Now I am going to create a new data frame where I join the simplified features and the now binary rating column together. This will allow me to group by the ratings so that I can compare the frequency of the features between the two groups. If a feature is equally used for the positive and negative reviewed recipes then it won't be very helpful in differentiating the groups. So after grouping by the frequency of the features in each group, I find the difference for each feature between the two groups. This allows me to set a thresh hold for the features that have the most difference between positive and negative reviewed recipes. I then limit my original dataset to these features that appear to have the most difference for reviewed recipes."
   ]
  },
  {
   "cell_type": "code",
   "execution_count": 32,
   "metadata": {
    "collapsed": true
   },
   "outputs": [],
   "source": [
    "# A new data frame where I join the simplified features and the now binary rating column\n",
    "clean_data = pd.DataFrame(X)\n",
    "clean_data['rating'] = Y"
   ]
  },
  {
   "cell_type": "code",
   "execution_count": 34,
   "metadata": {},
   "outputs": [
    {
     "data": {
      "text/html": [
       "<div>\n",
       "<style>\n",
       "    .dataframe thead tr:only-child th {\n",
       "        text-align: right;\n",
       "    }\n",
       "\n",
       "    .dataframe thead th {\n",
       "        text-align: left;\n",
       "    }\n",
       "\n",
       "    .dataframe tbody tr th {\n",
       "        vertical-align: top;\n",
       "    }\n",
       "</style>\n",
       "<table border=\"1\" class=\"dataframe\">\n",
       "  <thead>\n",
       "    <tr style=\"text-align: right;\">\n",
       "      <th></th>\n",
       "      <th>alcoholic</th>\n",
       "      <th>backyard bbq</th>\n",
       "      <th>bake</th>\n",
       "      <th>bon appétit</th>\n",
       "      <th>christmas</th>\n",
       "      <th>cocktail</th>\n",
       "      <th>cocktail party</th>\n",
       "      <th>dessert</th>\n",
       "      <th>dinner</th>\n",
       "      <th>drink</th>\n",
       "      <th>...</th>\n",
       "      <th>quick &amp; easy</th>\n",
       "      <th>roast</th>\n",
       "      <th>side</th>\n",
       "      <th>soy free</th>\n",
       "      <th>summer</th>\n",
       "      <th>thanksgiving</th>\n",
       "      <th>tree nut free</th>\n",
       "      <th>vegan</th>\n",
       "      <th>vegetable</th>\n",
       "      <th>wheat/gluten-free</th>\n",
       "    </tr>\n",
       "    <tr>\n",
       "      <th>rating</th>\n",
       "      <th></th>\n",
       "      <th></th>\n",
       "      <th></th>\n",
       "      <th></th>\n",
       "      <th></th>\n",
       "      <th></th>\n",
       "      <th></th>\n",
       "      <th></th>\n",
       "      <th></th>\n",
       "      <th></th>\n",
       "      <th></th>\n",
       "      <th></th>\n",
       "      <th></th>\n",
       "      <th></th>\n",
       "      <th></th>\n",
       "      <th></th>\n",
       "      <th></th>\n",
       "      <th></th>\n",
       "      <th></th>\n",
       "      <th></th>\n",
       "      <th></th>\n",
       "    </tr>\n",
       "  </thead>\n",
       "  <tbody>\n",
       "    <tr>\n",
       "      <th>0</th>\n",
       "      <td>0.058192</td>\n",
       "      <td>0.035967</td>\n",
       "      <td>0.206141</td>\n",
       "      <td>0.414537</td>\n",
       "      <td>0.038866</td>\n",
       "      <td>0.025660</td>\n",
       "      <td>0.073438</td>\n",
       "      <td>0.163303</td>\n",
       "      <td>0.112089</td>\n",
       "      <td>0.074404</td>\n",
       "      <td>...</td>\n",
       "      <td>0.282800</td>\n",
       "      <td>0.047670</td>\n",
       "      <td>0.164161</td>\n",
       "      <td>0.368692</td>\n",
       "      <td>0.200021</td>\n",
       "      <td>0.054005</td>\n",
       "      <td>0.326712</td>\n",
       "      <td>0.104574</td>\n",
       "      <td>0.113378</td>\n",
       "      <td>0.237707</td>\n",
       "    </tr>\n",
       "    <tr>\n",
       "      <th>1</th>\n",
       "      <td>0.027286</td>\n",
       "      <td>0.056156</td>\n",
       "      <td>0.232166</td>\n",
       "      <td>0.511641</td>\n",
       "      <td>0.063047</td>\n",
       "      <td>0.013131</td>\n",
       "      <td>0.043770</td>\n",
       "      <td>0.191097</td>\n",
       "      <td>0.154684</td>\n",
       "      <td>0.036692</td>\n",
       "      <td>...</td>\n",
       "      <td>0.254982</td>\n",
       "      <td>0.081579</td>\n",
       "      <td>0.151052</td>\n",
       "      <td>0.433414</td>\n",
       "      <td>0.213075</td>\n",
       "      <td>0.088936</td>\n",
       "      <td>0.372602</td>\n",
       "      <td>0.081673</td>\n",
       "      <td>0.096014</td>\n",
       "      <td>0.250698</td>\n",
       "    </tr>\n",
       "  </tbody>\n",
       "</table>\n",
       "<p>2 rows × 34 columns</p>\n",
       "</div>"
      ],
      "text/plain": [
       "        alcoholic  backyard bbq      bake  bon appétit  christmas  cocktail  \\\n",
       "rating                                                                        \n",
       "0        0.058192      0.035967  0.206141     0.414537   0.038866  0.025660   \n",
       "1        0.027286      0.056156  0.232166     0.511641   0.063047  0.013131   \n",
       "\n",
       "        cocktail party   dessert    dinner     drink        ...          \\\n",
       "rating                                                      ...           \n",
       "0             0.073438  0.163303  0.112089  0.074404        ...           \n",
       "1             0.043770  0.191097  0.154684  0.036692        ...           \n",
       "\n",
       "        quick & easy     roast      side  soy free    summer  thanksgiving  \\\n",
       "rating                                                                       \n",
       "0           0.282800  0.047670  0.164161  0.368692  0.200021      0.054005   \n",
       "1           0.254982  0.081579  0.151052  0.433414  0.213075      0.088936   \n",
       "\n",
       "        tree nut free     vegan  vegetable  wheat/gluten-free  \n",
       "rating                                                         \n",
       "0            0.326712  0.104574   0.113378           0.237707  \n",
       "1            0.372602  0.081673   0.096014           0.250698  \n",
       "\n",
       "[2 rows x 34 columns]"
      ]
     },
     "execution_count": 34,
     "metadata": {},
     "output_type": "execute_result"
    }
   ],
   "source": [
    "# Group by the ratings so that the frequency of the features between the two groups can be compared.\n",
    "averageFeatures = clean_data.groupby('rating').mean()\n",
    "averageFeatures"
   ]
  },
  {
   "cell_type": "code",
   "execution_count": 18,
   "metadata": {},
   "outputs": [
    {
     "data": {
      "text/html": [
       "<div>\n",
       "<style>\n",
       "    .dataframe thead tr:only-child th {\n",
       "        text-align: right;\n",
       "    }\n",
       "\n",
       "    .dataframe thead th {\n",
       "        text-align: left;\n",
       "    }\n",
       "\n",
       "    .dataframe tbody tr th {\n",
       "        vertical-align: top;\n",
       "    }\n",
       "</style>\n",
       "<table border=\"1\" class=\"dataframe\">\n",
       "  <thead>\n",
       "    <tr style=\"text-align: right;\">\n",
       "      <th></th>\n",
       "      <th>alcoholic</th>\n",
       "      <th>almond</th>\n",
       "      <th>appetizer</th>\n",
       "      <th>apple</th>\n",
       "      <th>backyard bbq</th>\n",
       "      <th>bacon</th>\n",
       "      <th>bake</th>\n",
       "      <th>basil</th>\n",
       "      <th>bean</th>\n",
       "      <th>beef</th>\n",
       "      <th>...</th>\n",
       "      <th>vegan</th>\n",
       "      <th>vegetable</th>\n",
       "      <th>vegetarian</th>\n",
       "      <th>vinegar</th>\n",
       "      <th>walnut</th>\n",
       "      <th>wheat/gluten-free</th>\n",
       "      <th>white wine</th>\n",
       "      <th>winter</th>\n",
       "      <th>yogurt</th>\n",
       "      <th>turkey</th>\n",
       "    </tr>\n",
       "    <tr>\n",
       "      <th>rating</th>\n",
       "      <th></th>\n",
       "      <th></th>\n",
       "      <th></th>\n",
       "      <th></th>\n",
       "      <th></th>\n",
       "      <th></th>\n",
       "      <th></th>\n",
       "      <th></th>\n",
       "      <th></th>\n",
       "      <th></th>\n",
       "      <th></th>\n",
       "      <th></th>\n",
       "      <th></th>\n",
       "      <th></th>\n",
       "      <th></th>\n",
       "      <th></th>\n",
       "      <th></th>\n",
       "      <th></th>\n",
       "      <th></th>\n",
       "      <th></th>\n",
       "      <th></th>\n",
       "    </tr>\n",
       "  </thead>\n",
       "  <tbody>\n",
       "    <tr>\n",
       "      <th>0</th>\n",
       "      <td>NaN</td>\n",
       "      <td>NaN</td>\n",
       "      <td>NaN</td>\n",
       "      <td>NaN</td>\n",
       "      <td>NaN</td>\n",
       "      <td>NaN</td>\n",
       "      <td>NaN</td>\n",
       "      <td>NaN</td>\n",
       "      <td>NaN</td>\n",
       "      <td>NaN</td>\n",
       "      <td>...</td>\n",
       "      <td>NaN</td>\n",
       "      <td>NaN</td>\n",
       "      <td>NaN</td>\n",
       "      <td>NaN</td>\n",
       "      <td>NaN</td>\n",
       "      <td>NaN</td>\n",
       "      <td>NaN</td>\n",
       "      <td>NaN</td>\n",
       "      <td>NaN</td>\n",
       "      <td>NaN</td>\n",
       "    </tr>\n",
       "    <tr>\n",
       "      <th>1</th>\n",
       "      <td>-0.030906</td>\n",
       "      <td>0.008073</td>\n",
       "      <td>0.005671</td>\n",
       "      <td>0.003479</td>\n",
       "      <td>0.020188</td>\n",
       "      <td>0.006948</td>\n",
       "      <td>0.026025</td>\n",
       "      <td>0.00109</td>\n",
       "      <td>-0.001401</td>\n",
       "      <td>0.009364</td>\n",
       "      <td>...</td>\n",
       "      <td>-0.022901</td>\n",
       "      <td>-0.017364</td>\n",
       "      <td>-0.006232</td>\n",
       "      <td>0.005541</td>\n",
       "      <td>0.006097</td>\n",
       "      <td>0.012992</td>\n",
       "      <td>0.003851</td>\n",
       "      <td>0.008313</td>\n",
       "      <td>-0.009573</td>\n",
       "      <td>0.009986</td>\n",
       "    </tr>\n",
       "  </tbody>\n",
       "</table>\n",
       "<p>2 rows × 158 columns</p>\n",
       "</div>"
      ],
      "text/plain": [
       "        alcoholic    almond  appetizer     apple  backyard bbq     bacon  \\\n",
       "rating                                                                     \n",
       "0             NaN       NaN        NaN       NaN           NaN       NaN   \n",
       "1       -0.030906  0.008073   0.005671  0.003479      0.020188  0.006948   \n",
       "\n",
       "            bake    basil      bean      beef    ...        vegan  vegetable  \\\n",
       "rating                                           ...                           \n",
       "0            NaN      NaN       NaN       NaN    ...          NaN        NaN   \n",
       "1       0.026025  0.00109 -0.001401  0.009364    ...    -0.022901  -0.017364   \n",
       "\n",
       "        vegetarian   vinegar    walnut  wheat/gluten-free  white wine  \\\n",
       "rating                                                                  \n",
       "0              NaN       NaN       NaN                NaN         NaN   \n",
       "1        -0.006232  0.005541  0.006097           0.012992    0.003851   \n",
       "\n",
       "          winter    yogurt    turkey  \n",
       "rating                                \n",
       "0            NaN       NaN       NaN  \n",
       "1       0.008313 -0.009573  0.009986  \n",
       "\n",
       "[2 rows x 158 columns]"
      ]
     },
     "execution_count": 18,
     "metadata": {},
     "output_type": "execute_result"
    }
   ],
   "source": [
    "# The difference for each feature between the two groups.\n",
    "averageFeatures.diff()"
   ]
  },
  {
   "cell_type": "code",
   "execution_count": 31,
   "metadata": {},
   "outputs": [
    {
     "data": {
      "text/html": [
       "<div>\n",
       "<style>\n",
       "    .dataframe thead tr:only-child th {\n",
       "        text-align: right;\n",
       "    }\n",
       "\n",
       "    .dataframe thead th {\n",
       "        text-align: left;\n",
       "    }\n",
       "\n",
       "    .dataframe tbody tr th {\n",
       "        vertical-align: top;\n",
       "    }\n",
       "</style>\n",
       "<table border=\"1\" class=\"dataframe\">\n",
       "  <thead>\n",
       "    <tr style=\"text-align: right;\">\n",
       "      <th></th>\n",
       "      <th>alcoholic</th>\n",
       "      <th>almond</th>\n",
       "      <th>appetizer</th>\n",
       "      <th>apple</th>\n",
       "      <th>backyard bbq</th>\n",
       "      <th>bacon</th>\n",
       "      <th>bake</th>\n",
       "      <th>basil</th>\n",
       "      <th>bean</th>\n",
       "      <th>beef</th>\n",
       "      <th>...</th>\n",
       "      <th>vegan</th>\n",
       "      <th>vegetable</th>\n",
       "      <th>vegetarian</th>\n",
       "      <th>vinegar</th>\n",
       "      <th>walnut</th>\n",
       "      <th>wheat/gluten-free</th>\n",
       "      <th>white wine</th>\n",
       "      <th>winter</th>\n",
       "      <th>yogurt</th>\n",
       "      <th>turkey</th>\n",
       "    </tr>\n",
       "    <tr>\n",
       "      <th>rating</th>\n",
       "      <th></th>\n",
       "      <th></th>\n",
       "      <th></th>\n",
       "      <th></th>\n",
       "      <th></th>\n",
       "      <th></th>\n",
       "      <th></th>\n",
       "      <th></th>\n",
       "      <th></th>\n",
       "      <th></th>\n",
       "      <th></th>\n",
       "      <th></th>\n",
       "      <th></th>\n",
       "      <th></th>\n",
       "      <th></th>\n",
       "      <th></th>\n",
       "      <th></th>\n",
       "      <th></th>\n",
       "      <th></th>\n",
       "      <th></th>\n",
       "      <th></th>\n",
       "    </tr>\n",
       "  </thead>\n",
       "  <tbody>\n",
       "    <tr>\n",
       "      <th>0</th>\n",
       "      <td>NaN</td>\n",
       "      <td>NaN</td>\n",
       "      <td>NaN</td>\n",
       "      <td>NaN</td>\n",
       "      <td>NaN</td>\n",
       "      <td>NaN</td>\n",
       "      <td>NaN</td>\n",
       "      <td>NaN</td>\n",
       "      <td>NaN</td>\n",
       "      <td>NaN</td>\n",
       "      <td>...</td>\n",
       "      <td>NaN</td>\n",
       "      <td>NaN</td>\n",
       "      <td>NaN</td>\n",
       "      <td>NaN</td>\n",
       "      <td>NaN</td>\n",
       "      <td>NaN</td>\n",
       "      <td>NaN</td>\n",
       "      <td>NaN</td>\n",
       "      <td>NaN</td>\n",
       "      <td>NaN</td>\n",
       "    </tr>\n",
       "    <tr>\n",
       "      <th>1</th>\n",
       "      <td>-0.030906</td>\n",
       "      <td>NaN</td>\n",
       "      <td>NaN</td>\n",
       "      <td>NaN</td>\n",
       "      <td>0.020188</td>\n",
       "      <td>NaN</td>\n",
       "      <td>0.026025</td>\n",
       "      <td>NaN</td>\n",
       "      <td>NaN</td>\n",
       "      <td>NaN</td>\n",
       "      <td>...</td>\n",
       "      <td>-0.022901</td>\n",
       "      <td>-0.017364</td>\n",
       "      <td>NaN</td>\n",
       "      <td>NaN</td>\n",
       "      <td>NaN</td>\n",
       "      <td>0.012992</td>\n",
       "      <td>NaN</td>\n",
       "      <td>NaN</td>\n",
       "      <td>NaN</td>\n",
       "      <td>NaN</td>\n",
       "    </tr>\n",
       "  </tbody>\n",
       "</table>\n",
       "<p>2 rows × 158 columns</p>\n",
       "</div>"
      ],
      "text/plain": [
       "        alcoholic  almond  appetizer  apple  backyard bbq  bacon      bake  \\\n",
       "rating                                                                       \n",
       "0             NaN     NaN        NaN    NaN           NaN    NaN       NaN   \n",
       "1       -0.030906     NaN        NaN    NaN      0.020188    NaN  0.026025   \n",
       "\n",
       "        basil  bean  beef   ...       vegan  vegetable  vegetarian  vinegar  \\\n",
       "rating                      ...                                               \n",
       "0         NaN   NaN   NaN   ...         NaN        NaN         NaN      NaN   \n",
       "1         NaN   NaN   NaN   ...   -0.022901  -0.017364         NaN      NaN   \n",
       "\n",
       "        walnut  wheat/gluten-free  white wine  winter  yogurt  turkey  \n",
       "rating                                                                 \n",
       "0          NaN                NaN         NaN     NaN     NaN     NaN  \n",
       "1          NaN           0.012992         NaN     NaN     NaN     NaN  \n",
       "\n",
       "[2 rows x 158 columns]"
      ]
     },
     "execution_count": 31,
     "metadata": {},
     "output_type": "execute_result"
    }
   ],
   "source": [
    "# Setting a thresh hold for the features that have the most difference between the two groups.\n",
    "averageFeatures.diff()[(averageFeatures.diff() >= 0.012) | (averageFeatures.diff() <= -0.012)]"
   ]
  },
  {
   "cell_type": "code",
   "execution_count": 23,
   "metadata": {},
   "outputs": [
    {
     "data": {
      "text/html": [
       "<div>\n",
       "<style>\n",
       "    .dataframe thead tr:only-child th {\n",
       "        text-align: right;\n",
       "    }\n",
       "\n",
       "    .dataframe thead th {\n",
       "        text-align: left;\n",
       "    }\n",
       "\n",
       "    .dataframe tbody tr th {\n",
       "        vertical-align: top;\n",
       "    }\n",
       "</style>\n",
       "<table border=\"1\" class=\"dataframe\">\n",
       "  <thead>\n",
       "    <tr style=\"text-align: right;\">\n",
       "      <th></th>\n",
       "      <th>alcoholic</th>\n",
       "      <th>backyard bbq</th>\n",
       "      <th>bake</th>\n",
       "      <th>bon appétit</th>\n",
       "      <th>christmas</th>\n",
       "      <th>cocktail</th>\n",
       "      <th>cocktail party</th>\n",
       "      <th>dessert</th>\n",
       "      <th>dinner</th>\n",
       "      <th>drink</th>\n",
       "      <th>...</th>\n",
       "      <th>quick &amp; easy</th>\n",
       "      <th>roast</th>\n",
       "      <th>side</th>\n",
       "      <th>soy free</th>\n",
       "      <th>summer</th>\n",
       "      <th>thanksgiving</th>\n",
       "      <th>tree nut free</th>\n",
       "      <th>vegan</th>\n",
       "      <th>vegetable</th>\n",
       "      <th>wheat/gluten-free</th>\n",
       "    </tr>\n",
       "    <tr>\n",
       "      <th>rating</th>\n",
       "      <th></th>\n",
       "      <th></th>\n",
       "      <th></th>\n",
       "      <th></th>\n",
       "      <th></th>\n",
       "      <th></th>\n",
       "      <th></th>\n",
       "      <th></th>\n",
       "      <th></th>\n",
       "      <th></th>\n",
       "      <th></th>\n",
       "      <th></th>\n",
       "      <th></th>\n",
       "      <th></th>\n",
       "      <th></th>\n",
       "      <th></th>\n",
       "      <th></th>\n",
       "      <th></th>\n",
       "      <th></th>\n",
       "      <th></th>\n",
       "      <th></th>\n",
       "    </tr>\n",
       "  </thead>\n",
       "  <tbody>\n",
       "    <tr>\n",
       "      <th>0</th>\n",
       "      <td>NaN</td>\n",
       "      <td>NaN</td>\n",
       "      <td>NaN</td>\n",
       "      <td>NaN</td>\n",
       "      <td>NaN</td>\n",
       "      <td>NaN</td>\n",
       "      <td>NaN</td>\n",
       "      <td>NaN</td>\n",
       "      <td>NaN</td>\n",
       "      <td>NaN</td>\n",
       "      <td>...</td>\n",
       "      <td>NaN</td>\n",
       "      <td>NaN</td>\n",
       "      <td>NaN</td>\n",
       "      <td>NaN</td>\n",
       "      <td>NaN</td>\n",
       "      <td>NaN</td>\n",
       "      <td>NaN</td>\n",
       "      <td>NaN</td>\n",
       "      <td>NaN</td>\n",
       "      <td>NaN</td>\n",
       "    </tr>\n",
       "    <tr>\n",
       "      <th>1</th>\n",
       "      <td>-0.030906</td>\n",
       "      <td>0.020188</td>\n",
       "      <td>0.026025</td>\n",
       "      <td>0.097104</td>\n",
       "      <td>0.024181</td>\n",
       "      <td>-0.012529</td>\n",
       "      <td>-0.029668</td>\n",
       "      <td>0.027794</td>\n",
       "      <td>0.042595</td>\n",
       "      <td>-0.037712</td>\n",
       "      <td>...</td>\n",
       "      <td>-0.027818</td>\n",
       "      <td>0.033909</td>\n",
       "      <td>-0.013109</td>\n",
       "      <td>0.064722</td>\n",
       "      <td>0.013054</td>\n",
       "      <td>0.034932</td>\n",
       "      <td>0.045889</td>\n",
       "      <td>-0.022901</td>\n",
       "      <td>-0.017364</td>\n",
       "      <td>0.012992</td>\n",
       "    </tr>\n",
       "  </tbody>\n",
       "</table>\n",
       "<p>2 rows × 34 columns</p>\n",
       "</div>"
      ],
      "text/plain": [
       "        alcoholic  backyard bbq      bake  bon appétit  christmas  cocktail  \\\n",
       "rating                                                                        \n",
       "0             NaN           NaN       NaN          NaN        NaN       NaN   \n",
       "1       -0.030906      0.020188  0.026025     0.097104   0.024181 -0.012529   \n",
       "\n",
       "        cocktail party   dessert    dinner     drink        ...          \\\n",
       "rating                                                      ...           \n",
       "0                  NaN       NaN       NaN       NaN        ...           \n",
       "1            -0.029668  0.027794  0.042595 -0.037712        ...           \n",
       "\n",
       "        quick & easy     roast      side  soy free    summer  thanksgiving  \\\n",
       "rating                                                                       \n",
       "0                NaN       NaN       NaN       NaN       NaN           NaN   \n",
       "1          -0.027818  0.033909 -0.013109  0.064722  0.013054      0.034932   \n",
       "\n",
       "        tree nut free     vegan  vegetable  wheat/gluten-free  \n",
       "rating                                                         \n",
       "0                 NaN       NaN        NaN                NaN  \n",
       "1            0.045889 -0.022901  -0.017364           0.012992  \n",
       "\n",
       "[2 rows x 34 columns]"
      ]
     },
     "execution_count": 23,
     "metadata": {},
     "output_type": "execute_result"
    }
   ],
   "source": [
    "# Drop the columns that have null values in both rows of the feature. The number of feature has dropped to 34. \n",
    "averageFeatures.diff()[(averageFeatures.diff() >= 0.012) | (averageFeatures.diff() <= -0.012)].dropna(axis=1, how='all')"
   ]
  },
  {
   "cell_type": "code",
   "execution_count": 19,
   "metadata": {
    "collapsed": true
   },
   "outputs": [],
   "source": [
    "new_data = averageFeatures.diff()[(averageFeatures.diff() >= 0.012) | (averageFeatures.diff() <= -0.012)].dropna(axis=1, how='all')"
   ]
  },
  {
   "cell_type": "code",
   "execution_count": 24,
   "metadata": {
    "collapsed": true,
    "scrolled": true
   },
   "outputs": [],
   "source": [
    "# Loop through these 34 chosen features and make of list of the column names. \n",
    "chosen_features = []\n",
    "for each in new_data:\n",
    "    chosen_features.append(each)"
   ]
  },
  {
   "cell_type": "code",
   "execution_count": 25,
   "metadata": {
    "collapsed": true
   },
   "outputs": [],
   "source": [
    "# Reduce my original dataset to these features\n",
    "X = X[chosen_features]    "
   ]
  },
  {
   "cell_type": "code",
   "execution_count": 27,
   "metadata": {},
   "outputs": [
    {
     "data": {
      "text/plain": [
       "SVC(C=1.0, cache_size=200, class_weight=None, coef0=0.0,\n",
       "  decision_function_shape='ovr', degree=3, gamma='auto', kernel='rbf',\n",
       "  max_iter=-1, probability=False, random_state=None, shrinking=True,\n",
       "  tol=0.001, verbose=False)"
      ]
     },
     "execution_count": 27,
     "metadata": {},
     "output_type": "execute_result"
    }
   ],
   "source": [
    "# Now run my support vector machine classification model on my binary ratings and reduced feature dataset. \n",
    "svc = SVC()\n",
    "svc.fit(X, Y)"
   ]
  },
  {
   "cell_type": "code",
   "execution_count": 28,
   "metadata": {},
   "outputs": [
    {
     "data": {
      "text/plain": [
       "0.58951725513664477"
      ]
     },
     "execution_count": 28,
     "metadata": {},
     "output_type": "execute_result"
    }
   ],
   "source": [
    "# The accuracy from the SVC model. \n",
    "svc.score(X, Y)"
   ]
  },
  {
   "cell_type": "code",
   "execution_count": 29,
   "metadata": {},
   "outputs": [
    {
     "data": {
      "text/plain": [
       "array([ 0.5771628 ,  0.58688606,  0.57217651,  0.58229426,  0.58767773])"
      ]
     },
     "execution_count": 29,
     "metadata": {},
     "output_type": "execute_result"
    }
   ],
   "source": [
    "# The cross validated accuracy for the SVC model \n",
    "cross_val_score(svc, X, Y, cv=5)"
   ]
  },
  {
   "cell_type": "code",
   "execution_count": 30,
   "metadata": {
    "scrolled": true
   },
   "outputs": [
    {
     "data": {
      "text/html": [
       "<div>\n",
       "<style>\n",
       "    .dataframe thead tr:only-child th {\n",
       "        text-align: right;\n",
       "    }\n",
       "\n",
       "    .dataframe thead th {\n",
       "        text-align: left;\n",
       "    }\n",
       "\n",
       "    .dataframe tbody tr th {\n",
       "        vertical-align: top;\n",
       "    }\n",
       "</style>\n",
       "<table border=\"1\" class=\"dataframe\">\n",
       "  <thead>\n",
       "    <tr style=\"text-align: right;\">\n",
       "      <th>col_0</th>\n",
       "      <th>0</th>\n",
       "      <th>1</th>\n",
       "    </tr>\n",
       "    <tr>\n",
       "      <th>row_0</th>\n",
       "      <th></th>\n",
       "      <th></th>\n",
       "    </tr>\n",
       "  </thead>\n",
       "  <tbody>\n",
       "    <tr>\n",
       "      <th>0</th>\n",
       "      <td>3275</td>\n",
       "      <td>6039</td>\n",
       "    </tr>\n",
       "    <tr>\n",
       "      <th>1</th>\n",
       "      <td>2192</td>\n",
       "      <td>8546</td>\n",
       "    </tr>\n",
       "  </tbody>\n",
       "</table>\n",
       "</div>"
      ],
      "text/plain": [
       "col_0     0     1\n",
       "row_0            \n",
       "0      3275  6039\n",
       "1      2192  8546"
      ]
     },
     "execution_count": 30,
     "metadata": {},
     "output_type": "execute_result"
    }
   ],
   "source": [
    "# This crosstab shows that failed predictions seem to be even for both groups. \n",
    "pd.crosstab(Y, svc.predict(X))"
   ]
  },
  {
   "cell_type": "markdown",
   "metadata": {},
   "source": [
    "Some of the main bias issues with this dataset is it not a randomly collected sample of recipes or recipe reviews. Since it is not random, this model will have very limited ability to be used on other recipe review datasets. Also, we can see from the first histogram that the large majority of reviews are positive. This majority of positive reviews will bias the model to being able to predict positive over negative reviews. "
   ]
  }
 ],
 "metadata": {
  "kernelspec": {
   "display_name": "Python 3",
   "language": "python",
   "name": "python3"
  },
  "language_info": {
   "codemirror_mode": {
    "name": "ipython",
    "version": 3
   },
   "file_extension": ".py",
   "mimetype": "text/x-python",
   "name": "python",
   "nbconvert_exporter": "python",
   "pygments_lexer": "ipython3",
   "version": "3.6.2"
  }
 },
 "nbformat": 4,
 "nbformat_minor": 2
}
