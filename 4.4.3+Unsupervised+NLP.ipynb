{
 "cells": [
  {
   "cell_type": "code",
   "execution_count": 1,
   "metadata": {
    "collapsed": true,
    "run_control": {
     "frozen": false,
     "read_only": false
    }
   },
   "outputs": [],
   "source": [
    "import numpy as np\n",
    "import pandas as pd\n",
    "import scipy\n",
    "import matplotlib.pyplot as plt\n",
    "import seaborn as sns\n",
    "%matplotlib inline"
   ]
  },
  {
   "cell_type": "markdown",
   "metadata": {
    "run_control": {
     "frozen": false,
     "read_only": false
    }
   },
   "source": [
    "# Semantics\n",
    "\n",
    "With all the information we were able to pull out of the text, one thing we didn't really use was semantics- the *meaning* of the words and sentences.  Our supervised learning model 'knows' that Jane Austen tends to use the word 'lady' a lot in her writing, and it may know (if you included parts of speech as features) that 'lady' is a noun, but it doesn't know what a lady is.  There is nothing in our work on NLP so far that would allow a model to say whether 'queen' or 'car' is more similar to 'lady.' \n",
    "\n",
    "This severely limits the applicability of our NLP skills!  In the absence of semantic information, models can get tripped up on things like synonyms ('milady' and 'lady'). We could modify the spaCy dictionary to include 'lady' as the lemma of 'milady,' then use lemmas for all our analyses, but for this to be an effective approach we would have to go through our entire corpus and identify all synonyms for all words by hand. This approach would also discard subtle differences in the connotations of (words, concepts, ideas, or emotions associated with) 'lady' (elicits thoughts of formal manners and England) and 'milady' (elicits thoughts of medieval ages and Rennaissance Faires).  \n",
    "\n",
    "Basically, language is complicated, and trying to explicitly model all the information encoded in language is nearly impossibly complicated.  Fortunately, unsupervised modeling techniques, and particularly unsupervised neural networks, are perfect for this kind of task.  Rather than us 'telling' the model how language works and what each sentence means, we can feed the model a corpus of text and have it 'learn' the rules by identifying recurring patterns within the corpus.  Then we can use the trained unsupervised model to understand new sentences as well.  \n",
    "\n",
    "As with supervised NLP, unsupervised models are limited by their corpus- an unsupervised model trained on a medical database is unlikely to know that 'lady' and 'milady' are similar, just as a model trained on Jane Austen wouldn't catch that 'Ehler-Danlos Syndrome' and 'joint hypermobility' describe the same medical condition.  \n",
    "\n",
    "In this assignment, we are going to introduce Latent Semantic Analysis.  In the next, we will discuss unsupervised neural network applications for NLP.  \n",
    "\n",
    "# Converting sentences to vectors\n",
    "\n",
    "Consider the following sentences:\n",
    "\n",
    "1. \"The best Monty Python sketch is the one about the dead parrot,  I laughed so hard.\"\n",
    "2. \"I laugh when I think about Python's Ministry of Silly Walks sketch, it is funny, funny, funny, the best!\"\n",
    "3. \"Chocolate is the best ice cream dessert topping, with a great taste.\"\n",
    "4. \"The Lumberjack Song is the funniest Monty Python bit: I can't think of it without laughing.\"\n",
    "5. \"I would rather put strawberries on my ice cream for dessert, they have the best taste.\"\n",
    "6. \"The taste of caramel is a fantastic accompaniment to tasty mint ice cream.\"\n",
    "\n",
    "As a human being, it's easy to see that the sentences involve two topics, comedy and ice cream.   One way to represent the sentences is in a term-document matrix, with a column for each sentence and a row for each word.  Ignoring the stop words 'the', 'is','and', 'a', 'of,','I', and 'about,', discarding words that occur only once, and reducing words like 'laughing' to their root form ('laugh'), the term-document matrix for these sentences would be:\n",
    "\n",
    "|           | 1 | 2 | 3 | 4 | 5 | 6 |\n",
    "|-----------|---|---|---|---|---|---|\n",
    "| Monty     | 1 | 0 | 0 | 1 | 0 | 0 |\n",
    "| Python    | 1 | 1 | 0 | 1 | 0 | 0 |\n",
    "| sketch    | 1 | 1 | 0 | 0 | 0 | 0 |\n",
    "| laugh     | 1 | 1 | 0 | 1 | 0 | 0 |\n",
    "| funny     | 0 | 3 | 0 | 1 | 0 | 0 |\n",
    "| best      | 1 | 1 | 1 | 0 | 1 | 0 |\n",
    "| ice cream | 0 | 0 | 1 | 0 | 1 | 1 |\n",
    "| dessert   | 0 | 0 | 1 | 0 | 1 | 0 |\n",
    "| taste     | 0 | 0 | 1 | 0 | 1 | 2 |\n",
    "\n",
    "Note that we use the term 'document' to refer to the individual text chunks we are working with. It can sometimes mean sentences, sometimes paragraphs, and sometimes whole text files.  In our cases, each sentence is a document.  Also note that, contrary to how we usually operate, a term-document matrix has words as rows and documents as columns.\n",
    "\n",
    "The comedy sentences use the words: Python (3), laugh (3), Monty (2), sketch (2), funny (2), and best (2).\n",
    "The ice cream sentences use the words: ice cream (3), dessert (3), taste (3), and best (2).\n",
    "\n",
    "The word 'best' stands out here- it appears in more sentences than any other word (4 of 6).  It is used equally to describe Monty Python and ice cream.  If we were to use this term-document matrix as-is to teach a computer to parse sentences, 'best' would end up as a significant identifier for both topics, and every time we gave the model a new sentence to identify that included 'best,' it would bring up both topics.  Not very useful.  To avoid this, we want to weight the matrix so that words that occur in many different sentences have lower weights than words that occur in fewer sentences.  We do want to put a floor on this though-- words that only occur once are totally useless for finding associations between sentences.  \n",
    "\n",
    "Another word that stands out is 'funny', which appears more often in the comedy sentences than any other word.  This suggests that 'funny' is a very important word for defining the 'comedy' topic.  \n",
    "\n",
    "# Quantifying documents: Collection and document frequencies\n",
    "\n",
    "'Document frequency' counts how many sentences a word appears in.  'Collection frequency' counts how often a word appears, total, over all sentences.  Let's calculate the df and cf for our sentence set:\n",
    "\n",
    "|           |df |cf| \n",
    "|-----------|---|---|\n",
    "| Monty     | 2 | 2 | \n",
    "| Python    | 3 | 3 | \n",
    "| sketch    | 2 | 2 | \n",
    "| laugh     | 3 | 3 | \n",
    "| funny     | 2 | 4 | \n",
    "| best      | 4 | 4 | \n",
    "| ice cream | 3 | 3 | \n",
    "| dessert   | 2 | 2 | \n",
    "| taste     | 3 | 4 | \n",
    "\n",
    "# Penalizing Indiscriminate Words: Inverse Document Frequency\n",
    "\n",
    "Now let's weight the document frequency so that words that occur less often (like 'sketch' and 'dessert') are more influential than words that occur a lot (like 'best').  We will calculate the ratio of total documents (N) divided by df, then take the log (base 2) of the ratio, to get our inverse document frequency number (idf) for each term (t):\n",
    "\n",
    "$$idf_t=log \\dfrac N{df_t}$$\n",
    "\n",
    "\n",
    "|           |df |cf| idf |\n",
    "|-----------|---|---|\n",
    "| Monty     | 2 | 2 | 1.585 |\n",
    "| Python    | 3 | 3 | 1 |\n",
    "| sketch    | 2 | 2 | 1.585 |\n",
    "| laugh     | 3 | 3 | 1 |\n",
    "| funny     | 2 | 4 | 1.585 |\n",
    "| best      | 4 | 4 | .585 |\n",
    "| ice cream | 3 | 3 | 1 |\n",
    "| dessert   | 2 | 2 | 1.585 |\n",
    "| taste     | 3 | 4 | 1 |\n",
    "\n",
    "The idf weights tell the model to consider 'best' as less important than other terms.  \n",
    "\n",
    "# Term-frequency weights\n",
    "The next piece of information to consider for our weights is how frequently a term appears within a sentence.  The word 'funny' appears three times in one sentence- it would be good if we were able to weight 'funny' so that the model knows that. We can accomplish this by creating unique weights for each sentence that combine the term frequency (how often a word appears within an individual document) with the idf, like so:\n",
    "\n",
    "$$tf-idf_{t,d}=(tf_{t,d})(idf_t)$$\n",
    "\n",
    "Now the term 'funny' in sentence 2, where it occurs three times, will be weighted more heavily than the term 'funny' in sentence 1, where it only occurs once.  If 'best' had appeared multiple times in one sentence, it would also have a higher weight for that sentence, but the weight would be reduced by the idf term that takes into account that 'best' is a pretty common word in our collection of sentences.\n",
    "\n",
    "The tf_idf score will be highest for a term that occurs a lot within a small number of sentences, and lowest for a word that occurs in most or all sentences.  \n",
    "\n",
    "Now we can represent each sentence as a vector made up of the tf-idf scores for each word:\n",
    "\n",
    "|           | 1 | 2 | 3 |\n",
    "|-----------|---|---|---|\n",
    "| Monty     | 1.585 | 0 | 0 | \n",
    "| Python    | 1 | 1 | 0 | \n",
    "| sketch    | 1.585| 1.585 | 0 | \n",
    "| laugh     | 1 | 1 | 0 | \n",
    "| funny     | 0 | 4.755 | 0 | \n",
    "| best      | .585 | .585 | .585 | \n",
    "| ice cream | 0 | 0 | 1 | \n",
    "| dessert   | 0 | 0 | 1.585 | \n",
    "| taste     | 0 | 0 | 1 |\n",
    "\n",
    "\n",
    "\n",
    "## Drill: tf-idf scores\n",
    "\n",
    "Converting sentences into numeric vectors is fundamental for a lot of unsupervised NLP tasks.  To make sure you are solid on how these vectors work, please generate the vectors for the last three sentences.  If you are feeling uncertain, have your mentor walk you through it.\n",
    "\n",
    "(solution for 4, 5, and 6:\n",
    "\n",
    "4. 1.585, 1, 0, 1, 1.585, 0,0,0,0\n",
    "5. 0,0,0,0,0, .585, 1, 1.585, 1\n",
    "6. 0,0,0,0,0,0, 1, 0, 2)\n",
    "\n"
   ]
  },
  {
   "cell_type": "markdown",
   "metadata": {
    "run_control": {
     "frozen": false,
     "read_only": false
    }
   },
   "source": [
    "You can think of the tf-idf vectors as a 'translation' from human-readable language to computer-usable numeric form.  Some information is inevitably lost in translation, and the usefulness of any model we build from here on out depends on the decisions we made during the translation step.  Possible decision-points include:\n",
    "\n",
    "* Which stop words to include or exclude\n",
    "* Should we use phrases ('Monty Python' instead of 'Monty' and 'Python') as terms\n",
    "* The threshold for infrequent words: Here, we excluded words that only occurred once.  In longer documents, it may be a good idea to set a higher threshold.\n",
    "* How many terms to keep.  We kept all the terms that fit our criteria (not a stop word, occurred more than once), but for bigger document collections or longer documents, this may create unfeasibly long vectors.  We may want to decide to only keep the 10,000 words with the highest collection frequency scores, for example.\n",
    "\n",
    "# Vector Space Model\n",
    "\n",
    "Our vector representation of the text is referred to as a Vector Space Model.  We can use this representation to compute the similarity between our sentences and a new phrase or sentence- this method is often used by search engines to match a query to possible results.  \n",
    "\n",
    "By now, you've had some practice thinking of data as existing in multi-dimensional space.  Our sentences exist in an n-dimensional space where n is equal to the number of terms in our term-document matrix.  To compute the similarity of our sentences to a new sentence, we transform the new sentence into a vector and place it in the space.  We can then calculate how different the angles are for our original vectors and the new vector, and identify the vector whose angle is closest to the new vector.  Typically this is done by calculating the cosine of the angle between the vectors.  If the two vectors are identical, the angle between them will be 0° and the cosine will be 1.  If the two vectors are orthogonal, with an angle of 90°, the cosine will be 0.  \n",
    "\n",
    "If we were running a search query, then, we would return sentences that were most similar to the query sentence, ordered from the highest similarity score (cosine) to the lowest.  Pretty handy!\n",
    "\n",
    "# Latent Semantic Analysis\n",
    "\n",
    "Cool as this is, there are limitations to the VSM.  In particular, because it treats each word as distinct from every other word, it can run aground on *synonyms* (treating words that mean the same thing as though they are different, like big and large).  Also, because it treats all occurrences of a word as the same regardless of context, it can run aground on *polysemy*, where there are different meanings attached to the same word: 'I need a break' vs 'I break things.'  In addition, VSM has difficulty with very large documents because the more words a document has, the more opportunities it has to diverge from other documents in the space, making it difficult to see similarities.\n",
    "\n",
    "A solution to this problem is to reduce our tf-idf-weighted term-document matrix into a lower-dimensional space, that is, to express the information in the matrix using fewer rows by combining the information from multiple terms into one new row/dimension.  We do this using Principal Components Analysis, which you may recall from [an earlier assignment](https://courses.thinkful.com/data-201v1/assignment/2.1.6).  \n",
    "\n",
    "So Latent Semantic Analysis (also called Latent Semantic Indexing) is the process of applying PCA to a tf-idf term-document matrix.  What we get, in the end, is clusters of terms that presumably reflect a topic.  Each document will get a score for each topic, with higher scores indicating that the document is relevant to the topic.  Documents can pertain to more than one topic.\n",
    "\n",
    "LSA is handy when your corpus is too large to topically annotate by hand, or when you don't know what topics characterize your documents.  It is also useful as a way of creating features to be used in other models.\n",
    "\n",
    "Let's try it out!  Once again, we'll use the gutenberg corpus.   This time, we'll focus on comparing paragraphs within Emma by Jane Austen."
   ]
  },
  {
   "cell_type": "code",
   "execution_count": 2,
   "metadata": {
    "run_control": {
     "frozen": false,
     "read_only": false
    },
    "scrolled": true
   },
   "outputs": [
    {
     "name": "stdout",
     "output_type": "stream",
     "text": [
      "[\"[ Alice ' s Adventures in Wonderland by Lewis Carroll 1865 ]\", 'CHAPTER I .', \"Alice was beginning to get very tired of sitting by her sister on the bank , and of having nothing to do : once or twice she had peeped into the book her sister was reading , but it had no pictures or conversations in it , ' and what is the use of a book ,' thought Alice ' without pictures or conversation ?'\", 'So she was considering in her own mind ( as well as she could , for the hot day made her feel very sleepy and stupid ), whether the pleasure of making a daisy - chain would be worth the trouble of getting up and picking the daisies , when suddenly a White Rabbit with pink eyes ran close by her .']\n"
     ]
    }
   ],
   "source": [
    "from nltk.corpus import gutenberg\n",
    "import re\n",
    "from sklearn.model_selection import train_test_split\n",
    "\n",
    "#reading in the data, this time in the form of paragraphs\n",
    "alice=gutenberg.paras('carroll-alice.txt')\n",
    "#processing\n",
    "alice_paras=[]\n",
    "for paragraph in alice:\n",
    "    para=paragraph[0]\n",
    "    #removing the double-dash from all words\n",
    "    para=[re.sub(r'--','',word) for word in para]\n",
    "    #Forming each paragraph into a string and adding it to the list of strings.\n",
    "    alice_paras.append(' '.join(para))\n",
    "\n",
    "print(alice_paras[0:4])"
   ]
  },
  {
   "cell_type": "markdown",
   "metadata": {
    "run_control": {
     "frozen": false,
     "read_only": false
    }
   },
   "source": [
    "# tfidf in sklearn\n",
    "\n",
    "Happily for us, sklearn has a tfidf function that will do all our heavy lifting.  It also has a [very long list of stop words](https://github.com/scikit-learn/scikit-learn/blob/master/sklearn/feature_extraction/stop_words.py).  Since we're going to be doing dimension reduction later on anyway, let's keep all the words for now."
   ]
  },
  {
   "cell_type": "code",
   "execution_count": 4,
   "metadata": {
    "run_control": {
     "frozen": false,
     "read_only": false
    },
    "scrolled": false
   },
   "outputs": [
    {
     "name": "stdout",
     "output_type": "stream",
     "text": [
      "Number of features: 789\n",
      "Original sentence: I gave her one , they gave him two , You gave us three or more ; They all returned from him to you , Though they were mine before .\n",
      "Tf_idf vector: {'returned': 0.3712301184178559, 'gave': 0.9285408979573622}\n"
     ]
    }
   ],
   "source": [
    "from sklearn.feature_extraction.text import TfidfVectorizer\n",
    "\n",
    "X_train, X_test = train_test_split(alice_paras, test_size=0.4, random_state=0)\n",
    "\n",
    "vectorizer = TfidfVectorizer(max_df=0.5, # drop words that occur in more than half the paragraphs\n",
    "                             min_df=2, # only use words that appear at least twice\n",
    "                             stop_words='english', \n",
    "                             lowercase=True, #convert everything to lower case (since Alice in Wonderland has the HABIT of CAPITALIZING WORDS for EMPHASIS)\n",
    "                             use_idf=True,#we definitely want to use inverse document frequencies in our weighting\n",
    "                             norm=u'l2', #Applies a correction factor so that longer paragraphs and shorter paragraphs get treated equally\n",
    "                             smooth_idf=True #Adds 1 to all document frequencies, as if an extra document existed that used every word once.  Prevents divide-by-zero errors\n",
    "                            )\n",
    "\n",
    "\n",
    "#Applying the vectorizer\n",
    "alice_paras_tfidf=vectorizer.fit_transform(alice_paras)\n",
    "print(\"Number of features: %d\" % alice_paras_tfidf.get_shape()[1])\n",
    "\n",
    "#splitting into training and test sets\n",
    "X_train_tfidf, X_test_tfidf= train_test_split(alice_paras_tfidf, test_size=0.4, random_state=0)\n",
    "\n",
    "\n",
    "#Reshapes the vectorizer output into something people can read\n",
    "X_train_tfidf_csr = X_train_tfidf.tocsr()\n",
    "\n",
    "#number of paragraphs\n",
    "n = X_train_tfidf_csr.shape[0]\n",
    "#A list of dictionaries, one per paragraph\n",
    "tfidf_bypara = [{} for _ in range(0,n)]\n",
    "#List of features\n",
    "terms = vectorizer.get_feature_names()\n",
    "#for each paragraph, lists the feature words and their tf-idf scores\n",
    "for i, j in zip(*X_train_tfidf_csr.nonzero()):\n",
    "    tfidf_bypara[i][terms[j]] = X_train_tfidf_csr[i, j]\n",
    "\n",
    "#Keep in mind that the log base 2 of 1 is 0, so a tf-idf score of 0 indicates that the word was present once in that sentence.\n",
    "print('Original sentence:', X_train[5])\n",
    "print('Tf_idf vector:', tfidf_bypara[5])"
   ]
  },
  {
   "cell_type": "markdown",
   "metadata": {
    "run_control": {
     "frozen": false,
     "read_only": false
    }
   },
   "source": [
    "# Dimension reduction\n",
    "Okay, now we have our vectors, with one vector per paragraph.  It's time to do some dimension reduction.  We use the Singular Value Decomposition (SVD) function from sklearn rather than PCA because we don't want to mean-center our variables (and thus lose sparsity):"
   ]
  },
  {
   "cell_type": "code",
   "execution_count": 10,
   "metadata": {
    "run_control": {
     "frozen": false,
     "read_only": false
    },
    "scrolled": false
   },
   "outputs": [
    {
     "name": "stdout",
     "output_type": "stream",
     "text": [
      "Percent variance captured by all components: 65.84399826318977\n",
      "Component 0:\n",
      "' No ,' said Alice .                                       0.871961\n",
      "' Nothing whatever ,' said Alice .                         0.871961\n",
      "' I call it purring , not growling ,' said Alice .         0.871961\n",
      "' No , indeed ,' said Alice .                              0.871961\n",
      "' Please , then ,' said Alice , ' how am I to get in ?'    0.871961\n",
      "' I suppose so ,' said Alice .                             0.716276\n",
      "' I don ' t much care where ' said Alice .                 0.663511\n",
      "' I never thought about it ,' said Alice .                 0.627851\n",
      "' It ' s a mineral , I THINK ,' said Alice .               0.618960\n",
      "' Nobody asked YOUR opinion ,' said Alice .                0.585946\n",
      "Name: 0, dtype: float64\n",
      "Component 1:\n",
      "' You did ,' said the Mock Turtle .                                                                                                                                                                                                                                                                                                                                                        0.637751\n",
      "' Then , you know ,' the Mock Turtle went on , ' you throw the '                                                                                                                                                                                                                                                                                                                           0.497244\n",
      "' Well , I can ' t show it you myself ,' the Mock Turtle said : ' I ' m too stiff .                                                                                                                                                                                                                                                                                                        0.482987\n",
      "' Once ,' said the Mock Turtle at last , with a deep sigh , ' I was a real Turtle .'                                                                                                                                                                                                                                                                                                       0.477834\n",
      "' I should like to have it explained ,' said the Mock Turtle .                                                                                                                                                                                                                                                                                                                             0.476272\n",
      "' You did !'                                                                                                                                                                                                                                                                                                                                                                               0.435656\n",
      "The Dormouse had closed its eyes by this time , and was going off into a doze ; but , on being pinched by the Hatter , it woke up again with a little shriek , and went on : ' that begins with an M , such as mouse - traps , and the moon , and memory , and muchness  you know you say things are \" much of a muchness \" did you ever see such a thing as a drawing of a muchness ?'    0.403630\n",
      "So they went up to the Mock Turtle , who looked at them with large eyes full of tears , but said nothing .                                                                                                                                                                                                                                                                                 0.396748\n",
      "' What did they draw ?'                                                                                                                                                                                                                                                                                                                                                                    0.396459\n",
      "' Ten hours the first day ,' said the Mock Turtle : ' nine the next , and so on .'                                                                                                                                                                                                                                                                                                         0.384759\n",
      "Name: 1, dtype: float64\n",
      "Component 2:\n",
      "' Take off your hat ,' the King said to the Hatter .                               0.545153\n",
      "' You are ,' said the King .                                                       0.494040\n",
      "' I can ' t go no lower ,' said the Hatter : ' I ' m on the floor , as it is .'    0.401328\n",
      "' Consider your verdict ,' the King said to the jury .                             0.374210\n",
      "' That is not said right ,' said the Caterpillar .                                 0.346393\n",
      "' He must have imitated somebody else ' s hand ,' said the King .                  0.345760\n",
      "' It isn ' t mine ,' said the Hatter .                                             0.338058\n",
      "' He denies it ,' said the King : ' leave out that part .'                         0.317857\n",
      "' That ' s very important ,' the King said , turning to the jury .                 0.308702\n",
      "' No ,' said the Caterpillar .                                                     0.287643\n",
      "Name: 2, dtype: float64\n",
      "Component 3:\n",
      "' Oh , I know !'                                                                                                                                 0.691936\n",
      "' Oh !                                                                                                                                           0.580539\n",
      "' Oh , don ' t bother ME ,' said the Duchess ; ' I never could abide figures !'                                                                  0.555424\n",
      "' Oh , don ' t talk about trouble !'                                                                                                             0.516239\n",
      "' Oh , you foolish Alice !'                                                                                                                      0.449241\n",
      "' I DON ' T know ,' said the Caterpillar .                                                                                                       0.445075\n",
      "' Oh , YOU sing ,' said the Gryphon .                                                                                                            0.437601\n",
      "' Oh , PLEASE mind what you ' re doing !'                                                                                                        0.428076\n",
      "' I don ' t know where Dinn may be ,' said the Mock Turtle , ' but if you ' ve seen them so often , of course you know what they ' re like .'    0.411052\n",
      "' Oh , I ' m not particular as to size ,' Alice hastily replied ; ' only one doesn ' t like changing so often , you know .'                      0.406480\n",
      "Name: 3, dtype: float64\n",
      "Component 4:\n",
      "CHAPTER III .                                                                                                                                                                           0.935227\n",
      "CHAPTER IV .                                                                                                                                                                            0.935227\n",
      "CHAPTER II .                                                                                                                                                                            0.935227\n",
      "CHAPTER IX .                                                                                                                                                                            0.935227\n",
      "CHAPTER XI .                                                                                                                                                                            0.935227\n",
      "CHAPTER V . Advice from a Caterpillar                                                                                                                                                   0.850141\n",
      "' No ,' said the Caterpillar .                                                                                                                                                          0.205728\n",
      "' Keep your temper ,' said the Caterpillar .                                                                                                                                            0.193487\n",
      "The Caterpillar was the first to speak .                                                                                                                                                0.187804\n",
      "The Caterpillar and Alice looked at each other for some time in silence : at last the Caterpillar took the hookah out of its mouth , and addressed her in a languid , sleepy voice .    0.173154\n",
      "Name: 4, dtype: float64\n"
     ]
    }
   ],
   "source": [
    "from sklearn.decomposition import TruncatedSVD\n",
    "from sklearn.pipeline import make_pipeline\n",
    "from sklearn.preprocessing import Normalizer\n",
    "\n",
    "#Our SVD data reducer.  We are going to reduce the feature space from 1379 to 130.\n",
    "svd= TruncatedSVD(130)\n",
    "lsa = make_pipeline(svd, Normalizer(copy=False))\n",
    "# Run SVD on the training data, then project the training data.\n",
    "X_train_lsa = lsa.fit_transform(X_train_tfidf)\n",
    "\n",
    "variance_explained=svd.explained_variance_ratio_\n",
    "total_variance = variance_explained.sum()\n",
    "print(\"Percent variance captured by all components:\",total_variance*100)\n",
    "\n",
    "#Looking at what sorts of paragraphs our solution considers similar, for the first five identified topics\n",
    "paras_by_component=pd.DataFrame(X_train_lsa,index=X_train)\n",
    "for i in range(5):\n",
    "    print('Component {}:'.format(i))\n",
    "    print(paras_by_component.loc[:,i].sort_values(ascending=False)[0:10])"
   ]
  },
  {
   "cell_type": "markdown",
   "metadata": {
    "run_control": {
     "frozen": false,
     "read_only": false
    }
   },
   "source": [
    "From gazing at the most representative sample paragraphs, it appears that component 0 targets the exclamation 'Oh!', component 1 seems to largely involve critical dialogue directed at or about the main character Emma, component 2 is chapter headings, component 3 is exclamations involving 'Ah!, and component 4 involves actions by or directly related to Emma.\n",
    "\n",
    "What fun! \n",
    "\n",
    "# Sentence similarity\n",
    "\n",
    "We can also look at how similar various sentences are to one another.  For example, here are the similarity scores (as a heatmap) of the first 10 sentences in the training set:\n"
   ]
  },
  {
   "cell_type": "code",
   "execution_count": 6,
   "metadata": {
    "run_control": {
     "frozen": false,
     "read_only": false
    }
   },
   "outputs": [
    {
     "data": {
      "image/png": "[encoded data removed]",
      "text/plain": [
       "<matplotlib.figure.Figure at 0x10c89ceb8>"
      ]
     },
     "metadata": {},
     "output_type": "display_data"
    },
    {
     "name": "stdout",
     "output_type": "stream",
     "text": [
      "Key:\n",
      "0 Then they both bowed low , and their curls got entangled together .\n",
      "1 ' I ' m afraid I am , sir ,' said Alice ; ' I can ' t remember things as I used  and I don ' t keep the same size for ten minutes together !'\n",
      "2 ' You are old , Father William ,' the young man said , ' And your hair has become very white ; And yet you incessantly stand on your head  Do you think , at your age , it is right ?'\n",
      "3 There was a table set out under a tree in front of the house , and the March Hare and the Hatter were having tea at it : a Dormouse was sitting between them , fast asleep , and the other two were using it as a cushion , resting their elbows on it , and talking over its head .\n",
      "4 ' Have some wine ,' the March Hare said in an encouraging tone .\n",
      "5 I gave her one , they gave him two , You gave us three or more ; They all returned from him to you , Though they were mine before .\n",
      "6 ' I believe so ,' Alice replied thoughtfully .\n",
      "7 * * * * * *\n",
      "8 ' Very true ,' said the Duchess : ' flamingoes and mustard both bite .\n",
      "9 ' I had NOT !'\n"
     ]
    }
   ],
   "source": [
    "# Compute document similarity using LSA components\n",
    "similarity = np.asarray(np.asmatrix(X_train_lsa) * np.asmatrix(X_train_lsa).T)\n",
    "#Only taking the first 10 sentences\n",
    "sim_matrix=pd.DataFrame(similarity,index=X_train).iloc[0:10,0:10]\n",
    "#Making a plot\n",
    "ax = sns.heatmap(sim_matrix,yticklabels=range(10))\n",
    "plt.show()\n",
    "\n",
    "#Generating a key for the plot.\n",
    "print('Key:')\n",
    "for i in range(10):\n",
    "    print(i,sim_matrix.index[i])"
   ]
  },
  {
   "cell_type": "markdown",
   "metadata": {
    "run_control": {
     "frozen": false,
     "read_only": false
    }
   },
   "source": [
    "Not much similarity at all except between sentences 8 and 9, both of which seem to describe people getting along well.\n",
    "\n",
    "# Drill 0: Test set\n",
    "\n",
    "Now it's your turn: Apply our LSA model to the test set.  Does it identify similar sentences for components 0 through 4?  "
   ]
  },
  {
   "cell_type": "code",
   "execution_count": 20,
   "metadata": {
    "run_control": {
     "frozen": false,
     "read_only": false
    }
   },
   "outputs": [
    {
     "name": "stdout",
     "output_type": "stream",
     "text": [
      "Component 0:\n",
      "' Very much indeed ,' said Alice .                                                                                                                                                 0.818681\n",
      "' Nothing ,' said Alice .                                                                                                                                                          0.818681\n",
      "' Very ,' said Alice : ' where ' s the Duchess ?'                                                                                                                                  0.599683\n",
      "' A cat may look at a king ,' said Alice .                                                                                                                                         0.504462\n",
      "' I don ' t know what you mean ,' said Alice .                                                                                                                                     0.488535\n",
      "' I ' ve heard something like it ,' said Alice .                                                                                                                                   0.476591\n",
      "Alice considered a little , and then said ' The fourth .'                                                                                                                          0.443348\n",
      "' Only a thimble ,' said Alice sadly .                                                                                                                                             0.428127\n",
      "' Call it what you like ,' said the Cat .                                                                                                                                          0.420920\n",
      "' Please would you tell me ,' said Alice , a little timidly , for she was not quite sure whether it was good manners for her to speak first , ' why your cat grins like that ?'    0.394560\n",
      "Name: 0, dtype: float64\n",
      "Component 1:\n",
      "CHAPTER XII                             1.000000\n",
      "CHAPTER VII .                           1.000000\n",
      "CHAPTER X .                             1.000000\n",
      "CHAPTER VIII .                          1.000000\n",
      "CHAPTER I .                             1.000000\n",
      "CHAPTER VI .                            1.000000\n",
      "' Well !'                               0.005650\n",
      "' Have you guessed the riddle yet ?'    0.000138\n",
      "' It ' s a pun !'                       0.000039\n",
      "' One side of WHAT ?                    0.000038\n",
      "Name: 1, dtype: float64\n",
      "Component 2:\n",
      "' How do you like the Queen ?'                                                                                                                                                                                                                                                                                             0.660368\n",
      "' Would you like to see a little of it ?'                                                                                                                                                                                                                                                                                  0.575841\n",
      "The Queen turned crimson with fury , and , after glaring at her for a moment like a wild beast , screamed ' Off with her head !                                                                                                                                                                                            0.550072\n",
      "' What was THAT like ?'                                                                                                                                                                                                                                                                                                    0.536513\n",
      "' Call it what you like ,' said the Cat .                                                                                                                                                                                                                                                                                  0.394651\n",
      "' Collar that Dormouse ,' the Queen shrieked out .                                                                                                                                                                                                                                                                         0.368008\n",
      "' Anything you like ,' said the Footman , and began whistling .                                                                                                                                                                                                                                                            0.367927\n",
      "' Please would you tell me ,' said Alice , a little timidly , for she was not quite sure whether it was good manners for her to speak first , ' why your cat grins like that ?'                                                                                                                                            0.343938\n",
      "Just then she heard something splashing about in the pool a little way off , and she swam nearer to make out what it was : at first she thought it must be a walrus or hippopotamus , but then she remembered how small she was now , and she soon made out that it was only a mouse that had slipped in like herself .    0.318614\n",
      "All the time they were playing the Queen never left off quarrelling with the other players , and shouting ' Off with his head !'                                                                                                                                                                                           0.309828\n",
      "Name: 2, dtype: float64\n",
      "Component 3:\n",
      "' Of course it was ,' said the Mock Turtle .                                                                                                           0.777292\n",
      "' Explain all that ,' said the Mock Turtle .                                                                                                           0.655931\n",
      "' Oh , as to the whiting ,' said the Mock Turtle , ' they  you ' ve seen them , of course ?'                                                           0.615839\n",
      "' Well , I never heard it before ,' said the Mock Turtle ; ' but it sounds uncommon nonsense .'                                                        0.594036\n",
      "' Of course not ,' said the Mock Turtle : ' why , if a fish came to ME , and told me he was going a journey , I should say \" With what porpoise ?\"'    0.587302\n",
      "' It ' s the thing Mock Turtle Soup is made from ,' said the Queen .                                                                                   0.559870\n",
      "' Of course ,' the Mock Turtle said : ' advance twice , set to partners '                                                                              0.540277\n",
      "' They were obliged to have him with them ,' the Mock Turtle said : ' no wise fish would go anywhere without a porpoise .'                             0.503198\n",
      "' I never went to him ,' the Mock Turtle said with a sigh : ' he taught Laughing and Grief , they used to say .'                                       0.484761\n",
      "' I mean what I say ,' the Mock Turtle replied in an offended tone .                                                                                   0.481938\n",
      "Name: 3, dtype: float64\n",
      "Component 4:\n",
      "' Don ' t be impertinent ,' said the King , ' and don ' t look at me like that !'                          0.511095\n",
      "' Call it what you like ,' said the Cat .                                                                  0.455779\n",
      "' Well , then ,' the Gryphon went on , ' if you don ' t know what to uglify is , you ARE a simpleton .'    0.413028\n",
      "' What was THAT like ?'                                                                                    0.405369\n",
      "' I can tell you more than that , if you like ,' said the Gryphon .                                        0.402353\n",
      "' How do you like the Queen ?'                                                                             0.386130\n",
      "' Don ' t you mean \" purpose \"?'                                                                           0.348703\n",
      "' You don ' t know much ,' said the Duchess ; ' and that ' s a fact .'                                     0.334360\n",
      "' I don ' t know what you mean ,' said Alice .                                                             0.312370\n",
      "' I don ' t see ,' said the Caterpillar .                                                                  0.309514\n",
      "Name: 4, dtype: float64\n"
     ]
    }
   ],
   "source": [
    "# Remember, you will use the same model, only with the test set data.  Don't fit a new model by mistake!\n",
    "#Looking at what sorts of paragraphs our solution considers similar, for the first five identified topics\n",
    "X_test_lsa = lsa.fit_transform(X_test_tfidf)\n",
    "paras_by_component=pd.DataFrame(X_test_lsa,index=X_test) \n",
    "for i in range(5):\n",
    "    print('Component {}:'.format(i))\n",
    "    print(paras_by_component.loc[:,i].sort_values(ascending=False)[0:10])"
   ]
  },
  {
   "cell_type": "markdown",
   "metadata": {
    "run_control": {
     "frozen": false,
     "read_only": false
    }
   },
   "source": [
    "# Drill 1: Tweaking tf-idf\n",
    "\n",
    "Go back up to the code where we originally translated the text from words to numbers.  There are a lot of decision-points here, from the stop list to the thresholds for inclusion and exclusion, and many others as well.  We also didn't integrate spaCy, and so don't have info on lemmas or Named Entities.  Change things up a few times and see how that affects the results of the LSA.  Write up your observations and share them with your mentor."
   ]
  },
  {
   "cell_type": "markdown",
   "metadata": {},
   "source": [
    "### Changed the Max Document Frequency to 0.7"
   ]
  },
  {
   "cell_type": "code",
   "execution_count": 21,
   "metadata": {
    "run_control": {
     "frozen": false,
     "read_only": false
    }
   },
   "outputs": [
    {
     "name": "stdout",
     "output_type": "stream",
     "text": [
      "Number of features: 789\n",
      "Original sentence: I gave her one , they gave him two , You gave us three or more ; They all returned from him to you , Though they were mine before .\n",
      "Tf_idf vector: {'returned': 0.3712301184178559, 'gave': 0.9285408979573622}\n"
     ]
    }
   ],
   "source": [
    "#Tweaks Go Here\n",
    "X_train, X_test = train_test_split(alice_paras, test_size=0.4, random_state=0)\n",
    "\n",
    "vectorizer = TfidfVectorizer(max_df=0.7, # drop words that occur in more than half the paragraphs\n",
    "                             min_df=2, # only use words that appear at least twice\n",
    "                             stop_words='english', \n",
    "                             lowercase=True, #convert everything to lower case (since Alice in Wonderland has the HABIT of CAPITALIZING WORDS for EMPHASIS)\n",
    "                             use_idf=True,#we definitely want to use inverse document frequencies in our weighting\n",
    "                             norm=u'l2', #Applies a correction factor so that longer paragraphs and shorter paragraphs get treated equally\n",
    "                             smooth_idf=True #Adds 1 to all document frequencies, as if an extra document existed that used every word once.  Prevents divide-by-zero errors\n",
    "                            )\n",
    "\n",
    "\n",
    "#Applying the vectorizer\n",
    "alice_paras_tfidf=vectorizer.fit_transform(alice_paras)\n",
    "print(\"Number of features: %d\" % alice_paras_tfidf.get_shape()[1])\n",
    "\n",
    "#splitting into training and test sets\n",
    "X_train_tfidf, X_test_tfidf= train_test_split(alice_paras_tfidf, test_size=0.4, random_state=0)\n",
    "\n",
    "\n",
    "#Reshapes the vectorizer output into something people can read\n",
    "X_train_tfidf_csr = X_train_tfidf.tocsr()\n",
    "\n",
    "#number of paragraphs\n",
    "n = X_train_tfidf_csr.shape[0]\n",
    "#A list of dictionaries, one per paragraph\n",
    "tfidf_bypara = [{} for _ in range(0,n)]\n",
    "#List of features\n",
    "terms = vectorizer.get_feature_names()\n",
    "#for each paragraph, lists the feature words and their tf-idf scores\n",
    "for i, j in zip(*X_train_tfidf_csr.nonzero()):\n",
    "    tfidf_bypara[i][terms[j]] = X_train_tfidf_csr[i, j]\n",
    "\n",
    "#Keep in mind that the log base 2 of 1 is 0, so a tf-idf score of 0 indicates that the word was present once in that sentence.\n",
    "print('Original sentence:', X_train[5])\n",
    "print('Tf_idf vector:', tfidf_bypara[5])"
   ]
  },
  {
   "cell_type": "code",
   "execution_count": 22,
   "metadata": {
    "scrolled": false
   },
   "outputs": [
    {
     "name": "stdout",
     "output_type": "stream",
     "text": [
      "Percent variance captured by all components: 65.85038282288677\n",
      "Component 0:\n",
      "' Nothing whatever ,' said Alice .                         0.872039\n",
      "' I call it purring , not growling ,' said Alice .         0.872039\n",
      "' No , indeed ,' said Alice .                              0.872039\n",
      "' No ,' said Alice .                                       0.872039\n",
      "' Please , then ,' said Alice , ' how am I to get in ?'    0.872039\n",
      "' I suppose so ,' said Alice .                             0.709774\n",
      "' I don ' t much care where ' said Alice .                 0.662464\n",
      "' I never thought about it ,' said Alice .                 0.628952\n",
      "' It ' s a mineral , I THINK ,' said Alice .               0.621856\n",
      "' Exactly so ,' said Alice .                               0.576610\n",
      "Name: 0, dtype: float64\n",
      "Component 1:\n",
      "' You did ,' said the Mock Turtle .                                                                                                                                                                                                                                                                                                                                                        0.638777\n",
      "' Then , you know ,' the Mock Turtle went on , ' you throw the '                                                                                                                                                                                                                                                                                                                           0.495845\n",
      "' Well , I can ' t show it you myself ,' the Mock Turtle said : ' I ' m too stiff .                                                                                                                                                                                                                                                                                                        0.483450\n",
      "' Once ,' said the Mock Turtle at last , with a deep sigh , ' I was a real Turtle .'                                                                                                                                                                                                                                                                                                       0.480250\n",
      "' I should like to have it explained ,' said the Mock Turtle .                                                                                                                                                                                                                                                                                                                             0.476986\n",
      "' You did !'                                                                                                                                                                                                                                                                                                                                                                               0.435946\n",
      "The Dormouse had closed its eyes by this time , and was going off into a doze ; but , on being pinched by the Hatter , it woke up again with a little shriek , and went on : ' that begins with an M , such as mouse - traps , and the moon , and memory , and muchness  you know you say things are \" much of a muchness \" did you ever see such a thing as a drawing of a muchness ?'    0.403474\n",
      "So they went up to the Mock Turtle , who looked at them with large eyes full of tears , but said nothing .                                                                                                                                                                                                                                                                                 0.398848\n",
      "' What did they draw ?'                                                                                                                                                                                                                                                                                                                                                                    0.397588\n",
      "' Ten hours the first day ,' said the Mock Turtle : ' nine the next , and so on .'                                                                                                                                                                                                                                                                                                         0.387914\n",
      "Name: 1, dtype: float64\n",
      "Component 2:\n",
      "' Take off your hat ,' the King said to the Hatter .                               0.544091\n",
      "' You are ,' said the King .                                                       0.493300\n",
      "' I can ' t go no lower ,' said the Hatter : ' I ' m on the floor , as it is .'    0.398367\n",
      "' Consider your verdict ,' the King said to the jury .                             0.377155\n",
      "' That is not said right ,' said the Caterpillar .                                 0.346276\n",
      "' He must have imitated somebody else ' s hand ,' said the King .                  0.345109\n",
      "' It isn ' t mine ,' said the Hatter .                                             0.340713\n",
      "' He denies it ,' said the King : ' leave out that part .'                         0.317119\n",
      "' That ' s very important ,' the King said , turning to the jury .                 0.310888\n",
      "' Your hair wants cutting ,' said the Hatter .                                     0.292743\n",
      "Name: 2, dtype: float64\n",
      "Component 3:\n",
      "' Oh , I know !'                                                                                                                                 0.692026\n",
      "' Oh !                                                                                                                                           0.581124\n",
      "' Oh , don ' t bother ME ,' said the Duchess ; ' I never could abide figures !'                                                                  0.556027\n",
      "' Oh , don ' t talk about trouble !'                                                                                                             0.513501\n",
      "' Oh , you foolish Alice !'                                                                                                                      0.449600\n",
      "' I DON ' T know ,' said the Caterpillar .                                                                                                       0.444480\n",
      "' Oh , YOU sing ,' said the Gryphon .                                                                                                            0.437285\n",
      "' Oh , PLEASE mind what you ' re doing !'                                                                                                        0.434796\n",
      "' I don ' t know where Dinn may be ,' said the Mock Turtle , ' but if you ' ve seen them so often , of course you know what they ' re like .'    0.411384\n",
      "' Oh , I ' m not particular as to size ,' Alice hastily replied ; ' only one doesn ' t like changing so often , you know .'                      0.404088\n",
      "Name: 3, dtype: float64\n",
      "Component 4:\n",
      "CHAPTER XI .                                                                                                                                                                            0.935206\n",
      "CHAPTER IX .                                                                                                                                                                            0.935206\n",
      "CHAPTER IV .                                                                                                                                                                            0.935206\n",
      "CHAPTER II .                                                                                                                                                                            0.935206\n",
      "CHAPTER III .                                                                                                                                                                           0.935206\n",
      "CHAPTER V . Advice from a Caterpillar                                                                                                                                                   0.849631\n",
      "' No ,' said the Caterpillar .                                                                                                                                                          0.205823\n",
      "' Keep your temper ,' said the Caterpillar .                                                                                                                                            0.193821\n",
      "The Caterpillar was the first to speak .                                                                                                                                                0.187511\n",
      "The Caterpillar and Alice looked at each other for some time in silence : at last the Caterpillar took the hookah out of its mouth , and addressed her in a languid , sleepy voice .    0.174173\n",
      "Name: 4, dtype: float64\n"
     ]
    }
   ],
   "source": [
    "#Our SVD data reducer.  We are going to reduce the feature space from 1379 to 130.\n",
    "svd= TruncatedSVD(130)\n",
    "lsa = make_pipeline(svd, Normalizer(copy=False))\n",
    "# Run SVD on the training data, then project the training data.\n",
    "X_train_lsa = lsa.fit_transform(X_train_tfidf)\n",
    "\n",
    "variance_explained=svd.explained_variance_ratio_\n",
    "total_variance = variance_explained.sum()\n",
    "print(\"Percent variance captured by all components:\",total_variance*100)\n",
    "\n",
    "#Looking at what sorts of paragraphs our solution considers similar, for the first five identified topics\n",
    "paras_by_component=pd.DataFrame(X_train_lsa,index=X_train)\n",
    "for i in range(5):\n",
    "    print('Component {}:'.format(i))\n",
    "    print(paras_by_component.loc[:,i].sort_values(ascending=False)[0:10])"
   ]
  },
  {
   "cell_type": "code",
   "execution_count": 23,
   "metadata": {},
   "outputs": [
    {
     "data": {
      "image/png": "[encoded data removed]",
      "text/plain": [
       "<matplotlib.figure.Figure at 0x10d6406a0>"
      ]
     },
     "metadata": {},
     "output_type": "display_data"
    },
    {
     "name": "stdout",
     "output_type": "stream",
     "text": [
      "Key:\n",
      "0 Then they both bowed low , and their curls got entangled together .\n",
      "1 ' I ' m afraid I am , sir ,' said Alice ; ' I can ' t remember things as I used  and I don ' t keep the same size for ten minutes together !'\n",
      "2 ' You are old , Father William ,' the young man said , ' And your hair has become very white ; And yet you incessantly stand on your head  Do you think , at your age , it is right ?'\n",
      "3 There was a table set out under a tree in front of the house , and the March Hare and the Hatter were having tea at it : a Dormouse was sitting between them , fast asleep , and the other two were using it as a cushion , resting their elbows on it , and talking over its head .\n",
      "4 ' Have some wine ,' the March Hare said in an encouraging tone .\n",
      "5 I gave her one , they gave him two , You gave us three or more ; They all returned from him to you , Though they were mine before .\n",
      "6 ' I believe so ,' Alice replied thoughtfully .\n",
      "7 * * * * * *\n",
      "8 ' Very true ,' said the Duchess : ' flamingoes and mustard both bite .\n",
      "9 ' I had NOT !'\n"
     ]
    }
   ],
   "source": [
    "# Compute document similarity using LSA components\n",
    "similarity = np.asarray(np.asmatrix(X_train_lsa) * np.asmatrix(X_train_lsa).T)\n",
    "#Only taking the first 10 sentences\n",
    "sim_matrix=pd.DataFrame(similarity,index=X_train).iloc[0:10,0:10]\n",
    "#Making a plot\n",
    "ax = sns.heatmap(sim_matrix,yticklabels=range(10))\n",
    "plt.show()\n",
    "\n",
    "#Generating a key for the plot.\n",
    "print('Key:')\n",
    "for i in range(10):\n",
    "    print(i,sim_matrix.index[i])"
   ]
  },
  {
   "cell_type": "markdown",
   "metadata": {},
   "source": [
    "### Change the Minimum Document Frequency to 5"
   ]
  },
  {
   "cell_type": "code",
   "execution_count": 25,
   "metadata": {},
   "outputs": [
    {
     "name": "stdout",
     "output_type": "stream",
     "text": [
      "Number of features: 257\n",
      "Original sentence: I gave her one , they gave him two , You gave us three or more ; They all returned from him to you , Though they were mine before .\n",
      "Tf_idf vector: {'gave': 1.0}\n"
     ]
    }
   ],
   "source": [
    "#Tweaks Go Here\n",
    "X_train, X_test = train_test_split(alice_paras, test_size=0.4, random_state=0)\n",
    "\n",
    "vectorizer = TfidfVectorizer(max_df=0.5, # drop words that occur in more than half the paragraphs\n",
    "                             min_df=5, # only use words that appear at least twice\n",
    "                             stop_words='english', \n",
    "                             lowercase=True, #convert everything to lower case (since Alice in Wonderland has the HABIT of CAPITALIZING WORDS for EMPHASIS)\n",
    "                             use_idf=True,#we definitely want to use inverse document frequencies in our weighting\n",
    "                             norm=u'l2', #Applies a correction factor so that longer paragraphs and shorter paragraphs get treated equally\n",
    "                             smooth_idf=True #Adds 1 to all document frequencies, as if an extra document existed that used every word once.  Prevents divide-by-zero errors\n",
    "                            )\n",
    "\n",
    "\n",
    "#Applying the vectorizer\n",
    "alice_paras_tfidf=vectorizer.fit_transform(alice_paras)\n",
    "print(\"Number of features: %d\" % alice_paras_tfidf.get_shape()[1])\n",
    "\n",
    "#splitting into training and test sets\n",
    "X_train_tfidf, X_test_tfidf= train_test_split(alice_paras_tfidf, test_size=0.4, random_state=0)\n",
    "\n",
    "\n",
    "#Reshapes the vectorizer output into something people can read\n",
    "X_train_tfidf_csr = X_train_tfidf.tocsr()\n",
    "\n",
    "#number of paragraphs\n",
    "n = X_train_tfidf_csr.shape[0]\n",
    "#A list of dictionaries, one per paragraph\n",
    "tfidf_bypara = [{} for _ in range(0,n)]\n",
    "#List of features\n",
    "terms = vectorizer.get_feature_names()\n",
    "#for each paragraph, lists the feature words and their tf-idf scores\n",
    "for i, j in zip(*X_train_tfidf_csr.nonzero()):\n",
    "    tfidf_bypara[i][terms[j]] = X_train_tfidf_csr[i, j]\n",
    "\n",
    "#Keep in mind that the log base 2 of 1 is 0, so a tf-idf score of 0 indicates that the word was present once in that sentence.\n",
    "print('Original sentence:', X_train[5])\n",
    "print('Tf_idf vector:', tfidf_bypara[5])"
   ]
  },
  {
   "cell_type": "code",
   "execution_count": 26,
   "metadata": {
    "scrolled": false
   },
   "outputs": [
    {
     "name": "stdout",
     "output_type": "stream",
     "text": [
      "Percent variance captured by all components: 86.33611812626431\n",
      "Component 0:\n",
      "' Please , then ,' said Alice , ' how am I to get in ?'         0.879513\n",
      "' No , indeed ,' said Alice .                                   0.879513\n",
      "' Nobody asked YOUR opinion ,' said Alice .                     0.879513\n",
      "' Thank you ,' said Alice , ' it ' s very interesting .         0.879513\n",
      "' No ,' said Alice .                                            0.879513\n",
      "' I call it purring , not growling ,' said Alice .              0.879513\n",
      "' Nothing whatever ,' said Alice .                              0.879513\n",
      "' I suppose so ,' said Alice .                                  0.657132\n",
      "' I don ' t much care where ' said Alice .                      0.638201\n",
      "[ Alice ' s Adventures in Wonderland by Lewis Carroll 1865 ]    0.621966\n",
      "Name: 0, dtype: float64\n",
      "Component 1:\n",
      "' What did they live on ?'                                                                                                0.775159\n",
      "' What did they draw ?'                                                                                                   0.775159\n",
      "' And how did you manage on the twelfth ?'                                                                                0.775159\n",
      "' You did !'                                                                                                              0.775159\n",
      "' So he did , so he did ,' said the Gryphon , sighing in his turn ; and both creatures hid their faces in their paws .    0.701676\n",
      "' You did ,' said the Mock Turtle .                                                                                       0.652036\n",
      "' So you did , old fellow !'                                                                                              0.590521\n",
      "' But what did the Dormouse say ?'                                                                                        0.569189\n",
      "' And how many hours a day did you do lessons ?'                                                                          0.567199\n",
      "It was , no doubt : only Alice did not like to be told so .                                                               0.496481\n",
      "Name: 1, dtype: float64\n",
      "Component 2:\n",
      "' Take off your hat ,' the King said to the Hatter .                                                                    0.551446\n",
      "' You are ,' said the King .                                                                                            0.473195\n",
      "' I can ' t go no lower ,' said the Hatter : ' I ' m on the floor , as it is .'                                         0.457690\n",
      "' Your hair wants cutting ,' said the Hatter .                                                                          0.397140\n",
      "' That ' s very important ,' the King said , turning to the jury .                                                      0.361230\n",
      "' Consider your verdict ,' the King said to the jury .                                                                  0.361230\n",
      "' Which is just the case with MINE ,' said the Hatter .                                                                 0.355383\n",
      "' He must have imitated somebody else ' s hand ,' said the King .                                                       0.346269\n",
      "' That is not said right ,' said the Caterpillar .                                                                      0.343691\n",
      "' You may go ,' said the King , and the Hatter hurriedly left the court , without even waiting to put his shoes on .    0.336284\n",
      "Name: 2, dtype: float64\n",
      "Component 3:\n",
      "' Oh , I know !'                                                                                                                                                                            0.608159\n",
      "' Then , you know ,' the Mock Turtle went on , ' you throw the '                                                                                                                            0.532629\n",
      "' I don ' t know where Dinn may be ,' said the Mock Turtle , ' but if you ' ve seen them so often , of course you know what they ' re like .'                                               0.510887\n",
      "' Oh , a song , please , if the Mock Turtle would be so kind ,' Alice replied , so eagerly that the Gryphon said , in a rather offended tone , ' Hm !                                       0.470999\n",
      "' Oh , I BEG your pardon !'                                                                                                                                                                 0.457572\n",
      "' Oh !                                                                                                                                                                                      0.457572\n",
      "' Oh , I ' m not particular as to size ,' Alice hastily replied ; ' only one doesn ' t like changing so often , you know .'                                                                 0.444188\n",
      "' Oh , YOU sing ,' said the Gryphon .                                                                                                                                                       0.415076\n",
      "' Oh , you foolish Alice !'                                                                                                                                                                 0.393715\n",
      "' Reeling and Writhing , of course , to begin with ,' the Mock Turtle replied ; ' and then the different branches of Arithmetic  Ambition , Distraction , Uglification , and Derision .'    0.387823\n",
      "Name: 3, dtype: float64\n",
      "Component 4:\n",
      "' When we were little ,' the Mock Turtle went on at last , more calmly , though still sobbing a little now and then , ' we went to school in the sea .                                                                                                                                                                                                                                                                                                                                                                                                                                         0.546303\n",
      "'\" Will you walk a little faster ?\"                                                                                                                                                                                                                                                                                                                                                                                                                                                                                                                                                            0.542011\n",
      "\" Twinkle , twinkle , little bat !                                                                                                                                                                                                                                                                                                                                                                                                                                                                                                                                                             0.542011\n",
      "' How cheerfully he seems to grin , How neatly spread his claws , And welcome little fishes in With gently smiling jaws !'                                                                                                                                                                                                                                                                                                                                                                                                                                                                     0.542011\n",
      "Lastly , she pictured to herself how this same little sister of hers would , in the after - time , be herself a grown woman ; and how she would keep , through all her riper years , the simple and loving heart of her childhood : and how she would gather about her other little children , and make THEIR eyes bright and eager with many a strange tale , perhaps even with the dream of Wonderland of long ago : and how she would feel with all their simple sorrows , and find a pleasure in all their simple joys , remembering her own child - life , and the happy summer days .    0.396376\n",
      "' How doth the little crocodile Improve his shining tail , And pour the waters of the Nile On every golden scale !                                                                                                                                                                                                                                                                                                                                                                                                                                                                             0.380687\n",
      "She had quite forgotten the Duchess by this time , and was a little startled when she heard her voice close to her ear .                                                                                                                                                                                                                                                                                                                                                                                                                                                                       0.376742\n",
      "There seemed to be no use in waiting by the little door , so she went back to the table , half hoping she might find another key on it , or at any rate a book of rules for shutting people up like telescopes : this time she found a little bottle on it , (' which certainly was not here before ,' said Alice ,) and round the neck of the bottle was a paper label , with the words ' DRINK ME ' beautifully printed on it in large letters .                                                                                                                                             0.354730\n",
      "' And yet what a dear little puppy it was !'                                                                                                                                                                                                                                                                                                                                                                                                                                                                                                                                                   0.332620\n",
      "Once more she found herself in the long hall , and close to the little glass table .                                                                                                                                                                                                                                                                                                                                                                                                                                                                                                           0.299838\n",
      "Name: 4, dtype: float64\n"
     ]
    }
   ],
   "source": [
    "#Our SVD data reducer.  We are going to reduce the feature space from 1379 to 130.\n",
    "svd= TruncatedSVD(130)\n",
    "lsa = make_pipeline(svd, Normalizer(copy=False))\n",
    "# Run SVD on the training data, then project the training data.\n",
    "X_train_lsa = lsa.fit_transform(X_train_tfidf)\n",
    "\n",
    "variance_explained=svd.explained_variance_ratio_\n",
    "total_variance = variance_explained.sum()\n",
    "print(\"Percent variance captured by all components:\",total_variance*100)\n",
    "\n",
    "#Looking at what sorts of paragraphs our solution considers similar, for the first five identified topics\n",
    "paras_by_component=pd.DataFrame(X_train_lsa,index=X_train)\n",
    "for i in range(5):\n",
    "    print('Component {}:'.format(i))\n",
    "    print(paras_by_component.loc[:,i].sort_values(ascending=False)[0:10])"
   ]
  },
  {
   "cell_type": "code",
   "execution_count": 27,
   "metadata": {},
   "outputs": [
    {
     "data": {
      "image/png": "[encoded data removed]",
      "text/plain": [
       "<matplotlib.figure.Figure at 0x10d63ccf8>"
      ]
     },
     "metadata": {},
     "output_type": "display_data"
    },
    {
     "name": "stdout",
     "output_type": "stream",
     "text": [
      "Key:\n",
      "0 Then they both bowed low , and their curls got entangled together .\n",
      "1 ' I ' m afraid I am , sir ,' said Alice ; ' I can ' t remember things as I used  and I don ' t keep the same size for ten minutes together !'\n",
      "2 ' You are old , Father William ,' the young man said , ' And your hair has become very white ; And yet you incessantly stand on your head  Do you think , at your age , it is right ?'\n",
      "3 There was a table set out under a tree in front of the house , and the March Hare and the Hatter were having tea at it : a Dormouse was sitting between them , fast asleep , and the other two were using it as a cushion , resting their elbows on it , and talking over its head .\n",
      "4 ' Have some wine ,' the March Hare said in an encouraging tone .\n",
      "5 I gave her one , they gave him two , You gave us three or more ; They all returned from him to you , Though they were mine before .\n",
      "6 ' I believe so ,' Alice replied thoughtfully .\n",
      "7 * * * * * *\n",
      "8 ' Very true ,' said the Duchess : ' flamingoes and mustard both bite .\n",
      "9 ' I had NOT !'\n"
     ]
    }
   ],
   "source": [
    "# Compute document similarity using LSA components\n",
    "similarity = np.asarray(np.asmatrix(X_train_lsa) * np.asmatrix(X_train_lsa).T)\n",
    "#Only taking the first 10 sentences\n",
    "sim_matrix=pd.DataFrame(similarity,index=X_train).iloc[0:10,0:10]\n",
    "#Making a plot\n",
    "ax = sns.heatmap(sim_matrix,yticklabels=range(10))\n",
    "plt.show()\n",
    "\n",
    "#Generating a key for the plot.\n",
    "print('Key:')\n",
    "for i in range(10):\n",
    "    print(i,sim_matrix.index[i])"
   ]
  },
  {
   "cell_type": "markdown",
   "metadata": {},
   "source": [
    "### Did not use inverse document frequencies in the weighting"
   ]
  },
  {
   "cell_type": "code",
   "execution_count": 28,
   "metadata": {},
   "outputs": [
    {
     "name": "stdout",
     "output_type": "stream",
     "text": [
      "Number of features: 789\n",
      "Original sentence: I gave her one , they gave him two , You gave us three or more ; They all returned from him to you , Though they were mine before .\n",
      "Tf_idf vector: {'gave': 0.9486832980505138, 'returned': 0.31622776601683794}\n"
     ]
    }
   ],
   "source": [
    "#Tweaks Go Here\n",
    "X_train, X_test = train_test_split(alice_paras, test_size=0.4, random_state=0)\n",
    "\n",
    "vectorizer = TfidfVectorizer(max_df=0.5, # drop words that occur in more than half the paragraphs\n",
    "                             min_df=2, # only use words that appear at least twice\n",
    "                             stop_words='english', \n",
    "                             lowercase=True, #convert everything to lower case (since Alice in Wonderland has the HABIT of CAPITALIZING WORDS for EMPHASIS)\n",
    "                             use_idf=False,#we definitely want to use inverse document frequencies in our weighting\n",
    "                             norm=u'l2', #Applies a correction factor so that longer paragraphs and shorter paragraphs get treated equally\n",
    "                             smooth_idf=True #Adds 1 to all document frequencies, as if an extra document existed that used every word once.  Prevents divide-by-zero errors\n",
    "                            )\n",
    "\n",
    "\n",
    "#Applying the vectorizer\n",
    "alice_paras_tfidf=vectorizer.fit_transform(alice_paras)\n",
    "print(\"Number of features: %d\" % alice_paras_tfidf.get_shape()[1])\n",
    "\n",
    "#splitting into training and test sets\n",
    "X_train_tfidf, X_test_tfidf= train_test_split(alice_paras_tfidf, test_size=0.4, random_state=0)\n",
    "\n",
    "\n",
    "#Reshapes the vectorizer output into something people can read\n",
    "X_train_tfidf_csr = X_train_tfidf.tocsr()\n",
    "\n",
    "#number of paragraphs\n",
    "n = X_train_tfidf_csr.shape[0]\n",
    "#A list of dictionaries, one per paragraph\n",
    "tfidf_bypara = [{} for _ in range(0,n)]\n",
    "#List of features\n",
    "terms = vectorizer.get_feature_names()\n",
    "#for each paragraph, lists the feature words and their tf-idf scores\n",
    "for i, j in zip(*X_train_tfidf_csr.nonzero()):\n",
    "    tfidf_bypara[i][terms[j]] = X_train_tfidf_csr[i, j]\n",
    "\n",
    "#Keep in mind that the log base 2 of 1 is 0, so a tf-idf score of 0 indicates that the word was present once in that sentence.\n",
    "print('Original sentence:', X_train[5])\n",
    "print('Tf_idf vector:', tfidf_bypara[5])"
   ]
  },
  {
   "cell_type": "code",
   "execution_count": 29,
   "metadata": {
    "scrolled": false
   },
   "outputs": [
    {
     "name": "stdout",
     "output_type": "stream",
     "text": [
      "Percent variance captured by all components: 73.22403321842152\n",
      "Component 0:\n",
      "' Please , then ,' said Alice , ' how am I to get in ?'    0.943191\n",
      "' No ,' said Alice .                                       0.943191\n",
      "' No , indeed ,' said Alice .                              0.943191\n",
      "' I call it purring , not growling ,' said Alice .         0.943191\n",
      "' Nothing whatever ,' said Alice .                         0.943191\n",
      "' Nobody asked YOUR opinion ,' said Alice .                0.932573\n",
      "' I suppose so ,' said Alice .                             0.926349\n",
      "' Exactly so ,' said Alice .                               0.913681\n",
      "' Thank you ,' said Alice , ' it ' s very interesting .    0.899982\n",
      "' Then it ought to be Number One ,' said Alice .           0.895362\n",
      "Name: 0, dtype: float64\n",
      "Component 1:\n",
      "' Perhaps it hasn ' t one ,' Alice ventured to remark .                                                                                                                                      0.733243\n",
      "Alice was silent .                                                                                                                                                                           0.711485\n",
      "[ Alice ' s Adventures in Wonderland by Lewis Carroll 1865 ]                                                                                                                                 0.689436\n",
      "Poor Alice !                                                                                                                                                                                 0.684371\n",
      "Alice had been looking over his shoulder with some curiosity .                                                                                                                               0.589876\n",
      "' No , I give it up ,' Alice replied : ' what ' s the answer ?'                                                                                                                              0.588500\n",
      "Alice caught the baby with some difficulty , as it was a queer - shaped little creature , and held out its arms and legs in all directions , ' just like a star - fish ,' thought Alice .    0.582437\n",
      "' Oh , you foolish Alice !'                                                                                                                                                                  0.573719\n",
      "' I believe so ,' Alice replied thoughtfully .                                                                                                                                               0.550971\n",
      "Everybody looked at Alice .                                                                                                                                                                  0.540861\n",
      "Name: 1, dtype: float64\n",
      "Component 2:\n",
      "' You did !'                                                                                                                                                                                                                                                                                                                                                                               0.756811\n",
      "' What did they draw ?'                                                                                                                                                                                                                                                                                                                                                                    0.730486\n",
      "' What did they live on ?'                                                                                                                                                                                                                                                                                                                                                                 0.728321\n",
      "' So you did , old fellow !'                                                                                                                                                                                                                                                                                                                                                               0.656464\n",
      "' And how did you manage on the twelfth ?'                                                                                                                                                                                                                                                                                                                                                 0.654339\n",
      "' Cheshire Puss ,' she began , rather timidly , as she did not at all know whether it would like the name : however , it only grinned a little wider .                                                                                                                                                                                                                                     0.633872\n",
      "' But what did the Dormouse say ?'                                                                                                                                                                                                                                                                                                                                                         0.619462\n",
      "' Did you say pig , or fig ?'                                                                                                                                                                                                                                                                                                                                                              0.614402\n",
      "The Dormouse had closed its eyes by this time , and was going off into a doze ; but , on being pinched by the Hatter , it woke up again with a little shriek , and went on : ' that begins with an M , such as mouse - traps , and the moon , and memory , and muchness  you know you say things are \" much of a muchness \" did you ever see such a thing as a drawing of a muchness ?'    0.585881\n",
      "' So he did , so he did ,' said the Gryphon , sighing in his turn ; and both creatures hid their faces in their paws .                                                                                                                                                                                                                                                                     0.564125\n",
      "Name: 2, dtype: float64\n",
      "Component 3:\n",
      "' Oh , I know !'                                                                                                                                 0.678270\n",
      "You know the song , perhaps ?'                                                                                                                   0.633929\n",
      "' I don ' t know where Dinn may be ,' said the Mock Turtle , ' but if you ' ve seen them so often , of course you know what they ' re like .'    0.632704\n",
      "' What do you know about this business ?'                                                                                                        0.586000\n",
      "' How do you know I ' m mad ?'                                                                                                                   0.556462\n",
      "' Then , you know ,' the Mock Turtle went on , ' you throw the '                                                                                 0.518700\n",
      "' Found IT ,' the Mouse replied rather crossly : ' of course you know what \" it \" means .'                                                       0.486295\n",
      "Don ' t let him know she liked them best , For this must ever be A secret , kept from all the rest , Between yourself and me .'                  0.474045\n",
      "' Oh , I ' m not particular as to size ,' Alice hastily replied ; ' only one doesn ' t like changing so often , you know .'                      0.465710\n",
      "' I DON ' T know ,' said the Caterpillar .                                                                                                       0.456337\n",
      "Name: 3, dtype: float64\n",
      "Component 4:\n",
      "' And ever since that ,' the Hatter went on in a mournful tone , ' he won ' t do a thing I ask !                                                                                                                                                                                                                                                                                           0.456387\n",
      "The first witness was the Hatter .                                                                                                                                                                                                                                                                                                                                                         0.448501\n",
      "The Hatter shook his head mournfully .                                                                                                                                                                                                                                                                                                                                                     0.444121\n",
      "' I ' m a poor man ,' the Hatter went on , ' and most things twinkled after that  only the March Hare said '                                                                                                                                                                                                                                                                               0.440822\n",
      "The Dormouse had closed its eyes by this time , and was going off into a doze ; but , on being pinched by the Hatter , it woke up again with a little shriek , and went on : ' that begins with an M , such as mouse - traps , and the moon , and memory , and muchness  you know you say things are \" much of a muchness \" did you ever see such a thing as a drawing of a muchness ?'    0.425906\n",
      "' And be quick about it ,' added the Hatter , ' or you ' ll be asleep again before it ' s done .'                                                                                                                                                                                                                                                                                          0.415089\n",
      "' Yes , that ' s it ,' said the Hatter with a sigh : ' it ' s always tea - time , and we ' ve no time to wash the things between whiles .'                                                                                                                                                                                                                                                 0.404989\n",
      "There was a table set out under a tree in front of the house , and the March Hare and the Hatter were having tea at it : a Dormouse was sitting between them , fast asleep , and the other two were using it as a cushion , resting their elbows on it , and talking over its head .                                                                                                       0.397677\n",
      "The players all played at once without waiting for turns , quarrelling all the while , and fighting for the hedgehogs ; and in a very short time the Queen was in a furious passion , and went stamping about , and shouting ' Off with his head !'                                                                                                                                        0.394141\n",
      "' Well , I ' d hardly finished the first verse ,' said the Hatter , ' when the Queen jumped up and bawled out , \" He ' s murdering the time !                                                                                                                                                                                                                                              0.390079\n",
      "Name: 4, dtype: float64\n"
     ]
    }
   ],
   "source": [
    "#Our SVD data reducer.  We are going to reduce the feature space from 1379 to 130.\n",
    "svd= TruncatedSVD(130)\n",
    "lsa = make_pipeline(svd, Normalizer(copy=False))\n",
    "# Run SVD on the training data, then project the training data.\n",
    "X_train_lsa = lsa.fit_transform(X_train_tfidf)\n",
    "\n",
    "variance_explained=svd.explained_variance_ratio_\n",
    "total_variance = variance_explained.sum()\n",
    "print(\"Percent variance captured by all components:\",total_variance*100)\n",
    "\n",
    "#Looking at what sorts of paragraphs our solution considers similar, for the first five identified topics\n",
    "paras_by_component=pd.DataFrame(X_train_lsa,index=X_train)\n",
    "for i in range(5):\n",
    "    print('Component {}:'.format(i))\n",
    "    print(paras_by_component.loc[:,i].sort_values(ascending=False)[0:10])"
   ]
  },
  {
   "cell_type": "code",
   "execution_count": 30,
   "metadata": {},
   "outputs": [
    {
     "data": {
      "image/png": "[encoded data removed]",
      "text/plain": [
       "<matplotlib.figure.Figure at 0x10e429358>"
      ]
     },
     "metadata": {},
     "output_type": "display_data"
    },
    {
     "name": "stdout",
     "output_type": "stream",
     "text": [
      "Key:\n",
      "0 Then they both bowed low , and their curls got entangled together .\n",
      "1 ' I ' m afraid I am , sir ,' said Alice ; ' I can ' t remember things as I used  and I don ' t keep the same size for ten minutes together !'\n",
      "2 ' You are old , Father William ,' the young man said , ' And your hair has become very white ; And yet you incessantly stand on your head  Do you think , at your age , it is right ?'\n",
      "3 There was a table set out under a tree in front of the house , and the March Hare and the Hatter were having tea at it : a Dormouse was sitting between them , fast asleep , and the other two were using it as a cushion , resting their elbows on it , and talking over its head .\n",
      "4 ' Have some wine ,' the March Hare said in an encouraging tone .\n",
      "5 I gave her one , they gave him two , You gave us three or more ; They all returned from him to you , Though they were mine before .\n",
      "6 ' I believe so ,' Alice replied thoughtfully .\n",
      "7 * * * * * *\n",
      "8 ' Very true ,' said the Duchess : ' flamingoes and mustard both bite .\n",
      "9 ' I had NOT !'\n"
     ]
    }
   ],
   "source": [
    "# Compute document similarity using LSA components\n",
    "similarity = np.asarray(np.asmatrix(X_train_lsa) * np.asmatrix(X_train_lsa).T)\n",
    "#Only taking the first 10 sentences\n",
    "sim_matrix=pd.DataFrame(similarity,index=X_train).iloc[0:10,0:10]\n",
    "#Making a plot\n",
    "ax = sns.heatmap(sim_matrix,yticklabels=range(10))\n",
    "plt.show()\n",
    "\n",
    "#Generating a key for the plot.\n",
    "print('Key:')\n",
    "for i in range(10):\n",
    "    print(i,sim_matrix.index[i])"
   ]
  },
  {
   "cell_type": "markdown",
   "metadata": {
    "run_control": {
     "frozen": false,
     "read_only": false
    }
   },
   "source": [
    "LSA is one of many unsupervised methods that can be applied to text data.  There will be opportunities later to dive more deeply into this topic and encounter other methods.\n",
    "\n",
    "Although we have presented LSA as an unsupervised method, it can also be used to prepare text data for classification in supervised learning.  In that case, the goal would be to use LSA to arrive at a smaller set of features that can be used to build a supervised model that will classify text into pre-labelled categories.\n",
    "\n",
    "LSA isn't perfect- while it is good for dealing with synonyms, it cannot handle polysemy.  For that, we will need to try out a neural network approach.\n",
    "\n",
    "This assignment has a lot of moving parts- text processing, tf-idf, using single value decomposition on text, and finally interpreting the results of the LSA.  Make sure to spend enough time playing with the code to feel comfortable with all of these aspects before moving on."
   ]
  },
  {
   "cell_type": "markdown",
   "metadata": {},
   "source": [
    "## Conclusion"
   ]
  },
  {
   "cell_type": "markdown",
   "metadata": {},
   "source": [
    "Overall I found this drill interesting but also difficult to make sense of the outputs. For instance, sentences that were grouped together under component 0 seemed to deal with Alice denying or refusing something. The most change in these results happened when I removed the inverse document frequencies in the weighting. Otherwise I didn't see much of a change in these grouped sentences even when I altered the maximum and minimum document frequencies. I did see some change in the similarity matrixes between my alterations but it is hard to make much sense of it with only the first 10 sentences of the book. The Latent Semantic Analysis is very useful in it's ability to group sentences or word by their synonymous meaning or intention. I can see how this tool along with the spaCy can work together to explore the similarities or differences between various writings. "
   ]
  }
 ],
 "metadata": {
  "hide_input": false,
  "kernelspec": {
   "display_name": "Python 3",
   "language": "python",
   "name": "python3"
  },
  "language_info": {
   "codemirror_mode": {
    "name": "ipython",
    "version": 3
   },
   "file_extension": ".py",
   "mimetype": "text/x-python",
   "name": "python",
   "nbconvert_exporter": "python",
   "pygments_lexer": "ipython3",
   "version": "3.6.2"
  },
  "toc": {
   "colors": {
    "hover_highlight": "#DAA520",
    "running_highlight": "#FF0000",
    "selected_highlight": "#FFD700"
   },
   "moveMenuLeft": true,
   "nav_menu": {
    "height": "142px",
    "width": "252px"
   },
   "navigate_menu": true,
   "number_sections": true,
   "sideBar": true,
   "threshold": 4,
   "toc_cell": false,
   "toc_section_display": "block",
   "toc_window_display": false
  }
 },
 "nbformat": 4,
 "nbformat_minor": 2
}
